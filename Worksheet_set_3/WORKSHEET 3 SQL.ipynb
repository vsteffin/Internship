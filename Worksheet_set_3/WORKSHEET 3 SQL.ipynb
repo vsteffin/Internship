{
 "cells": [
  {
   "cell_type": "markdown",
   "id": "3c8c841d",
   "metadata": {},
   "source": [
    "## SQL - Answers"
   ]
  },
  {
   "cell_type": "code",
   "execution_count": 1,
   "id": "fb3fa070",
   "metadata": {},
   "outputs": [],
   "source": [
    "import sqlite3\n",
    "db = sqlite3.connect(\"customer_data.db\")\n",
    "cur = db.cursor()"
   ]
  },
  {
   "cell_type": "code",
   "execution_count": 2,
   "id": "43bdcf4c",
   "metadata": {},
   "outputs": [
    {
     "data": {
      "text/plain": [
       "<sqlite3.Cursor at 0x1d305f6e260>"
      ]
     },
     "execution_count": 2,
     "metadata": {},
     "output_type": "execute_result"
    }
   ],
   "source": [
    "#Creating table Customers\n",
    "cur.execute(\"CREATE TABLE Customers (customerNumber INT PRIMARY KEY, CustomerName TEXT, ContactLastName TEXT, ContactFirstName TEXT, phone INT, addressLine1 TEXT, addressLine2 TEXT, city TEXT, state TEXT, postalCode INT, country TEXT, salesRepEmployeeNumber INT, creditLimit FLOAT);\")"
   ]
  },
  {
   "cell_type": "code",
   "execution_count": 25,
   "id": "f95daaa1",
   "metadata": {
    "scrolled": false
   },
   "outputs": [
    {
     "data": {
      "text/plain": [
       "<sqlite3.Cursor at 0x1d305f6e260>"
      ]
     },
     "execution_count": 25,
     "metadata": {},
     "output_type": "execute_result"
    }
   ],
   "source": [
    "#Creating table Products\n",
    "cur.execute(\"CREATE TABLE Products (productCode INT PRIMARY KEY, productName TEXT, productLine TEXT, productScale TEXT, productVendor TEXT, productDescription TEXT, quantityInStock INT, buyPrice FLOAT, MSRP FLOAT);\")"
   ]
  },
  {
   "cell_type": "code",
   "execution_count": 3,
   "id": "122a8e4e",
   "metadata": {},
   "outputs": [
    {
     "data": {
      "text/plain": [
       "<sqlite3.Cursor at 0x1d305f6e260>"
      ]
     },
     "execution_count": 3,
     "metadata": {},
     "output_type": "execute_result"
    }
   ],
   "source": [
    "#Creating table Orders\n",
    "cur.execute(\"CREATE TABLE Orders(orderNumber INT PRIMARY KEY, orderDate INT, requiredDate INT, shippedDate INT, status TEXT, comments TEXT, customerNumber INT);\")"
   ]
  },
  {
   "cell_type": "code",
   "execution_count": 26,
   "id": "9a0e2986",
   "metadata": {},
   "outputs": [
    {
     "data": {
      "text/plain": [
       "<sqlite3.Cursor at 0x1d305f6e260>"
      ]
     },
     "execution_count": 26,
     "metadata": {},
     "output_type": "execute_result"
    }
   ],
   "source": [
    "#Creating table orderdetails\n",
    "cur.execute(\"CREATE TABLE Orderdetails (orderNumber INT NOT NULL PRIMARY KEY, productCode INT, quantityOrdered INT, priceEach FLOAT, orderLineNumber INT);\")"
   ]
  },
  {
   "cell_type": "code",
   "execution_count": 27,
   "id": "6c75e5b8",
   "metadata": {},
   "outputs": [
    {
     "data": {
      "text/plain": [
       "<sqlite3.Cursor at 0x1d305f6e260>"
      ]
     },
     "execution_count": 27,
     "metadata": {},
     "output_type": "execute_result"
    }
   ],
   "source": [
    "#Creating table payments\n",
    "cur.execute(\"CREATE TABLE Payments (customerNumber INT NOT NULL PRIMARY KEY, checkNumber INT, paymentDate DATE, amount INT);\")"
   ]
  },
  {
   "cell_type": "code",
   "execution_count": 28,
   "id": "0d234105",
   "metadata": {
    "scrolled": true
   },
   "outputs": [
    {
     "data": {
      "text/plain": [
       "<sqlite3.Cursor at 0x1d305f6e260>"
      ]
     },
     "execution_count": 28,
     "metadata": {},
     "output_type": "execute_result"
    }
   ],
   "source": [
    "#Creating table employees\n",
    "cur.execute (\"CREATE TABLE Employees (employeeNumber INT PRIMARY KEY, lastName TEXT, firstName TEXT, extension TEXT, email TEXT, OfficeCode TEXT, reportsTo TEXT, jobTitle TEXT);\")"
   ]
  },
  {
   "cell_type": "code",
   "execution_count": 49,
   "id": "50d7724c",
   "metadata": {},
   "outputs": [
    {
     "data": {
      "text/plain": [
       "[]"
      ]
     },
     "execution_count": 49,
     "metadata": {},
     "output_type": "execute_result"
    }
   ],
   "source": [
    "#SQL query to show all the columns data from the Orders Table.\n",
    "cur.execute(\"SELECT * FROM Orders\").fetchall()"
   ]
  },
  {
   "cell_type": "code",
   "execution_count": 51,
   "id": "400c274e",
   "metadata": {},
   "outputs": [
    {
     "data": {
      "text/plain": [
       "[]"
      ]
     },
     "execution_count": 51,
     "metadata": {},
     "output_type": "execute_result"
    }
   ],
   "source": [
    "#SQL query to show all the comments from the Orders Table.\n",
    "cur.execute(\"SELECT comments FROM Orders\").fetchall()"
   ]
  },
  {
   "cell_type": "code",
   "execution_count": 52,
   "id": "af9b1e77",
   "metadata": {},
   "outputs": [
    {
     "data": {
      "text/plain": [
       "[]"
      ]
     },
     "execution_count": 52,
     "metadata": {},
     "output_type": "execute_result"
    }
   ],
   "source": [
    "#SQL query to show orderDate and Total number of orders placed on that date, from Orderstable\n",
    "cur.execute(\" SELECT orderDate, COUNT(orderNumber) FROM Orders GROUP BY orderDate;\").fetchall()"
   ]
  },
  {
   "cell_type": "code",
   "execution_count": 29,
   "id": "b06a69d6",
   "metadata": {},
   "outputs": [
    {
     "data": {
      "text/plain": [
       "[]"
      ]
     },
     "execution_count": 29,
     "metadata": {},
     "output_type": "execute_result"
    }
   ],
   "source": [
    "#SQL query to show employeNumber, lastName, firstName of all the employees from employees table.\n",
    "cur.execute(\"SELECT employeeNumber, lastName, firstName FROM Employees\").fetchall()"
   ]
  },
  {
   "cell_type": "code",
   "execution_count": 30,
   "id": "b283cc91",
   "metadata": {},
   "outputs": [
    {
     "data": {
      "text/plain": [
       "[]"
      ]
     },
     "execution_count": 30,
     "metadata": {},
     "output_type": "execute_result"
    }
   ],
   "source": [
    "#SQL query to show all orderNumber, customerName of the person who placed the respective order.\n",
    "cur.execute(\"SELECT Orders.orderNumber, Customers.customerName FROM Customers INNER JOIN Orders ON Orders.customerNumber=Customers.customerNumber;\").fetchall()"
   ]
  },
  {
   "cell_type": "code",
   "execution_count": 33,
   "id": "83f15ddc",
   "metadata": {},
   "outputs": [
    {
     "data": {
      "text/plain": [
       "[]"
      ]
     },
     "execution_count": 33,
     "metadata": {},
     "output_type": "execute_result"
    }
   ],
   "source": [
    "#SQL query to show name of all the customers in one column and salerepemployee name in another column.\n",
    "cur.execute(\"SELECT Customers.CustomerName, Employees.firstName FROM Employees INNER JOIN Customers ON Customers.salesRepEmployeeNumber=employeeNumber;\").fetchall()"
   ]
  },
  {
   "cell_type": "code",
   "execution_count": 35,
   "id": "8531f492",
   "metadata": {},
   "outputs": [
    {
     "data": {
      "text/plain": [
       "[]"
      ]
     },
     "execution_count": 35,
     "metadata": {},
     "output_type": "execute_result"
    }
   ],
   "source": [
    "#SQL query to show Date in one column and total payment amount of the payments made on that date from the payments table.\n",
    "cur.execute(\"SELECT DATE(paymentdate), SUM(amount) AS TOTAL FROM Payments GROUP BY DATE(paymentdate);\").fetchall()"
   ]
  },
  {
   "cell_type": "code",
   "execution_count": null,
   "id": "2919ac74",
   "metadata": {},
   "outputs": [],
   "source": [
    "#SQL query to show all the products productName, MSRP, productDescription from the products table.\n",
    "cur.execute(\"SELECT productName, MSRP, productDescription FROM Products;\").fetchall()"
   ]
  },
  {
   "cell_type": "code",
   "execution_count": 37,
   "id": "750bb5b7",
   "metadata": {},
   "outputs": [
    {
     "data": {
      "text/plain": [
       "[]"
      ]
     },
     "execution_count": 37,
     "metadata": {},
     "output_type": "execute_result"
    }
   ],
   "source": [
    "#SQL query to print the productName, productDescription of the most ordered product\n",
    "cur.execute(\"SELECT Products.productName, Products.productDescription, SUM(Orderdetails.quantityOrdered) AS quantityOrdered FROM Orderdetails AS Orderdetails INNER JOIN `Products` AS Products ON Orderdetails.productCode = Products.productCode GROUP BY Orderdetails.productCode ORDER BY SUM(Orderdetails.quantityOrdered) DESC, Products.productName ASC LIMIT 3\").fetchall()"
   ]
  },
  {
   "cell_type": "code",
   "execution_count": 40,
   "id": "915ad9ae",
   "metadata": {},
   "outputs": [
    {
     "data": {
      "text/plain": [
       "[]"
      ]
     },
     "execution_count": 40,
     "metadata": {},
     "output_type": "execute_result"
    }
   ],
   "source": [
    "#SQL query to print the city name where maximum number of orders were placed.\n",
    "cur.execute(\"SELECT city FROM Customers INNER JOIN Orders on Customers.customerNumber=Orders.customerNumber GROUP BY city ORDER BY city DESC LIMIT 1;\").fetchall()"
   ]
  },
  {
   "cell_type": "code",
   "execution_count": 41,
   "id": "37c30bad",
   "metadata": {},
   "outputs": [
    {
     "data": {
      "text/plain": [
       "[]"
      ]
     },
     "execution_count": 41,
     "metadata": {},
     "output_type": "execute_result"
    }
   ],
   "source": [
    "#SQL query to get the name of the state having maximum number of customers.\n",
    "cur.execute(\"SELECT state FROM Customers GROUP BY state ORDER BY COUNT(customerNumber) DESC LIMIT 1;\").fetchall()"
   ]
  },
  {
   "cell_type": "code",
   "execution_count": 47,
   "id": "82da2a07",
   "metadata": {},
   "outputs": [
    {
     "data": {
      "text/plain": [
       "[]"
      ]
     },
     "execution_count": 47,
     "metadata": {},
     "output_type": "execute_result"
    }
   ],
   "source": [
    "#SQL query to print the employee number in one column and Full name of the employee in the second column for all the employees.\n",
    "cur.execute(\"SELECT employeeNumber, (firstName || '' || lastName) AS FullName FROM Employees ORDER BY FullName\").fetchall()"
   ]
  },
  {
   "cell_type": "code",
   "execution_count": 48,
   "id": "5b19c10b",
   "metadata": {},
   "outputs": [
    {
     "data": {
      "text/plain": [
       "[]"
      ]
     },
     "execution_count": 48,
     "metadata": {},
     "output_type": "execute_result"
    }
   ],
   "source": [
    "#SQL query to print the orderNumber, customer Name and total amount paid by the customer for that order (quantityOrdered × priceEach)\n",
    "cur.execute(\"SELECT Orders.orderNumber, Customers.customerName, Orderdetails.quantityOrdered, Orderdetails.quantityOrdered*Orderdetails.priceEach AS TotalAmount FROM ((Orders INNER JOIN Customers ON Orders.customerNumber=Customers.customerNumber) INNER JOIN Orderdetails ON Orders.orderNumber=Orderdetails.orderNumber)\").fetchall()"
   ]
  }
 ],
 "metadata": {
  "kernelspec": {
   "display_name": "Python 3 (ipykernel)",
   "language": "python",
   "name": "python3"
  },
  "language_info": {
   "codemirror_mode": {
    "name": "ipython",
    "version": 3
   },
   "file_extension": ".py",
   "mimetype": "text/x-python",
   "name": "python",
   "nbconvert_exporter": "python",
   "pygments_lexer": "ipython3",
   "version": "3.8.8"
  }
 },
 "nbformat": 4,
 "nbformat_minor": 5
}
