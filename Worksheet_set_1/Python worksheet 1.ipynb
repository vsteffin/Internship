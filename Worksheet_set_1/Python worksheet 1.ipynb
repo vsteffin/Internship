{
 "cells": [
  {
   "cell_type": "markdown",
   "id": "2c719238",
   "metadata": {},
   "source": [
    "### 11. Program to find the factorial of a number"
   ]
  },
  {
   "cell_type": "code",
   "execution_count": 1,
   "id": "29b64623",
   "metadata": {},
   "outputs": [],
   "source": [
    "#Function facto to calculate the factorial of any natural number.\n",
    "#num = Enter the number for which factorial be calculated.\n",
    "\n",
    "def facto(num):\n",
    "    i = 1\n",
    "    if (num<0 or type(num) != int):\n",
    "        print(\"Factorial is defined only for non-negative integer numbers\")\n",
    "    elif num == 0:\n",
    "        print(\"Factorial of 0 is 1\")\n",
    "    else:\n",
    "        for a in range(1,num+1):\n",
    "            i = i*a\n",
    "        print(\"Factorial of %d is %d\"%(num, i))\n",
    "        return i"
   ]
  },
  {
   "cell_type": "code",
   "execution_count": null,
   "id": "0fe29b47",
   "metadata": {},
   "outputs": [],
   "source": []
  },
  {
   "cell_type": "markdown",
   "id": "da1da529",
   "metadata": {},
   "source": [
    "### 12. Program to find whether a number is prime or composite"
   ]
  },
  {
   "cell_type": "code",
   "execution_count": 3,
   "id": "d4307d8f",
   "metadata": {},
   "outputs": [],
   "source": [
    "#Function prime to check whether any natural number is prime or composite.\n",
    "#num = Enter any natual number.\n",
    "def prime(num):\n",
    "    if (num == 0 or num == 1):\n",
    "        print (num, \"Number is neither prime nor composite\")\n",
    "    elif (num<0 or type(num) != int):\n",
    "        print (\"Enter any natural number which is whole, non-negative number.\")\n",
    "    else:\n",
    "        for i in range(2,num):\n",
    "            if (num%i == 0):\n",
    "                print (num, \" is a composite number\")\n",
    "                break\n",
    "        else:\n",
    "                print(num, \" is a prime number\")\n",
    "                "
   ]
  },
  {
   "cell_type": "code",
   "execution_count": null,
   "id": "23af83ea",
   "metadata": {},
   "outputs": [],
   "source": []
  },
  {
   "cell_type": "markdown",
   "id": "47baf3e8",
   "metadata": {},
   "source": [
    "### 13. Program to check whether a given string is palindrome or not."
   ]
  },
  {
   "cell_type": "code",
   "execution_count": 4,
   "id": "dc71bfc7",
   "metadata": {},
   "outputs": [],
   "source": [
    "#Function palin to check whether a given string is palindrome or not.\n",
    "#s = Enter a string value.\n",
    "def palin(s):\n",
    "    s = s.upper() \n",
    "    if s == s[::-1]:\n",
    "        print (s, \" is a palindrome\")\n",
    "    else:\n",
    "        print (s, \" is not a palindrome\")"
   ]
  },
  {
   "cell_type": "code",
   "execution_count": null,
   "id": "ebfb3400",
   "metadata": {},
   "outputs": [],
   "source": []
  },
  {
   "cell_type": "markdown",
   "id": "2386788a",
   "metadata": {},
   "source": [
    "### 14. Program to get the third side of right-angled triangle from two given sides."
   ]
  },
  {
   "cell_type": "code",
   "execution_count": 59,
   "id": "36da0c87",
   "metadata": {},
   "outputs": [],
   "source": [
    "#Function third_side get the third side of right-angled triangle from two given sides.\n",
    "#a = Side 1, b = Side 2, c = Hypothenuse - Give any natural numbers. \n",
    "#Enter 'x' for the missing side along with the give sides.\n",
    "\n",
    "def third_side(a,b,c):\n",
    "    if a == str('x'):\n",
    "        return (\"Side 1 is \", (((c**2)-(b**2))**0.5))\n",
    "    elif b == str('x'):\n",
    "        return (\"Side 2 is \", (((c**2)-(a**2))**0.5))\n",
    "    elif c == str('x'):\n",
    "        return (\"Hypothenuse is \", (((a**2)+(b**2))**0.5))\n",
    "    elif (type(a) == type(b) == type(c) == int):\n",
    "        return \"All sides are given\"\n",
    "    else:\n",
    "        return \"Enter valid number or missing variable as 'x'\"\n",
    "    "
   ]
  },
  {
   "cell_type": "code",
   "execution_count": null,
   "id": "dad8e6b2",
   "metadata": {},
   "outputs": [],
   "source": []
  },
  {
   "cell_type": "markdown",
   "id": "8f565f6c",
   "metadata": {},
   "source": [
    "### 15. Program to print the frequency of each of the characters present in a given string."
   ]
  },
  {
   "cell_type": "code",
   "execution_count": 78,
   "id": "ccaf2f61",
   "metadata": {},
   "outputs": [],
   "source": [
    "#Function fstr print the frequence of each of the characters present in a given string\n",
    "#str = Enter any string value.\n",
    "def fstr(str):\n",
    "    a = {}\n",
    "    for i in str:\n",
    "        if i in a:\n",
    "            a[i]+= 1\n",
    "        else:\n",
    "            a[i] = 1\n",
    "    print (\"Frequency of each characters in %s is :\\n\"%str, a)\n"
   ]
  },
  {
   "cell_type": "code",
   "execution_count": null,
   "id": "12fb3139",
   "metadata": {},
   "outputs": [],
   "source": []
  }
 ],
 "metadata": {
  "kernelspec": {
   "display_name": "Python 3 (ipykernel)",
   "language": "python",
   "name": "python3"
  },
  "language_info": {
   "codemirror_mode": {
    "name": "ipython",
    "version": 3
   },
   "file_extension": ".py",
   "mimetype": "text/x-python",
   "name": "python",
   "nbconvert_exporter": "python",
   "pygments_lexer": "ipython3",
   "version": "3.8.8"
  }
 },
 "nbformat": 4,
 "nbformat_minor": 5
}
