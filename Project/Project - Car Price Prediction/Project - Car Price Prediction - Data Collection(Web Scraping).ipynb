{
 "cells": [
  {
   "cell_type": "markdown",
   "id": "eabfeeec",
   "metadata": {},
   "source": [
    "### CAR PRICE PREDICTION"
   ]
  },
  {
   "cell_type": "markdown",
   "id": "58cfd2c5",
   "metadata": {},
   "source": [
    "### Problem Statement:\n",
    "    \n",
    "**With the covid 19 impact in the market, we have seen lot of changes in the car market. Now some\n",
    "cars are in demand hence making them costly and some are not in demand hence cheaper. One\n",
    "of our clients works with small traders, who sell used cars. With the change in market due to covid\n",
    "19 impact, our client is facing problems with their previous car price valuation machine learning\n",
    "models. So, they are looking for new machine learning models from new data. We have to make\n",
    "car price valuation model.**"
   ]
  },
  {
   "cell_type": "markdown",
   "id": "3d4270ea",
   "metadata": {},
   "source": [
    "Aim : Scrape at least 5000 used car data from websites(Olx, Cardekho, Cars24 etc.) for different locations. "
   ]
  },
  {
   "cell_type": "markdown",
   "id": "edf4f276",
   "metadata": {},
   "source": [
    "Important data to be scraped are Brand, model, variant, manufacturing year, driven kilometers, fuel, number of owners, location and\n",
    "at last target variable Price of the car. Try to include all types of cars in your data for example- SUV, Sedans, Coupe, minivan,\n",
    "Hatchback."
   ]
  },
  {
   "cell_type": "code",
   "execution_count": 178,
   "id": "86368ed4",
   "metadata": {},
   "outputs": [],
   "source": [
    "#Importing the libraries\n",
    "\n",
    "import selenium\n",
    "from selenium import webdriver\n",
    "from selenium.common.exceptions import NoSuchElementException\n",
    "from selenium.common.exceptions import ElementClickInterceptedException\n",
    "from selenium.common.exceptions import WebDriverException\n",
    "from selenium.common.exceptions import TimeoutException\n",
    "from selenium.common.exceptions import ElementNotInteractableException\n",
    "from selenium.common.exceptions import StaleElementReferenceException\n",
    "\n",
    "from selenium.webdriver.support.ui import WebDriverWait\n",
    "from selenium.webdriver.support import expected_conditions as EC\n",
    "from selenium.webdriver.common.by import By\n",
    "\n",
    "\n",
    "import pandas as pd\n",
    "import re\n",
    "import time\n",
    "\n",
    "import warnings\n",
    "warnings.filterwarnings('ignore')"
   ]
  },
  {
   "cell_type": "markdown",
   "id": "d71758fd",
   "metadata": {},
   "source": [
    "We are collecting the data from the below popular cities:\n",
    "    \n",
    "`New Delhi`\n",
    "`Noida`\n",
    "`Gurgaon`\n",
    "`Mumbai`\n",
    "`Pune`\n",
    "`Bengaluru`\n",
    "`Hyderabad`\n",
    "`Chennai`\n",
    "`Kerala`\n",
    "`Ahmedabad`"
   ]
  },
  {
   "cell_type": "markdown",
   "id": "580d59ee",
   "metadata": {},
   "source": [
    "Details to be scraped:\n",
    "\n",
    "`Brand`\n",
    "`Model`\n",
    "`Manufacturing year`\n",
    "`Driven km`\n",
    "`Fuel type`\n",
    "`Number of owners`\n",
    "`Location`\n",
    "`Car price`"
   ]
  },
  {
   "cell_type": "markdown",
   "id": "8f8a187d",
   "metadata": {},
   "source": [
    "We are going to collect details of 200 car details for each cities from three websites."
   ]
  },
  {
   "cell_type": "code",
   "execution_count": 2,
   "id": "dd6a7d21",
   "metadata": {},
   "outputs": [],
   "source": [
    "chrome_options = webdriver.ChromeOptions()\n",
    "chrome_options.add_argument(\"--incognito\")\n",
    "\n",
    "driver = webdriver.Chrome('chromedriver.exe',chrome_options=chrome_options)\n",
    "driver.maximize_window()\n",
    "time.sleep(1)"
   ]
  },
  {
   "cell_type": "markdown",
   "id": "463cb736",
   "metadata": {},
   "source": [
    "#### Collecting Used Car Data From OLX.in"
   ]
  },
  {
   "cell_type": "code",
   "execution_count": 3,
   "id": "0286f56d",
   "metadata": {},
   "outputs": [
    {
     "name": "stdout",
     "output_type": "stream",
     "text": [
      "2000\n"
     ]
    }
   ],
   "source": [
    "Locations = ['Delhi', 'Kerala', 'Gurgaon', 'Mumbai', 'Pune', 'Bengaluru', 'Hyderabad', 'Chennai', 'Kolkata', 'Ahmedabad']\n",
    "url_olx = []\n",
    "\n",
    "for i in Locations:\n",
    "    \n",
    "    driver.get(\"https://www.olx.in\")\n",
    "    time.sleep(2)\n",
    "    \n",
    "    #Launching the page \"Cars\"\n",
    "    cars_page = driver.find_element_by_xpath(\"//div[@id = 'container']/div[1]/div/div/div[1]/div[2]/div[1]/a/span\")\n",
    "    cars_page.click()\n",
    "    time.sleep(1)\n",
    "\n",
    "    location_input = driver.find_element_by_xpath(\"//div[@id = 'container']/header/div/div/div[2]/div/div/div[1]/div/div[1]/input\")\n",
    "    location_input.click()\n",
    "\n",
    "    location_input.send_keys(i)\n",
    "    time.sleep(3)\n",
    "\n",
    "    location_click = driver.find_element_by_xpath(\"//div[@id = 'container']/header/div/div/div[2]/div/div/div[1]/div/div[2]/div/div/div[1]/div/span\")\n",
    "    location_click.click()\n",
    "\n",
    "    #Clicking the load more button to get required number of data from the websites\n",
    "    url_loc = []\n",
    "    while len(url_loc)<200:\n",
    "        url_loc = []\n",
    "        \n",
    "        try:\n",
    "            time.sleep(3)\n",
    "            load_more = driver.find_element_by_xpath(\"//button[@data-aut-id = 'btnLoadMore']\")\n",
    "            load_more.click()\n",
    "        except NoSuchElementException as e:\n",
    "            height = driver.execute_script(\"return document.body.scrollHeight\")\n",
    "            driver.execute_script(\"window.scrollTo(0, {})\".format(height-2000))\n",
    "            load_more = driver.find_element_by_xpath(\"//button[@data-aut-id = 'btnLoadMore']\")\n",
    "            load_more.click()\n",
    "        \n",
    "        time.sleep(2)\n",
    "        url_tags = driver.find_elements_by_xpath(\"//ul[@class = 'c1gK9 _1Xvo7']/li/a\")\n",
    "        for ur in url_tags:\n",
    "            url_loc.append(ur.get_attribute('href'))\n",
    "    url_loc = url_loc[:200]    \n",
    "    url_olx.extend(url_loc)\n",
    "\n",
    "    \n",
    "print(len(url_olx))"
   ]
  },
  {
   "cell_type": "markdown",
   "id": "18c99797",
   "metadata": {},
   "source": [
    "We have scraped the URLs for 2000 cars for different locations from Olx.in. Now we can scrape the required information for each cars from the URLs."
   ]
  },
  {
   "cell_type": "code",
   "execution_count": 4,
   "id": "fcc1396f",
   "metadata": {},
   "outputs": [],
   "source": [
    "driver.close()"
   ]
  },
  {
   "cell_type": "code",
   "execution_count": 5,
   "id": "5ec33c86",
   "metadata": {},
   "outputs": [],
   "source": [
    "brand_olx = []\n",
    "model_olx = []\n",
    "man_year_olx = []\n",
    "driven_km_olx = []\n",
    "fuel_type_olx = []\n",
    "owners_olx = []\n",
    "car_loc_olx = []\n",
    "car_price_olx = []\n",
    "\n",
    "brand_olx_temp = []\n",
    "model_olx_temp = []\n",
    "man_year_olx_temp = []\n",
    "driven_km_olx_temp = []\n",
    "fuel_type_olx_temp = []\n",
    "owners_olx_temp = []\n",
    "car_loc_olx_temp = []\n",
    "car_price_olx_temp = []"
   ]
  },
  {
   "cell_type": "code",
   "execution_count": 13,
   "id": "0950c11b",
   "metadata": {},
   "outputs": [],
   "source": [
    "delay = 10  #seconds\n",
    "\n",
    "\n",
    "\n",
    "def olx_temp(a,b):\n",
    "    chrome_options = webdriver.ChromeOptions()\n",
    "    chrome_options.add_argument(\"--incognito\")\n",
    "\n",
    "    driver = webdriver.Chrome('chromedriver.exe',chrome_options=chrome_options)\n",
    "    driver.maximize_window()\n",
    "    time.sleep(1)\n",
    "    global brand_olx_temp, model_olx_temp, man_year_olx_temp, driven_km_olx_temp, fuel_type_olx_temp, owners_olx_temp, car_loc_olx_temp, car_price_olx_temp\n",
    "    brand_olx_temp = []\n",
    "    model_olx_temp = []\n",
    "    man_year_olx_temp = []\n",
    "    driven_km_olx_temp = []\n",
    "    fuel_type_olx_temp = []\n",
    "    owners_olx_temp = []\n",
    "    car_loc_olx_temp = []\n",
    "    car_price_olx_temp = []\n",
    "    \n",
    "    for i in url_olx[a:b]:\n",
    "        if len(car_price_olx_temp)%50 ==0:\n",
    "            driver.close()\n",
    "\n",
    "            chrome_options = webdriver.ChromeOptions()\n",
    "            chrome_options.add_argument(\"--incognito\")\n",
    "\n",
    "            driver = webdriver.Chrome('chromedriver.exe',chrome_options=chrome_options)\n",
    "            driver.maximize_window()\n",
    "            time.sleep(2)\n",
    "            \n",
    "\n",
    "        try:\n",
    "            try:\n",
    "                time.sleep(3)\n",
    "                driver.get(i)\n",
    "            except (WebDriverException, TimeoutException) as e:\n",
    "                WebDriverWait(driver,2)\n",
    "                driver.get(i)\n",
    "                WebDriverWait(driver,delay).until(EC.presence_of_element_located((By.CSS_SELECTOR,'section:nth-child(2)')))\n",
    "                driver.execute_script(\"window.scrollTo(0, 500)\")\n",
    "                WebDriverWait(driver,1)\n",
    "        except (WebDriverException) as e:\n",
    "            WebDriverWait(driver,2)\n",
    "            driver.get(i)\n",
    "            WebDriverWait(driver,delay).until(EC.presence_of_element_located((By.CSS_SELECTOR,'section:nth-child(2)')))\n",
    "            driver.execute_script(\"window.scrollTo(0, 500)\")\n",
    "            WebDriverWait(driver,1)\n",
    "\n",
    "        try:\n",
    "            try:\n",
    "                WebDriverWait(driver,delay).until(EC.presence_of_element_located((By.CSS_SELECTOR,'section:nth-child(2)')))\n",
    "                brand_tag = driver.find_element_by_css_selector(\"div.sE139 > div:nth-child(1) > div > div > div._35xN1\").text\n",
    "                keyword = re.compile(r\"([A-Za-z]+) \")\n",
    "                brand_name = []\n",
    "                brand_name = keyword.findall(str(brand_tag))\n",
    "                br = []\n",
    "                for i in brand_name:\n",
    "                    br.extend(i.replace(\" \",\"\").split(\",\"))\n",
    "                brand_olx_temp.append(br[0])\n",
    "            except (NoSuchElementException,TimeoutException) as e:\n",
    "                brand_olx_temp.append(\"--\")\n",
    "        except WebDriverException as e:\n",
    "            WebDriverWait(driver,delay).until(EC.presence_of_element_located((By.CSS_SELECTOR,'section:nth-child(2)')))\n",
    "            brand_tag = driver.find_element_by_css_selector(\"div.sE139 > div:nth-child(1) > div > div > div._35xN1\").text\n",
    "            keyword = re.compile(r\"([A-Za-z]+) \")\n",
    "            brand_name = []\n",
    "            brand_name = keyword.findall(str(brand_tag))\n",
    "            br = []\n",
    "            for i in brand_name:\n",
    "                br.extend(i.replace(\" \",\"\").split(\",\"))\n",
    "            brand_olx_temp.append(br[0])\n",
    "\n",
    "\n",
    "        try:\n",
    "            try:\n",
    "                WebDriverWait(driver,delay).until(EC.presence_of_element_located((By.CSS_SELECTOR,'section:nth-child(2)')))\n",
    "                model_tags = driver.find_element_by_css_selector(\"div.sE139 > div:nth-child(1) > div > div > div._35xN1\").text\n",
    "                keyword = re.compile(r\"\\s+[\\(0-9]+\\)\")\n",
    "                model_name = keyword.sub(\"\",str(model_tags))\n",
    "                model_olx_temp.append(model_name.replace(br[0],\"\")[1:])\n",
    "            except (NoSuchElementException,TimeoutException) as e:\n",
    "                model_olx_temp.append(\"--\")\n",
    "        except WebDriverException as e:\n",
    "            WebDriverWait(driver,delay).until(EC.presence_of_element_located((By.CSS_SELECTOR,'section:nth-child(2)')))\n",
    "            model_tags = driver.find_element_by_css_selector(\"div.sE139 > div:nth-child(1) > div > div > div._35xN1\").text\n",
    "            keyword = re.compile(r\"\\s+[\\(0-9]+\\)\")\n",
    "            model_name = keyword.sub(\"\",str(model_tags))\n",
    "            model_olx_temp.append(model_name.replace(br[0],\"\")[1:])\n",
    "\n",
    "\n",
    "        try:\n",
    "            try:\n",
    "                WebDriverWait(driver,delay).until(EC.presence_of_element_located((By.CSS_SELECTOR,'section:nth-child(2)')))\n",
    "                man_year_tags = driver.find_element_by_css_selector(\"div.sE139 > div:nth-child(1) > div > div > div._35xN1\").text\n",
    "                keyword = re.compile(r\"([\\(]+[0-9]+)\")\n",
    "                man_year_name = keyword.finditer(str(man_year_tags))\n",
    "                for i in man_year_name:\n",
    "                    man_year_olx_temp.append(i.group(0).replace(\"(\",\"\"))\n",
    "            except (NoSuchElementException,TimeoutException) as e:\n",
    "                man_year_olx_temp.append(\"--\")\n",
    "        except WebDriverException as e:\n",
    "            WebDriverWait(driver,delay).until(EC.presence_of_element_located((By.CSS_SELECTOR,'section:nth-child(2)')))\n",
    "            man_year_tags = driver.find_element_by_css_selector(\"div.sE139 > div:nth-child(1) > div > div > div._35xN1\").text\n",
    "            keyword = re.compile(r\"([\\(]+[0-9]+)\")\n",
    "            man_year_name = keyword.finditer(str(man_year_tags))\n",
    "            for i in man_year_name:\n",
    "                man_year_olx_temp.append(i.group(0).replace(\"(\",\"\"))\n",
    "  \n",
    "        try:\n",
    "            try:\n",
    "                WebDriverWait(driver,delay).until(EC.presence_of_element_located((By.CSS_SELECTOR,'section:nth-child(2)')))\n",
    "                driven_km_tags = driver.find_element_by_css_selector(\"div.sE139 > div:nth-child(1) > div._3B8tc.i91uu > div > div.aOxkz > div:nth-child(2) > div\").text\n",
    "                driven_km_olx_temp.append(driven_km_tags.replace(\" KM\",\"\"))\n",
    "            except (NoSuchElementException,TimeoutException) as e:\n",
    "                driven_km_olx_temp.append(\"--\")\n",
    "        except WebDriverException as e:\n",
    "            WebDriverWait(driver,delay).until(EC.presence_of_element_located((By.CSS_SELECTOR,'section:nth-child(2)')))\n",
    "            driven_km_tags = driver.find_element_by_css_selector(\"div.sE139 > div:nth-child(1) > div._3B8tc.i91uu > div > div.aOxkz > div:nth-child(2) > div\").text\n",
    "            driven_km_olx_temp.append(driven_km_tags.replace(\" KM\",\"\"))\n",
    "\n",
    "        \n",
    "        try:\n",
    "            try:\n",
    "                WebDriverWait(driver,delay).until(EC.presence_of_element_located((By.CSS_SELECTOR,'section:nth-child(2)')))\n",
    "                fuel_type_tags = driver.find_element_by_css_selector(\"div.sE139 > div:nth-child(1) > div > div > div.aOxkz > div:nth-child(1) > div\").text\n",
    "                fuel_type_olx_temp.append(fuel_type_tags)\n",
    "            except (NoSuchElementException,TimeoutException) as e:\n",
    "                fuel_type_olx_temp.append(\"--\")\n",
    "        except WebDriverException as e:\n",
    "            WebDriverWait(driver,delay).until(EC.presence_of_element_located((By.CSS_SELECTOR,'section:nth-child(2)')))\n",
    "            fuel_type_tags = driver.find_element_by_css_selector(\"div.sE139 > div:nth-child(1) > div > div > div.aOxkz > div:nth-child(1) > div\").text\n",
    "            fuel_type_olx_temp.append(fuel_type_tags)\n",
    "\n",
    "\n",
    "        try:\n",
    "            try:\n",
    "                WebDriverWait(driver,delay).until(EC.presence_of_element_located((By.CSS_SELECTOR,'section:nth-child(2)')))\n",
    "                owner_tags = driver.find_element_by_css_selector(\"div.sE139 > div:nth-child(2) > div > div:nth-child(3) > div > div:nth-child(1) > div._1idEV > div._1gasz\").text\n",
    "                owners_olx_temp.append(owner_tags)\n",
    "            except (NoSuchElementException,TimeoutException) as e:\n",
    "                owners_olx_temp.append(\"--\")\n",
    "        except WebDriverException as e:\n",
    "            WebDriverWait(driver,delay).until(EC.presence_of_element_located((By.CSS_SELECTOR,'section:nth-child(2)')))\n",
    "            owner_tags = driver.find_element_by_css_selector(\"div.sE139 > div:nth-child(2) > div > div:nth-child(3) > div > div:nth-child(1) > div._1idEV > div._1gasz\").text\n",
    "            owners_olx_temp.append(owner_tags)\n",
    "\n",
    "\n",
    "        try:\n",
    "            try:\n",
    "                WebDriverWait(driver,delay).until(EC.presence_of_element_located((By.CSS_SELECTOR,'section:nth-child(2)')))\n",
    "                car_loc_tag = driver.find_element_by_css_selector(\"div._3S9Vi._1tOAI > div._1cMxH > div.BfeRg > div._5iGXa.mwOt2 > div._2flnz > div.ZGU9S > div\").text\n",
    "                car_loc_olx_temp.append(car_loc_tag)\n",
    "            except (NoSuchElementException,TimeoutException) as e:\n",
    "                car_loc_olx_temp.append(\"--\")\n",
    "        except WebDriverException as e:\n",
    "            WebDriverWait(driver,delay).until(EC.presence_of_element_located((By.CSS_SELECTOR,'section:nth-child(2)')))\n",
    "            car_loc_tag = driver.find_element_by_css_selector(\"div._3S9Vi._1tOAI > div._1cMxH > div.BfeRg > div._5iGXa.mwOt2 > div._2flnz > div.ZGU9S > div\").text\n",
    "            car_loc_olx_temp.append(car_loc_tag)\n",
    "\n",
    "        try:\n",
    "            try:\n",
    "                WebDriverWait(driver,delay).until(EC.presence_of_element_located((By.CSS_SELECTOR,'section:nth-child(2)')))\n",
    "                car_price_tag = driver.find_element_by_css_selector(\"div._1cMxH > div._1Jl6c > div > div._3FkyT\").text\n",
    "                car_price_olx_temp.append(car_price_tag.replace(\"₹ \",\"\").replace(\",\",\"\"))\n",
    "            except (NoSuchElementException,TimeoutException) as e:\n",
    "                car_price_olx_temp.append(\"--\")\n",
    "        except WebDriverException as e:\n",
    "            WebDriverWait(driver,delay).until(EC.presence_of_element_located((By.CSS_SELECTOR,'section:nth-child(2)')))\n",
    "            car_price_tag = driver.find_element_by_css_selector(\"div._1cMxH > div._1Jl6c > div > div._3FkyT\").text\n",
    "            car_price_olx_temp.append(car_price_tag.replace(\"₹ \",\"\").replace(\",\",\"\"))\n",
    "        WebDriverWait(driver,1)\n",
    "    print(len(brand_olx_temp))\n",
    "    print(len(model_olx_temp))        \n",
    "    print(len(man_year_olx_temp))\n",
    "    print(len(driven_km_olx_temp))\n",
    "    print(len(fuel_type_olx_temp))\n",
    "    print(len(owners_olx_temp))\n",
    "    print(len(car_loc_olx_temp))\n",
    "    print(len(car_price_olx_temp))\n"
   ]
  },
  {
   "cell_type": "code",
   "execution_count": 14,
   "id": "eabebd97",
   "metadata": {},
   "outputs": [],
   "source": [
    "def olx():\n",
    "    for brand,model,man_year,driven_km,fuel_type,owners,car_loc,car_price in zip(brand_olx_temp,model_olx_temp,man_year_olx_temp,driven_km_olx_temp,fuel_type_olx_temp,owners_olx_temp,car_loc_olx_temp,car_price_olx_temp):\n",
    "        brand_olx.append(brand)\n",
    "        model_olx.append(model)\n",
    "        man_year_olx.append(man_year)\n",
    "        driven_km_olx.append(driven_km)\n",
    "        fuel_type_olx.append(fuel_type)\n",
    "        owners_olx.append(owners)\n",
    "        car_loc_olx.append(car_loc)\n",
    "        car_price_olx.append(car_price)\n",
    "    print(len(brand_olx))\n",
    "    print(len(model_olx))\n",
    "    print(len(man_year_olx))\n",
    "    print(len(driven_km_olx))\n",
    "    print(len(fuel_type_olx))\n",
    "    print(len(owners_olx))\n",
    "    print(len(car_loc_olx))\n",
    "    print(len(car_price_olx))"
   ]
  },
  {
   "cell_type": "code",
   "execution_count": 15,
   "id": "2a46194a",
   "metadata": {},
   "outputs": [
    {
     "name": "stdout",
     "output_type": "stream",
     "text": [
      "200\n",
      "200\n",
      "200\n",
      "200\n",
      "200\n",
      "200\n",
      "200\n",
      "200\n"
     ]
    }
   ],
   "source": [
    "olx_temp(0,200)"
   ]
  },
  {
   "cell_type": "code",
   "execution_count": 18,
   "id": "aedcb456",
   "metadata": {},
   "outputs": [
    {
     "name": "stdout",
     "output_type": "stream",
     "text": [
      "200\n",
      "200\n",
      "200\n",
      "200\n",
      "200\n",
      "200\n",
      "200\n",
      "200\n"
     ]
    }
   ],
   "source": [
    "olx()"
   ]
  },
  {
   "cell_type": "code",
   "execution_count": 19,
   "id": "39abff66",
   "metadata": {},
   "outputs": [
    {
     "name": "stdout",
     "output_type": "stream",
     "text": [
      "200\n",
      "200\n",
      "200\n",
      "200\n",
      "200\n",
      "200\n",
      "200\n",
      "200\n"
     ]
    }
   ],
   "source": [
    "olx_temp(200,400)"
   ]
  },
  {
   "cell_type": "code",
   "execution_count": 20,
   "id": "9efb2c44",
   "metadata": {},
   "outputs": [
    {
     "name": "stdout",
     "output_type": "stream",
     "text": [
      "400\n",
      "400\n",
      "400\n",
      "400\n",
      "400\n",
      "400\n",
      "400\n",
      "400\n"
     ]
    }
   ],
   "source": [
    "olx()"
   ]
  },
  {
   "cell_type": "code",
   "execution_count": 21,
   "id": "e4cea229",
   "metadata": {},
   "outputs": [
    {
     "name": "stdout",
     "output_type": "stream",
     "text": [
      "200\n",
      "200\n",
      "200\n",
      "200\n",
      "200\n",
      "200\n",
      "200\n",
      "200\n"
     ]
    }
   ],
   "source": [
    "olx_temp(400,600)"
   ]
  },
  {
   "cell_type": "code",
   "execution_count": 22,
   "id": "23efd8bf",
   "metadata": {},
   "outputs": [
    {
     "name": "stdout",
     "output_type": "stream",
     "text": [
      "600\n",
      "600\n",
      "600\n",
      "600\n",
      "600\n",
      "600\n",
      "600\n",
      "600\n"
     ]
    }
   ],
   "source": [
    "olx()"
   ]
  },
  {
   "cell_type": "code",
   "execution_count": 23,
   "id": "feb2bcb2",
   "metadata": {},
   "outputs": [
    {
     "name": "stdout",
     "output_type": "stream",
     "text": [
      "200\n",
      "200\n",
      "200\n",
      "200\n",
      "200\n",
      "200\n",
      "200\n",
      "200\n"
     ]
    }
   ],
   "source": [
    "olx_temp(600,800)"
   ]
  },
  {
   "cell_type": "code",
   "execution_count": 24,
   "id": "21a666d9",
   "metadata": {},
   "outputs": [
    {
     "name": "stdout",
     "output_type": "stream",
     "text": [
      "800\n",
      "800\n",
      "800\n",
      "800\n",
      "800\n",
      "800\n",
      "800\n",
      "800\n"
     ]
    }
   ],
   "source": [
    "olx()"
   ]
  },
  {
   "cell_type": "code",
   "execution_count": 25,
   "id": "bb621bbe",
   "metadata": {},
   "outputs": [
    {
     "name": "stdout",
     "output_type": "stream",
     "text": [
      "200\n",
      "200\n",
      "200\n",
      "200\n",
      "200\n",
      "200\n",
      "200\n",
      "200\n"
     ]
    }
   ],
   "source": [
    "olx_temp(800,1000)"
   ]
  },
  {
   "cell_type": "code",
   "execution_count": 26,
   "id": "e840d88e",
   "metadata": {},
   "outputs": [
    {
     "name": "stdout",
     "output_type": "stream",
     "text": [
      "1000\n",
      "1000\n",
      "1000\n",
      "1000\n",
      "1000\n",
      "1000\n",
      "1000\n",
      "1000\n"
     ]
    }
   ],
   "source": [
    "olx()"
   ]
  },
  {
   "cell_type": "code",
   "execution_count": 28,
   "id": "e9d9ce78",
   "metadata": {},
   "outputs": [
    {
     "name": "stdout",
     "output_type": "stream",
     "text": [
      "200\n",
      "200\n",
      "200\n",
      "200\n",
      "200\n",
      "200\n",
      "200\n",
      "200\n"
     ]
    }
   ],
   "source": [
    "olx_temp(1000,1200)"
   ]
  },
  {
   "cell_type": "code",
   "execution_count": 29,
   "id": "c0f55895",
   "metadata": {},
   "outputs": [
    {
     "name": "stdout",
     "output_type": "stream",
     "text": [
      "1200\n",
      "1200\n",
      "1200\n",
      "1200\n",
      "1200\n",
      "1200\n",
      "1200\n",
      "1200\n"
     ]
    }
   ],
   "source": [
    "olx()"
   ]
  },
  {
   "cell_type": "code",
   "execution_count": 30,
   "id": "e8811854",
   "metadata": {},
   "outputs": [
    {
     "name": "stdout",
     "output_type": "stream",
     "text": [
      "200\n",
      "200\n",
      "200\n",
      "200\n",
      "200\n",
      "200\n",
      "200\n",
      "200\n"
     ]
    }
   ],
   "source": [
    "olx_temp(1200,1400)"
   ]
  },
  {
   "cell_type": "code",
   "execution_count": 31,
   "id": "ca898ce3",
   "metadata": {},
   "outputs": [
    {
     "name": "stdout",
     "output_type": "stream",
     "text": [
      "1400\n",
      "1400\n",
      "1400\n",
      "1400\n",
      "1400\n",
      "1400\n",
      "1400\n",
      "1400\n"
     ]
    }
   ],
   "source": [
    "olx()"
   ]
  },
  {
   "cell_type": "code",
   "execution_count": 33,
   "id": "dadc69f6",
   "metadata": {},
   "outputs": [
    {
     "name": "stdout",
     "output_type": "stream",
     "text": [
      "200\n",
      "200\n",
      "200\n",
      "200\n",
      "200\n",
      "200\n",
      "200\n",
      "200\n"
     ]
    }
   ],
   "source": [
    "olx_temp(1400,1600)"
   ]
  },
  {
   "cell_type": "code",
   "execution_count": 34,
   "id": "bd2ce651",
   "metadata": {},
   "outputs": [
    {
     "name": "stdout",
     "output_type": "stream",
     "text": [
      "1600\n",
      "1600\n",
      "1600\n",
      "1600\n",
      "1600\n",
      "1600\n",
      "1600\n",
      "1600\n"
     ]
    }
   ],
   "source": [
    "olx()"
   ]
  },
  {
   "cell_type": "code",
   "execution_count": 35,
   "id": "7f896706",
   "metadata": {},
   "outputs": [
    {
     "name": "stdout",
     "output_type": "stream",
     "text": [
      "200\n",
      "200\n",
      "200\n",
      "200\n",
      "200\n",
      "200\n",
      "200\n",
      "200\n"
     ]
    }
   ],
   "source": [
    "olx_temp(1600,1800)"
   ]
  },
  {
   "cell_type": "code",
   "execution_count": 36,
   "id": "448103f9",
   "metadata": {},
   "outputs": [
    {
     "name": "stdout",
     "output_type": "stream",
     "text": [
      "1800\n",
      "1800\n",
      "1800\n",
      "1800\n",
      "1800\n",
      "1800\n",
      "1800\n",
      "1800\n"
     ]
    }
   ],
   "source": [
    "olx()"
   ]
  },
  {
   "cell_type": "code",
   "execution_count": 38,
   "id": "6e177ff8",
   "metadata": {},
   "outputs": [
    {
     "name": "stdout",
     "output_type": "stream",
     "text": [
      "200\n",
      "200\n",
      "200\n",
      "200\n",
      "200\n",
      "200\n",
      "200\n",
      "200\n"
     ]
    }
   ],
   "source": [
    "olx_temp(1800,2000)"
   ]
  },
  {
   "cell_type": "code",
   "execution_count": 39,
   "id": "8a0c8851",
   "metadata": {},
   "outputs": [
    {
     "name": "stdout",
     "output_type": "stream",
     "text": [
      "2000\n",
      "2000\n",
      "2000\n",
      "2000\n",
      "2000\n",
      "2000\n",
      "2000\n",
      "2000\n"
     ]
    }
   ],
   "source": [
    "olx()"
   ]
  },
  {
   "cell_type": "markdown",
   "id": "74f11f41",
   "metadata": {},
   "source": [
    "We have scraped data for 2000 used cars from Olx.in."
   ]
  },
  {
   "cell_type": "markdown",
   "id": "35921736",
   "metadata": {},
   "source": [
    "#### Collecting Data from Cardekho.com"
   ]
  },
  {
   "cell_type": "code",
   "execution_count": 41,
   "id": "8dbcefee",
   "metadata": {},
   "outputs": [
    {
     "name": "stdout",
     "output_type": "stream",
     "text": [
      "2000\n"
     ]
    }
   ],
   "source": [
    "Locations = ['Delhi', 'Noida', 'Gurgaon', 'Mumbai', 'Pune', 'Bengaluru', 'Hyderabad', 'Chennai', 'Kerala', 'Ahmedabad']\n",
    "url_cardekho = []\n",
    "\n",
    "chrome_options = webdriver.ChromeOptions()\n",
    "chrome_options.add_argument(\"--incognito\")\n",
    "\n",
    "driver = webdriver.Chrome('chromedriver.exe',chrome_options=chrome_options)\n",
    "driver.maximize_window()\n",
    "time.sleep(1)\n",
    "    \n",
    "for i in Locations:\n",
    "    driver.get(\"https://www.cardekho.com\")\n",
    "    time.sleep(3)\n",
    "    \n",
    "    #Clicking the Category - Used Car\n",
    "\n",
    "    try:\n",
    "        WebDriverWait(driver,delay).until(EC.presence_of_element_located((By.CSS_SELECTOR,'li:nth-child(2)')))\n",
    "        used_car_menu = driver.find_element_by_css_selector(\"div > nav > ul > li:nth-child(2) > span > span\")\n",
    "        used_car_menu.click()\n",
    "        time.sleep(1)\n",
    "    except (WebDriverException,TimeoutException) as e:\n",
    "        used_car_menu = driver.find_element_by_css_selector(\"div > nav > ul > li:nth-child(2) > span > span\")\n",
    "        used_car_menu.click()\n",
    "        time.sleep(1)\n",
    "    \n",
    "\n",
    "    try:\n",
    "        try:        \n",
    "            car_dekho_used = driver.find_element_by_xpath(\"//div[@id= 'rf01']/header/div[2]/div/div/nav/ul/li[2]/ul/li[2]/a/span\")\n",
    "            car_dekho_used.click()\n",
    "            \n",
    "        except (ElementNotInteractableException,NoSuchElementException,TimeoutException) as e:\n",
    "            used_car_menu.click()\n",
    "            time.sleep(1)\n",
    "            car_dekho_used = driver.find_element_by_css_selector(\"li.mainMenu.current > ul > li:nth-child(2) > a > span\")\n",
    "            car_dekho_used.click()\n",
    "    except (NoSuchElementException,WebDriverException) as e:\n",
    "        time.sleep(1)\n",
    "        car_dekho_used = driver.find_element_by_xpath(\"//div[@id= 'rf01']/header/div[2]/div/div/nav/ul/li[2]/ul/li[2]/a/span\")\n",
    "        car_dekho_used.click()\n",
    "        \n",
    "    \n",
    "    #Clicking the location\n",
    "    try:\n",
    "        try:\n",
    "            WebDriverWait(driver,delay).until(EC.presence_of_element_located((By.CSS_SELECTOR,'div.inputfield')))\n",
    "            location_button = driver.find_element_by_css_selector(\"div.gsc_col-xs-12.gsc_col-sm-12.gsc_col-md-4.gsc_col-lg-3.BookingfilterPanel.stickyfilter > div > div:nth-child(1) > div:nth-child(1) > div.inputfield > input[type=text]\")\n",
    "            location_button.click()\n",
    "        except NoSuchElementException as e:\n",
    "            time.sleep(1)\n",
    "            WebDriverWait(driver,delay).until(EC.presence_of_element_located((By.CSS_SELECTOR,'div.inputfield')))\n",
    "            location_button = driver.find_element_by_css_selector(\"div.gsc_col-xs-12.gsc_col-sm-12.gsc_col-md-4.gsc_col-lg-3.BookingfilterPanel.stickyfilter > div > div:nth-child(1) > div:nth-child(1) > div.inputfield > input[type=text]\")\n",
    "            location_button.click()\n",
    "            \n",
    "    except (ElementClickInterceptedException,NoSuchElementException,TimeoutException) as e:\n",
    "        time.sleep(1)\n",
    "        WebDriverWait(driver,delay).until(EC.presence_of_element_located((By.CSS_SELECTOR,'div.gsc_closeBtn')))\n",
    "        driver.find_element_by_css_selector(\"div.gsc_row > div:nth-child(3) > div.sortByPanel.hidden-lg.hidden-md.hidden-sm.hidden-xs > div.gsc_closeBtn\").click()\n",
    "        location_button = driver.find_element_by_css_selector(\"div.gsc_col-xs-12.gsc_col-sm-12.gsc_col-md-4.gsc_col-lg-3.BookingfilterPanel.stickyfilter > div > div:nth-child(1) > div:nth-child(1) > div.inputfield > input[type=text]\")\n",
    "        location_button.click()\n",
    "        \n",
    "        \n",
    "        \n",
    "    #Location_input\n",
    "    time.sleep(1)\n",
    "    WebDriverWait(driver,delay).until(EC.presence_of_element_located((By.ID,'autocomplete')))\n",
    "    location_input = driver.find_element_by_id(\"autocomplete\")\n",
    "    location_input.send_keys(i)\n",
    "    \n",
    "    #Selecting Location\n",
    "    try:\n",
    "        WebDriverWait(driver,delay).until(EC.presence_of_element_located((By.CSS_SELECTOR,'span.pac-item-query')))\n",
    "        time.sleep(1)\n",
    "        select_location = driver.find_element_by_css_selector(\"div.pac-container.pac-logo > div:nth-child(1) > span.pac-item-query > span\")\n",
    "        select_location.click()\n",
    "    except (NoSuchElementException,TimeoutException) as e:\n",
    "        time.sleep(1)\n",
    "        select_location = driver.find_element_by_css_selector(\"div.pac-container.pac-logo > div:nth-child(1) > span.pac-item-query > span\")\n",
    "        select_location.click()\n",
    "    url_links_cardekho = []\n",
    "    while len(url_links_cardekho)<200:\n",
    "        url_links_cardekho = []\n",
    "        height = driver.execute_script(\"return document.body.scrollHeight\")\n",
    "        driver.execute_script(\"window.scrollTo(0, {})\".format(height-1200)) \n",
    "        time.sleep(5)\n",
    "        url_links = driver.find_elements_by_xpath(\"//div[@class = 'gsc_col-xs-7  carsName']/a\")\n",
    "        time.sleep(1)\n",
    "        for ur in url_links:\n",
    "            url_links_cardekho.append(ur.get_attribute(\"href\"))\n",
    "    url_cardekho.extend(url_links_cardekho[:200])\n",
    "    \n",
    "print(len(url_cardekho))"
   ]
  },
  {
   "cell_type": "markdown",
   "id": "d9b51f09",
   "metadata": {},
   "source": [
    "We have scraped the URLs for 2000 cars for different locations from Cardekho.com. Now we can scrape the required information for each cars from the URLs."
   ]
  },
  {
   "cell_type": "code",
   "execution_count": 42,
   "id": "eb2c6524",
   "metadata": {},
   "outputs": [],
   "source": [
    "driver.close()"
   ]
  },
  {
   "cell_type": "code",
   "execution_count": 43,
   "id": "8cf732f0",
   "metadata": {},
   "outputs": [],
   "source": [
    "brand_cardekho = []\n",
    "model_cardekho = []\n",
    "man_year_cardekho = []\n",
    "driven_km_cardekho = []\n",
    "fuel_type_cardekho = []\n",
    "owners_cardekho = []\n",
    "car_loc_cardekho = []\n",
    "car_price_cardekho = []\n",
    "\n",
    "brand_cardekho_temp = []\n",
    "model_cardekho_temp = []\n",
    "man_year_cardekho_temp = []\n",
    "driven_km_cardekho_temp = []\n",
    "fuel_type_cardekho_temp = []\n",
    "owners_cardekho_temp = []\n",
    "car_loc_cardekho_temp = []\n",
    "car_price_cardekho_temp = []"
   ]
  },
  {
   "cell_type": "code",
   "execution_count": 69,
   "id": "6e25f10d",
   "metadata": {},
   "outputs": [],
   "source": [
    "\n",
    "def cardekho_temp(a,b):\n",
    "    chrome_options = webdriver.ChromeOptions()\n",
    "    chrome_options.add_argument(\"--incognito\")\n",
    "\n",
    "    driver = webdriver.Chrome('chromedriver.exe',chrome_options=chrome_options)\n",
    "    driver.maximize_window()\n",
    "    time.sleep(2)\n",
    "    \n",
    "    global brand_cardekho_temp, model_cardekho_temp, man_year_cardekho_temp, driven_km_cardekho_temp, fuel_type_cardekho_temp, owners_cardekho_temp, car_loc_cardekho_temp, car_price_cardekho_temp \n",
    "    \n",
    "    brand_cardekho_temp = []\n",
    "    model_cardekho_temp = []\n",
    "    man_year_cardekho_temp = []\n",
    "    driven_km_cardekho_temp = []\n",
    "    fuel_type_cardekho_temp = []\n",
    "    owners_cardekho_temp = []\n",
    "    car_loc_cardekho_temp = []\n",
    "    car_price_cardekho_temp = []\n",
    "    \n",
    "    \n",
    "    for i in url_cardekho[a:b]:\n",
    "        if len(car_price_cardekho_temp)%100 ==0:\n",
    "            time.sleep(1)\n",
    "            driver.close()\n",
    "            \n",
    "            chrome_options = webdriver.ChromeOptions()\n",
    "            chrome_options.add_argument(\"--incognito\")\n",
    "            driver = webdriver.Chrome('chromedriver.exe',chrome_options=chrome_options)\n",
    "            driver.maximize_window()\n",
    "            time.sleep(2)\n",
    "        \n",
    "        try:\n",
    "            try:\n",
    "                time.sleep(3)\n",
    "                driver.get(i)\n",
    "            except (WebDriverException, TimeoutException) as e:\n",
    "                WebDriverWait(driver,2)\n",
    "                driver.get(i)\n",
    "                WebDriverWait(driver,delay).until(EC.presence_of_element_located((By.CSS_SELECTOR,'div:nth-child(3)')))\n",
    "                driver.execute_script(\"window.scrollTo(0, 500)\")\n",
    "                WebDriverWait(driver,1)\n",
    "        except (WebDriverException) as e:\n",
    "            WebDriverWait(driver,2)\n",
    "            driver.get(i)\n",
    "            WebDriverWait(driver,delay).until(EC.presence_of_element_located((By.CSS_SELECTOR,'div:nth-child(3)')))\n",
    "            driver.execute_script(\"window.scrollTo(0, 500)\")\n",
    "            WebDriverWait(driver,1)\n",
    "\n",
    "        try:\n",
    "            try:\n",
    "                brand_tag = driver.find_element_by_xpath(\"//div[@class = 'paddingBorder clearfix']/div/h1\").text\n",
    "                keyword = re.compile(r\"([A-Za-z]+)\")\n",
    "                brand_name = []\n",
    "                brand_name = keyword.findall(str(brand_tag))\n",
    "                br = []\n",
    "                for i in brand_name:\n",
    "                    br.extend(i.replace(\" \",\"\").split(\",\"))\n",
    "                brand_cardekho_temp.append(br[0])\n",
    "            except (NoSuchElementException) as e:\n",
    "                brand_cardekho_temp.append(\"--\")\n",
    "        except WebDriverException as e:\n",
    "            brand_tag = driver.find_element_by_xpath(\"//div[@class = 'paddingBorder clearfix']/div/h1\").text\n",
    "            keyword = re.compile(r\"([A-Za-z]+)\")\n",
    "            brand_name = []\n",
    "            brand_name = keyword.findall(str(brand_tag))\n",
    "            br = []\n",
    "            for i in brand_name:\n",
    "                br.extend(i.replace(\" \",\"\").split(\",\"))\n",
    "            brand_cardekho_temp.append(br[0])\n",
    "                \n",
    "\n",
    "        try:\n",
    "            try:\n",
    "                model_tags = driver.find_element_by_xpath(\"//div[@class = 'paddingBorder clearfix']/div/h1\").text\n",
    "                keyword = re.compile(r\"[0-9]+ \")\n",
    "                model_name = keyword.sub(\"\",str(model_tags))\n",
    "                model_cardekho_temp.append(model_name.replace(br[0],\"\")[1:])\n",
    "            except (NoSuchElementException) as e:\n",
    "                model_cardekho_temp.append(\"--\")\n",
    "        except WebDriverException as e:\n",
    "            model_tags = driver.find_element_by_xpath(\"//div[@class = 'paddingBorder clearfix']/div/h1\").text\n",
    "            keyword = re.compile(r\"[0-9]+ \")\n",
    "            model_name = keyword.sub(\"\",str(model_tags))\n",
    "            model_cardekho_temp.append(model_name.replace(br[0],\"\")[1:])\n",
    "                \n",
    "       \n",
    "        try:\n",
    "            try:\n",
    "                man_year_tags = driver.find_element_by_css_selector(\"ul > li:nth-child(1) > div > div.fontweight500.value\").text\n",
    "                man_year_cardekho_temp.append(man_year_tags)\n",
    "            except (NoSuchElementException) as e:\n",
    "                man_year_cardekho_temp.append(\"--\")\n",
    "        except WebDriverException as e:\n",
    "            man_year_tags = driver.find_element_by_css_selector(\"ul > li:nth-child(1) > div > div.fontweight500.value\").text\n",
    "            man_year_cardekho_temp.append(man_year_tags)\n",
    "            \n",
    "        try:\n",
    "            try:\n",
    "                driven_km_tags = driver.find_element_by_css_selector(\" div > ul > li:nth-child(4) > div > div.fontweight500.value\").text\n",
    "                driven_km_cardekho_temp.append(driven_km_tags.replace(\" Kms\",\"\").replace(\",\",\"\"))\n",
    "            except (NoSuchElementException) as e:\n",
    "                driven_km_cardekho_temp.append(\"--\")\n",
    "        except WebDriverException as e:\n",
    "            driven_km_tags = driver.find_element_by_css_selector(\" div > ul > li:nth-child(4) > div > div.fontweight500.value\").text\n",
    "            driven_km_cardekho_temp.append(driven_km_tags.replace(\" Kms\",\"\").replace(\",\",\"\"))\n",
    "            \n",
    "                \n",
    "        try:\n",
    "            try:\n",
    "                fuel_type_tags = driver.find_element_by_css_selector(\"ul > li:nth-child(3) > div > div.fontweight500.value\").text\n",
    "                fuel_type_cardekho_temp.append(fuel_type_tags)\n",
    "            except (NoSuchElementException) as e:\n",
    "                fuel_type_cardekho_temp.append(\"--\")\n",
    "        except WebDriverException as e:\n",
    "            fuel_type_tags = driver.find_element_by_css_selector(\"ul > li:nth-child(3) > div > div.fontweight500.value\").text\n",
    "            fuel_type_cardekho_temp.append(fuel_type_tags)\n",
    "        \n",
    "        try:\n",
    "            try:\n",
    "                owner_tags = driver.find_element_by_css_selector(\"ul > li:nth-child(6) > div > div.fontweight500.value\").text\n",
    "                owners_cardekho_temp.append(owner_tags)\n",
    "            except (NoSuchElementException) as e:\n",
    "                owners_cardekho_temp.append(\"--\")\n",
    "        except WebDriverException as e:\n",
    "            owner_tags = driver.find_element_by_css_selector(\"ul > li:nth-child(6) > div > div.fontweight500.value\").text\n",
    "            owners_cardekho_temp.append(owner_tags)\n",
    "        \n",
    "        try:\n",
    "            try:\n",
    "                car_loc_tag = driver.find_element_by_css_selector(\"div.uclocationAddress.ucStick-uclocationAddress.gsc_col-xs-12 > div.ucaddressline.posR > span.uc-add-text > span:nth-child(2)\").text\n",
    "                car_loc_cardekho_temp.append(car_loc_tag)\n",
    "            except (NoSuchElementException) as e:\n",
    "                car_loc_cardekho_temp.append(\"--\")\n",
    "        except WebDriverException as e:\n",
    "            car_loc_tag = driver.find_element_by_css_selector(\"div.uclocationAddress.ucStick-uclocationAddress.gsc_col-xs-12 > div.ucaddressline.posR > span.uc-add-text > span:nth-child(2)\").text\n",
    "            car_loc_cardekho_temp.append(car_loc_tag)\n",
    "\n",
    "        try:\n",
    "            try:\n",
    "                car_price_tag = driver.find_element_by_css_selector(\"div.paddingBorder.clearfix > div:nth-child(2) > div.left-side.gsc_col-xs-7 > div.priceSection > span:nth-child(2)\").text\n",
    "                car_price_cardekho_temp.append(car_price_tag.replace(\",\",\"\"))\n",
    "            except (NoSuchElementException) as e:\n",
    "                car_price_cardekho_temp.append(\"--\")\n",
    "        except WebDriverException as e:\n",
    "            car_price_tag = driver.find_element_by_css_selector(\"div.paddingBorder.clearfix > div:nth-child(2) > div.left-side.gsc_col-xs-7 > div.priceSection > span:nth-child(2)\").text\n",
    "            car_price_cardekho_temp.append(car_price_tag.replace(\",\",\"\"))\n",
    "        time.sleep(1)\n",
    "    print(len(brand_cardekho_temp))\n",
    "    print(len(model_cardekho_temp))        \n",
    "    print(len(man_year_cardekho_temp))\n",
    "    print(len(fuel_type_cardekho_temp))\n",
    "    print(len(owners_cardekho_temp))\n",
    "    print(len(car_loc_cardekho_temp))\n",
    "    print(len(car_price_cardekho_temp))"
   ]
  },
  {
   "cell_type": "code",
   "execution_count": 70,
   "id": "c548f86f",
   "metadata": {},
   "outputs": [],
   "source": [
    "def cardekho():\n",
    "    for brand,model,man_year,driven_km,fuel_type,owners,car_loc,car_price in zip(brand_cardekho_temp,model_cardekho_temp,man_year_cardekho_temp,driven_km_cardekho_temp,fuel_type_cardekho_temp,owners_cardekho_temp,car_loc_cardekho_temp,car_price_cardekho_temp):\n",
    "        brand_cardekho.append(brand)\n",
    "        model_cardekho.append(model)\n",
    "        man_year_cardekho.append(man_year)\n",
    "        driven_km_cardekho.append(driven_km)\n",
    "        fuel_type_cardekho.append(fuel_type)\n",
    "        owners_cardekho.append(owners)\n",
    "        car_loc_cardekho.append(car_loc)\n",
    "        car_price_cardekho.append(car_price)\n",
    "    print(len(brand_cardekho))\n",
    "    print(len(model_cardekho))\n",
    "    print(len(man_year_cardekho))\n",
    "    print(len(driven_km_cardekho))\n",
    "    print(len(fuel_type_cardekho))\n",
    "    print(len(owners_cardekho))\n",
    "    print(len(car_loc_cardekho))\n",
    "    print(len(car_price_cardekho))"
   ]
  },
  {
   "cell_type": "code",
   "execution_count": 72,
   "id": "b9e47565",
   "metadata": {},
   "outputs": [
    {
     "name": "stdout",
     "output_type": "stream",
     "text": [
      "500\n",
      "500\n",
      "500\n",
      "500\n",
      "500\n",
      "500\n",
      "500\n"
     ]
    }
   ],
   "source": [
    "cardekho_temp(0,500)"
   ]
  },
  {
   "cell_type": "code",
   "execution_count": 73,
   "id": "b8355e03",
   "metadata": {},
   "outputs": [
    {
     "name": "stdout",
     "output_type": "stream",
     "text": [
      "500\n",
      "500\n",
      "500\n",
      "500\n",
      "500\n",
      "500\n",
      "500\n",
      "500\n"
     ]
    }
   ],
   "source": [
    "cardekho()"
   ]
  },
  {
   "cell_type": "code",
   "execution_count": 74,
   "id": "fec746b7",
   "metadata": {},
   "outputs": [
    {
     "name": "stdout",
     "output_type": "stream",
     "text": [
      "500\n",
      "500\n",
      "500\n",
      "500\n",
      "500\n",
      "500\n",
      "500\n"
     ]
    }
   ],
   "source": [
    "cardekho_temp(500,1000)"
   ]
  },
  {
   "cell_type": "code",
   "execution_count": 75,
   "id": "1bc990d8",
   "metadata": {},
   "outputs": [
    {
     "name": "stdout",
     "output_type": "stream",
     "text": [
      "1000\n",
      "1000\n",
      "1000\n",
      "1000\n",
      "1000\n",
      "1000\n",
      "1000\n",
      "1000\n"
     ]
    }
   ],
   "source": [
    "cardekho()"
   ]
  },
  {
   "cell_type": "code",
   "execution_count": 76,
   "id": "beb61a06",
   "metadata": {},
   "outputs": [
    {
     "name": "stdout",
     "output_type": "stream",
     "text": [
      "500\n",
      "500\n",
      "500\n",
      "500\n",
      "500\n",
      "500\n",
      "500\n"
     ]
    }
   ],
   "source": [
    "cardekho_temp(1000,1500)"
   ]
  },
  {
   "cell_type": "code",
   "execution_count": 77,
   "id": "bb1b636f",
   "metadata": {},
   "outputs": [
    {
     "name": "stdout",
     "output_type": "stream",
     "text": [
      "1500\n",
      "1500\n",
      "1500\n",
      "1500\n",
      "1500\n",
      "1500\n",
      "1500\n",
      "1500\n"
     ]
    }
   ],
   "source": [
    "cardekho()"
   ]
  },
  {
   "cell_type": "code",
   "execution_count": 79,
   "id": "1d161f5b",
   "metadata": {},
   "outputs": [
    {
     "name": "stdout",
     "output_type": "stream",
     "text": [
      "500\n",
      "500\n",
      "500\n",
      "500\n",
      "500\n",
      "500\n",
      "500\n"
     ]
    }
   ],
   "source": [
    "cardekho_temp(1500,2000)"
   ]
  },
  {
   "cell_type": "code",
   "execution_count": 80,
   "id": "f923a6de",
   "metadata": {},
   "outputs": [
    {
     "name": "stdout",
     "output_type": "stream",
     "text": [
      "2000\n",
      "2000\n",
      "2000\n",
      "2000\n",
      "2000\n",
      "2000\n",
      "2000\n",
      "2000\n"
     ]
    }
   ],
   "source": [
    "cardekho()"
   ]
  },
  {
   "cell_type": "markdown",
   "id": "80d01ee0",
   "metadata": {},
   "source": [
    "We have scraped data for 2000 used cars from Cardekho.com"
   ]
  },
  {
   "cell_type": "markdown",
   "id": "fe291ae2",
   "metadata": {},
   "source": [
    "#### Collecting data from Cars24.com"
   ]
  },
  {
   "cell_type": "code",
   "execution_count": 86,
   "id": "4d3e098b",
   "metadata": {},
   "outputs": [
    {
     "data": {
      "text/plain": [
       "1800"
      ]
     },
     "execution_count": 86,
     "metadata": {},
     "output_type": "execute_result"
    }
   ],
   "source": [
    "Locations = ['Delhi', 'Noida', 'Gurgaon', 'Mumbai', 'Pune', 'Bengaluru', 'Hyderabad', 'Chennai', 'Ahmedabad']\n",
    "url_cars24 = []\n",
    "\n",
    "chrome_options = webdriver.ChromeOptions()\n",
    "chrome_options.add_argument(\"--incognito\")\n",
    "\n",
    "driver = webdriver.Chrome('chromedriver.exe',chrome_options=chrome_options)\n",
    "driver.maximize_window()\n",
    "time.sleep(1)\n",
    "\n",
    "for i in Locations:\n",
    "    driver.get('https://www.cars24.com')\n",
    "    time.sleep(2)\n",
    "\n",
    "    #Manual Selection\n",
    "    try:\n",
    "        manual_loc = driver.find_element_by_css_selector(\"div.rk1q-.Komfq > div._1K8Qe > button\")\n",
    "        manual_loc.click()\n",
    "        time.sleep(1)\n",
    "    except NoSuchElementException:\n",
    "        manual_loc = driver.find_element_by_css_selector(\"div._38_So > header > div > div._1GRL2 > div:nth-child(2) > p\")\n",
    "        manual_loc.click()\n",
    "        time.sleep(1)\n",
    "\n",
    "    #Input\n",
    "    location_input = driver.find_element_by_css_selector(\"div.container._3TGxN > div > div._2rz1w > div > input\")\n",
    "    location_input.send_keys(i)\n",
    "    time.sleep(1)\n",
    "\n",
    "    #Selecting the location\n",
    "    try:\n",
    "        loc_selection = driver.find_element_by_css_selector(\"div._3ZOW1 > div > div > div > div > div:nth-child(3) > ul > li > a > h6\")\n",
    "        loc_selection.click()\n",
    "    except NoSuchElementException:\n",
    "        loc_selection = driver.find_element_by_css_selector(\"div._3ZOW1 > div > div > div > div > div:nth-child(3) > div > div > ul > div > li > a > span\")\n",
    "        loc_selection.click()\n",
    "        \n",
    "    #Category - View all cars\n",
    "    time.sleep(2)\n",
    "    view_cars = driver.find_element_by_css_selector(\"div > div.ITdIr > div._175lW > button\")\n",
    "    view_cars.click()\n",
    "\n",
    "    time.sleep(2)\n",
    "    url_links_cars24 = []\n",
    "    while len(url_links_cars24)<200:\n",
    "        url_links_cars24 = []\n",
    "        height = driver.execute_script(\"return document.body.scrollHeight\")\n",
    "        driver.execute_script(\"window.scrollTo(0, {})\".format(height-2300)) \n",
    "        time.sleep(3)\n",
    "        url_links = driver.find_elements_by_xpath(\"//div[@class = 'o0pOR']/div[3]/div/div/div/a\")\n",
    "        time.sleep(1)\n",
    "        for ur in url_links:\n",
    "            url_links_cars24.append(ur.get_attribute(\"href\"))\n",
    "    url_cars24.extend(url_links_cars24[:200])\n",
    "len(url_cars24)"
   ]
  },
  {
   "cell_type": "markdown",
   "id": "8de6f148",
   "metadata": {},
   "source": [
    "We have scraped the URLs for 1800 cars for different locations from Cars24.com. Now we can scrape the required information for each cars from the URLs."
   ]
  },
  {
   "cell_type": "code",
   "execution_count": 87,
   "id": "8423e69f",
   "metadata": {},
   "outputs": [],
   "source": [
    "driver.close()"
   ]
  },
  {
   "cell_type": "code",
   "execution_count": 96,
   "id": "3d0d6a21",
   "metadata": {},
   "outputs": [],
   "source": [
    "brand_cars24 = []\n",
    "model_cars24 = []\n",
    "man_year_cars24 = []\n",
    "driven_km_cars24 = []\n",
    "fuel_type_cars24 = []\n",
    "owners_cars24 = []\n",
    "car_loc_cars24 = []\n",
    "car_price_cars24 = []\n",
    "\n",
    "brand_cars24_temp = []\n",
    "model_cars24_temp = []\n",
    "man_year_cars24_temp = []\n",
    "driven_km_cars24_temp = []\n",
    "fuel_type_cars24_temp = []\n",
    "owners_cars24_temp = []\n",
    "car_loc_cars24_temp = []\n",
    "car_price_cars24_temp = []"
   ]
  },
  {
   "cell_type": "code",
   "execution_count": 239,
   "id": "fd37c9d9",
   "metadata": {},
   "outputs": [],
   "source": [
    "\n",
    "def cars24_temp(a,b):\n",
    "    chrome_options = webdriver.ChromeOptions()\n",
    "    chrome_options.add_argument(\"--incognito\")\n",
    "\n",
    "    driver = webdriver.Chrome('chromedriver.exe',chrome_options=chrome_options)\n",
    "    driver.maximize_window()\n",
    "    \n",
    "    global brand_cars24_temp, model_cars24_temp, man_year_cars24_temp, driven_km_cars24_temp, fuel_type_cars24_temp, owners_cars24_temp, car_loc_cars24_temp, car_price_cars24_temp\n",
    "    \n",
    "    brand_cars24_temp = []\n",
    "    model_cars24_temp = []\n",
    "    man_year_cars24_temp = []\n",
    "    driven_km_cars24_temp = []\n",
    "    fuel_type_cars24_temp = []\n",
    "    owners_cars24_temp = []\n",
    "    car_loc_cars24_temp = []\n",
    "    car_price_cars24_temp = []\n",
    "\n",
    "\n",
    "    for i in url_cars24[a:b]:\n",
    "        if len(car_price_cars24_temp)%200 ==0:\n",
    "            driver.close()\n",
    "            \n",
    "            chrome_options = webdriver.ChromeOptions()\n",
    "            chrome_options.add_argument(\"--incognito\")\n",
    "            driver = webdriver.Chrome('chromedriver.exe',chrome_options=chrome_options)\n",
    "            driver.maximize_window()\n",
    "            time.sleep(2)\n",
    "      \n",
    "        try:\n",
    "            try:\n",
    "                time.sleep(1)\n",
    "                driver.get(i)\n",
    "                time.sleep(1)\n",
    "            except (WebDriverException, TimeoutException) as e:\n",
    "                WebDriverWait(driver,2)\n",
    "                driver.get(i)\n",
    "                WebDriverWait(driver,delay).until(EC.presence_of_element_located((By.CSS_SELECTOR,'div:nth-child(1)')))\n",
    "                driver.execute_script(\"window.scrollTo(0, 500)\")\n",
    "                WebDriverWait(driver,1)\n",
    "        except (WebDriverException) as e:\n",
    "            WebDriverWait(driver,2)\n",
    "            driver.get(i)\n",
    "            WebDriverWait(driver,delay).until(EC.presence_of_element_located((By.CSS_SELECTOR,'div:nth-child(1)')))\n",
    "            driver.execute_script(\"window.scrollTo(0, 500)\")\n",
    "            WebDriverWait(driver,1)\n",
    "        \n",
    "        try:\n",
    "            WebDriverWait(driver,delay).until(EC.presence_of_element_located((By.CSS_SELECTOR,'div:nth-child(1)')))\n",
    "            location_popup = driver.find_element_by_xpath(\"/html/body/div[1]/div[7]/div/div/h3/div/img\")\n",
    "            location_popup.click()\n",
    "        except (NoSuchElementException,TimeoutException,WebDriverException) as e:\n",
    "            pass\n",
    "        try:\n",
    "            try:\n",
    "                brand_tag = driver.find_element_by_css_selector(\"div.NCchD > div > div > div > div._187DF > div._10kZS > h2\").text\n",
    "                keyword = re.compile(r\"([A-Za-z]+)\")\n",
    "                brand_name = []\n",
    "                brand_name = keyword.findall(str(brand_tag))\n",
    "                br = []\n",
    "                for i in brand_name:\n",
    "                    br.extend(i.replace(\" \",\"\").split(\",\"))\n",
    "                brand_cars24_temp.append(br[0])\n",
    "            except (NoSuchElementException,TimeoutException) as e:\n",
    "                brand_cars24_temp.append(\"--\")\n",
    "        except (WebDriverException, StaleElementReferenceException) as e: \n",
    "            brand_tag = driver.find_element_by_css_selector(\"div.NCchD > div > div > div > div._187DF > div._10kZS > h2\").text\n",
    "            keyword = re.compile(r\"([A-Za-z]+)\")\n",
    "            brand_name = []\n",
    "            brand_name = keyword.findall(str(brand_tag))\n",
    "            br = []\n",
    "            for i in brand_name:\n",
    "                br.extend(i.replace(\" \",\"\").split(\",\"))\n",
    "            brand_cars24_temp.append(br[0])\n",
    "            \n",
    "        try:\n",
    "            try:\n",
    "                WebDriverWait(driver,delay).until(EC.presence_of_element_located((By.CSS_SELECTOR,'div._10kZS')))\n",
    "                model_tags = driver.find_element_by_css_selector(\"body > div.js-content > div.NCchD > div > div > div > div._187DF > div._10kZS > h2\").text\n",
    "                keyword = re.compile(r\"[0-9]+ \")\n",
    "                model_name = keyword.sub(\"\",str(model_tags))\n",
    "                model_cars24_temp.append(model_name.replace(br[0],\"\")[1:])\n",
    "            except (NoSuchElementException,TimeoutException) as e:\n",
    "                model_cars24_temp.append(\"--\")\n",
    "        except (WebDriverException, StaleElementReferenceException) as e: \n",
    "            WebDriverWait(driver,delay).until(EC.presence_of_element_located((By.CSS_SELECTOR,'div:nth-child(1)')))\n",
    "            model_tags = driver.find_element_by_css_selector(\"body > div.js-content > div.NCchD > div > div > div > div._187DF > div._10kZS > h2\").text\n",
    "            keyword = re.compile(r\"[0-9]+ \")\n",
    "            model_name = keyword.sub(\"\",str(model_tags))\n",
    "            model_cars24_temp.append(model_name.replace(br[0],\"\")[1:])\n",
    "\n",
    "        try:\n",
    "            try:\n",
    "                man_year_tags = driver.find_element_by_css_selector(\"div.NCchD > div > div > div > div._187DF > div._10kZS > h2\").text\n",
    "                man_year_cars24_temp.append(man_year_tags[0:4])\n",
    "            except (NoSuchElementException,TimeoutException) as e:\n",
    "                man_year_cars24_temp.append(\"--\")\n",
    "        except (WebDriverException, StaleElementReferenceException) as e: \n",
    "            WebDriverWait(driver,delay).until(EC.presence_of_element_located((By.CSS_SELECTOR,'div:nth-child(1)')))\n",
    "            man_year_tags = driver.find_element_by_css_selector(\"div.NCchD > div > div > div > div._187DF > div._10kZS > h2\").text\n",
    "            man_year_cars24_temp.append(man_year_tags[0:4])\n",
    "        \n",
    "        try:\n",
    "            try:\n",
    "                driven_km_tags = driver.find_element_by_css_selector(\"div._187DF > div._10kZS > ul > li:nth-child(1)\").text\n",
    "                driven_km_cars24_temp.append(driven_km_tags.replace(\" km\",\"\"))\n",
    "            except (NoSuchElementException,TimeoutException) as e:\n",
    "                driven_km_cars24_temp.append(\"--\")\n",
    "        except (WebDriverException, StaleElementReferenceException) as e: \n",
    "            WebDriverWait(driver,delay).until(EC.presence_of_element_located((By.CSS_SELECTOR,'div:nth-child(1)')))\n",
    "            driven_km_tags = driver.find_element_by_css_selector(\"div._187DF > div._10kZS > ul > li:nth-child(1)\").text\n",
    "            driven_km_cars24_temp.append(driven_km_tags.replace(\" km\",\"\"))\n",
    "        \n",
    "        try:\n",
    "            try:\n",
    "                fuel_type_tags = driver.find_element_by_css_selector(\"div._187DF > div._10kZS > ul > li:nth-child(3)\").text\n",
    "                fuel_type_cars24_temp.append(fuel_type_tags)\n",
    "            except (NoSuchElementException,TimeoutException) as e:\n",
    "                fuel_type_cars24_temp.append(\"--\")\n",
    "        except (WebDriverException, StaleElementReferenceException) as e: \n",
    "            WebDriverWait(driver,delay).until(EC.presence_of_element_located((By.CSS_SELECTOR,'div:nth-child(1)')))\n",
    "            fuel_type_tags = driver.find_element_by_css_selector(\"div._187DF > div._10kZS > ul > li:nth-child(3)\").text\n",
    "            fuel_type_cars24_temp.append(fuel_type_tags)\n",
    "\n",
    "        try:\n",
    "            try:\n",
    "                owner_tags = driver.find_element_by_css_selector(\"div._187DF > div._10kZS > ul > li:nth-child(5)\").text\n",
    "                owners_cars24_temp.append(owner_tags)\n",
    "            except (NoSuchElementException,TimeoutException) as e:\n",
    "                owners_cars24_temp.append(\"--\")\n",
    "        except (WebDriverException, StaleElementReferenceException) as e: \n",
    "            WebDriverWait(driver,delay).until(EC.presence_of_element_located((By.CSS_SELECTOR,'div:nth-child(1)')))\n",
    "            owner_tags = driver.find_element_by_css_selector(\"div._187DF > div._10kZS > ul > li:nth-child(5)\").text\n",
    "            owners_cars24_temp.append(owner_tags)\n",
    "        \n",
    "        try:\n",
    "            try:\n",
    "                car_loc_tag = driver.find_element_by_css_selector(\"div._10kZS > ul > li:nth-child(7)\").text\n",
    "                car_loc_cars24_temp.append(car_loc_tag)\n",
    "            except (NoSuchElementException,TimeoutException) as e:\n",
    "                car_loc_cars24_temp.append(\"--\")\n",
    "        except (WebDriverException, StaleElementReferenceException) as e: \n",
    "            WebDriverWait(driver,delay).until(EC.presence_of_element_located((By.CSS_SELECTOR,'div:nth-child(1)')))\n",
    "            car_loc_tag = driver.find_element_by_css_selector(\"div._10kZS > ul > li:nth-child(7)\").text\n",
    "            car_loc_cars24_temp.append(car_loc_tag)\n",
    "        \n",
    "        try:\n",
    "            try:\n",
    "                car_price_tag = driver.find_element_by_xpath(\"//strong[@class = '_2yYvS Wqfj6']\").text\n",
    "                keyword = re.compile(r\"\\n+(₹[0-9,]+)\")\n",
    "                car_price_info = keyword.findall(car_price_tag)\n",
    "                for car in car_price_info:\n",
    "                    car_price_cars24_temp.append(car.replace(\"₹\",\"\").replace(\",\",\"\"))\n",
    "            except (NoSuchElementException,TimeoutException) as e:\n",
    "                car_price_cars24_temp.append(\"--\")\n",
    "        except (WebDriverException, StaleElementReferenceException) as e: \n",
    "            WebDriverWait(driver,delay).until(EC.presence_of_element_located((By.CSS_SELECTOR,'div:nth-child(1)')))\n",
    "            car_price_tag = driver.find_element_by_xpath(\"//strong[@class = '_2yYvS Wqfj6']\").text\n",
    "            keyword = re.compile(r\"\\n+(₹[0-9,]+)\")\n",
    "            car_price_info = keyword.findall(car_price_tag)\n",
    "            for car in car_price_info:\n",
    "                car_price_cars24_temp.append(car.replace(\"₹\",\"\").replace(\",\",\"\"))\n",
    "        time.sleep(1)\n",
    "    print(len(brand_cars24_temp))\n",
    "    print(len(model_cars24_temp))        \n",
    "    print(len(man_year_cars24_temp))\n",
    "    print(len(driven_km_cars24_temp))\n",
    "    print(len(fuel_type_cars24_temp))\n",
    "    print(len(owners_cars24_temp))\n",
    "    print(len(car_loc_cars24_temp))\n",
    "    print(len(car_price_cars24_temp))"
   ]
  },
  {
   "cell_type": "code",
   "execution_count": 230,
   "id": "4cf7f57c",
   "metadata": {},
   "outputs": [],
   "source": [
    "def cars24():\n",
    "    for brand,model,man_year,driven_km,fuel_type,owners,car_loc,car_price in zip(brand_cars24_temp,model_cars24_temp,man_year_cars24_temp,driven_km_cars24_temp,fuel_type_cars24_temp,owners_cars24_temp,car_loc_cars24_temp,car_price_cars24_temp):\n",
    "        brand_cars24.append(brand)\n",
    "        model_cars24.append(model)\n",
    "        man_year_cars24.append(man_year)\n",
    "        driven_km_cars24.append(driven_km)\n",
    "        fuel_type_cars24.append(fuel_type)\n",
    "        owners_cars24.append(owners)\n",
    "        car_loc_cars24.append(car_loc)\n",
    "        car_price_cars24.append(car_price)\n",
    "    print(len(brand_cars24))\n",
    "    print(len(model_cars24))\n",
    "    print(len(man_year_cars24))\n",
    "    print(len(driven_km_cars24))\n",
    "    print(len(fuel_type_cars24))\n",
    "    print(len(owners_cars24))\n",
    "    print(len(car_loc_cars24))\n",
    "    print(len(car_price_cars24))"
   ]
  },
  {
   "cell_type": "markdown",
   "id": "72cd1c5e",
   "metadata": {},
   "source": [
    "We have scraped data for 1800 used cars from Cars24.com."
   ]
  },
  {
   "cell_type": "code",
   "execution_count": 194,
   "id": "a84e32fd",
   "metadata": {},
   "outputs": [
    {
     "name": "stdout",
     "output_type": "stream",
     "text": [
      "200\n",
      "200\n",
      "200\n",
      "200\n",
      "200\n",
      "200\n",
      "200\n",
      "200\n"
     ]
    }
   ],
   "source": [
    "cars24_temp(0,200)"
   ]
  },
  {
   "cell_type": "code",
   "execution_count": 195,
   "id": "26923414",
   "metadata": {},
   "outputs": [
    {
     "name": "stdout",
     "output_type": "stream",
     "text": [
      "200\n",
      "200\n",
      "200\n",
      "200\n",
      "200\n",
      "200\n",
      "200\n",
      "200\n"
     ]
    }
   ],
   "source": [
    "cars24()"
   ]
  },
  {
   "cell_type": "code",
   "execution_count": 196,
   "id": "146159f4",
   "metadata": {},
   "outputs": [
    {
     "name": "stdout",
     "output_type": "stream",
     "text": [
      "200\n",
      "200\n",
      "200\n",
      "200\n",
      "200\n",
      "200\n",
      "200\n",
      "200\n"
     ]
    }
   ],
   "source": [
    "cars24_temp(200,400)"
   ]
  },
  {
   "cell_type": "code",
   "execution_count": 197,
   "id": "b1c450e3",
   "metadata": {},
   "outputs": [
    {
     "name": "stdout",
     "output_type": "stream",
     "text": [
      "400\n",
      "400\n",
      "400\n",
      "400\n",
      "400\n",
      "400\n",
      "400\n",
      "400\n"
     ]
    }
   ],
   "source": [
    "cars24()"
   ]
  },
  {
   "cell_type": "code",
   "execution_count": 211,
   "id": "921ad340",
   "metadata": {},
   "outputs": [
    {
     "name": "stdout",
     "output_type": "stream",
     "text": [
      "200\n",
      "200\n",
      "200\n",
      "200\n",
      "200\n",
      "200\n",
      "200\n",
      "200\n"
     ]
    }
   ],
   "source": [
    "cars24_temp(400,600)"
   ]
  },
  {
   "cell_type": "code",
   "execution_count": 212,
   "id": "d62be4f2",
   "metadata": {},
   "outputs": [
    {
     "name": "stdout",
     "output_type": "stream",
     "text": [
      "600\n",
      "600\n",
      "600\n",
      "600\n",
      "600\n",
      "600\n",
      "600\n",
      "600\n"
     ]
    }
   ],
   "source": [
    "cars24()"
   ]
  },
  {
   "cell_type": "code",
   "execution_count": 213,
   "id": "c3d3710c",
   "metadata": {},
   "outputs": [
    {
     "name": "stdout",
     "output_type": "stream",
     "text": [
      "200\n",
      "200\n",
      "200\n",
      "200\n",
      "200\n",
      "200\n",
      "200\n",
      "200\n"
     ]
    }
   ],
   "source": [
    "cars24_temp(600,800)"
   ]
  },
  {
   "cell_type": "code",
   "execution_count": 214,
   "id": "17ac263c",
   "metadata": {},
   "outputs": [
    {
     "name": "stdout",
     "output_type": "stream",
     "text": [
      "800\n",
      "800\n",
      "800\n",
      "800\n",
      "800\n",
      "800\n",
      "800\n",
      "800\n"
     ]
    }
   ],
   "source": [
    "cars24()"
   ]
  },
  {
   "cell_type": "code",
   "execution_count": 222,
   "id": "a194a382",
   "metadata": {},
   "outputs": [
    {
     "name": "stdout",
     "output_type": "stream",
     "text": [
      "200\n",
      "200\n",
      "200\n",
      "200\n",
      "200\n",
      "200\n",
      "200\n",
      "200\n"
     ]
    }
   ],
   "source": [
    "cars24_temp(800,1000)"
   ]
  },
  {
   "cell_type": "code",
   "execution_count": 223,
   "id": "4dc413f4",
   "metadata": {},
   "outputs": [
    {
     "name": "stdout",
     "output_type": "stream",
     "text": [
      "1000\n",
      "1000\n",
      "1000\n",
      "1000\n",
      "1000\n",
      "1000\n",
      "1000\n",
      "1000\n"
     ]
    }
   ],
   "source": [
    "cars24()"
   ]
  },
  {
   "cell_type": "code",
   "execution_count": 241,
   "id": "c379c787",
   "metadata": {},
   "outputs": [
    {
     "name": "stdout",
     "output_type": "stream",
     "text": [
      "200\n",
      "200\n",
      "200\n",
      "200\n",
      "200\n",
      "200\n",
      "200\n",
      "200\n"
     ]
    }
   ],
   "source": [
    "cars24_temp(1000,1200)"
   ]
  },
  {
   "cell_type": "code",
   "execution_count": 242,
   "id": "59af7771",
   "metadata": {},
   "outputs": [
    {
     "name": "stdout",
     "output_type": "stream",
     "text": [
      "1200\n",
      "1200\n",
      "1200\n",
      "1200\n",
      "1200\n",
      "1200\n",
      "1200\n",
      "1200\n"
     ]
    }
   ],
   "source": [
    "cars24()"
   ]
  },
  {
   "cell_type": "code",
   "execution_count": 248,
   "id": "b9d0084a",
   "metadata": {},
   "outputs": [
    {
     "name": "stdout",
     "output_type": "stream",
     "text": [
      "200\n",
      "200\n",
      "200\n",
      "200\n",
      "200\n",
      "200\n",
      "200\n",
      "200\n"
     ]
    }
   ],
   "source": [
    "cars24_temp(1200,1400)"
   ]
  },
  {
   "cell_type": "code",
   "execution_count": 249,
   "id": "0dc3bcbc",
   "metadata": {},
   "outputs": [
    {
     "name": "stdout",
     "output_type": "stream",
     "text": [
      "1400\n",
      "1400\n",
      "1400\n",
      "1400\n",
      "1400\n",
      "1400\n",
      "1400\n",
      "1400\n"
     ]
    }
   ],
   "source": [
    "cars24()"
   ]
  },
  {
   "cell_type": "code",
   "execution_count": 250,
   "id": "396c8078",
   "metadata": {},
   "outputs": [
    {
     "name": "stdout",
     "output_type": "stream",
     "text": [
      "200\n",
      "200\n",
      "200\n",
      "200\n",
      "200\n",
      "200\n",
      "200\n",
      "200\n"
     ]
    }
   ],
   "source": [
    "cars24_temp(1400,1600)"
   ]
  },
  {
   "cell_type": "code",
   "execution_count": 251,
   "id": "05c2919d",
   "metadata": {},
   "outputs": [
    {
     "name": "stdout",
     "output_type": "stream",
     "text": [
      "1600\n",
      "1600\n",
      "1600\n",
      "1600\n",
      "1600\n",
      "1600\n",
      "1600\n",
      "1600\n"
     ]
    }
   ],
   "source": [
    "cars24()"
   ]
  },
  {
   "cell_type": "code",
   "execution_count": 252,
   "id": "f356a07d",
   "metadata": {},
   "outputs": [
    {
     "name": "stdout",
     "output_type": "stream",
     "text": [
      "200\n",
      "200\n",
      "200\n",
      "200\n",
      "200\n",
      "200\n",
      "200\n",
      "200\n"
     ]
    }
   ],
   "source": [
    "cars24_temp(1600,1800)"
   ]
  },
  {
   "cell_type": "code",
   "execution_count": 253,
   "id": "375a51d8",
   "metadata": {},
   "outputs": [
    {
     "name": "stdout",
     "output_type": "stream",
     "text": [
      "1800\n",
      "1800\n",
      "1800\n",
      "1800\n",
      "1800\n",
      "1800\n",
      "1800\n",
      "1800\n"
     ]
    }
   ],
   "source": [
    "cars24()"
   ]
  },
  {
   "cell_type": "markdown",
   "id": "b11996d3",
   "metadata": {},
   "source": [
    "We have collected Used car data for 1800 cars from Cars24.com."
   ]
  },
  {
   "cell_type": "markdown",
   "id": "b4a531aa",
   "metadata": {},
   "source": [
    "Now we can create the dataframe with the collected data."
   ]
  },
  {
   "cell_type": "code",
   "execution_count": 255,
   "id": "744eb1b4",
   "metadata": {},
   "outputs": [
    {
     "name": "stdout",
     "output_type": "stream",
     "text": [
      "5800\n",
      "5800\n",
      "5800\n",
      "5800\n",
      "5800\n",
      "5800\n",
      "5800\n",
      "5800\n"
     ]
    }
   ],
   "source": [
    "brand = []\n",
    "model = []\n",
    "man_year = []\n",
    "driven_km = []\n",
    "fuel_type = []\n",
    "owners = []\n",
    "car_loc = []\n",
    "car_price = []\n",
    "\n",
    "for b,m,my,d,f,o,c,p in zip(brand_olx,model_olx,man_year_olx,driven_km_olx,fuel_type_olx,owners_olx,car_loc_olx,car_price_olx):\n",
    "    brand.append(b)\n",
    "    model.append(m)\n",
    "    man_year.append(my)\n",
    "    driven_km.append(d)\n",
    "    fuel_type.append(f)\n",
    "    owners.append(o)\n",
    "    car_loc.append(c)\n",
    "    car_price.append(p)\n",
    "    \n",
    "for b,m,my,d,f,o,c,p in zip(brand_cardekho,model_cardekho,man_year_cardekho,driven_km_cardekho,fuel_type_cardekho,owners_cardekho,car_loc_cardekho,car_price_cardekho):\n",
    "    brand.append(b)\n",
    "    model.append(m)\n",
    "    man_year.append(my)\n",
    "    driven_km.append(d)\n",
    "    fuel_type.append(f)\n",
    "    owners.append(o)\n",
    "    car_loc.append(c)\n",
    "    car_price.append(p)\n",
    "    \n",
    "for b,m,my,d,f,o,c,p in zip(brand_cars24,model_cars24,man_year_cars24,driven_km_cars24,fuel_type_cars24,owners_cars24,car_loc_cars24,car_price_cars24):\n",
    "    brand.append(b)\n",
    "    model.append(m)\n",
    "    man_year.append(my)\n",
    "    driven_km.append(d.replace(\",\",\"\"))\n",
    "    fuel_type.append(f)\n",
    "    owners.append(o)\n",
    "    car_loc.append(c)\n",
    "    car_price.append(p)\n",
    "\n",
    "\n",
    "\n",
    "print(len(brand))\n",
    "print(len(model))\n",
    "print(len(man_year))\n",
    "print(len(driven_km))\n",
    "print(len(fuel_type))\n",
    "print(len(owners))\n",
    "print(len(car_loc))\n",
    "print(len(car_price))"
   ]
  },
  {
   "cell_type": "code",
   "execution_count": 259,
   "id": "ea6ff2f0",
   "metadata": {},
   "outputs": [
    {
     "data": {
      "text/html": [
       "<div>\n",
       "<style scoped>\n",
       "    .dataframe tbody tr th:only-of-type {\n",
       "        vertical-align: middle;\n",
       "    }\n",
       "\n",
       "    .dataframe tbody tr th {\n",
       "        vertical-align: top;\n",
       "    }\n",
       "\n",
       "    .dataframe thead th {\n",
       "        text-align: right;\n",
       "    }\n",
       "</style>\n",
       "<table border=\"1\" class=\"dataframe\">\n",
       "  <thead>\n",
       "    <tr style=\"text-align: right;\">\n",
       "      <th></th>\n",
       "      <th>Brand</th>\n",
       "      <th>Model</th>\n",
       "      <th>Manufacturing_Year</th>\n",
       "      <th>Kilometers_Driven</th>\n",
       "      <th>Fuel_Type</th>\n",
       "      <th>No_of_owners</th>\n",
       "      <th>Location</th>\n",
       "      <th>Car_Price</th>\n",
       "    </tr>\n",
       "  </thead>\n",
       "  <tbody>\n",
       "    <tr>\n",
       "      <th>0</th>\n",
       "      <td>Skoda</td>\n",
       "      <td>Superb</td>\n",
       "      <td>2012</td>\n",
       "      <td>58000.0</td>\n",
       "      <td>DIESEL</td>\n",
       "      <td>1st</td>\n",
       "      <td>Ramesh Nagar, Delhi, Delhi</td>\n",
       "      <td>425000</td>\n",
       "    </tr>\n",
       "    <tr>\n",
       "      <th>1</th>\n",
       "      <td>Benz</td>\n",
       "      <td>ercedes- S-Class</td>\n",
       "      <td>2016</td>\n",
       "      <td>41000.0</td>\n",
       "      <td>PETROL</td>\n",
       "      <td>1st</td>\n",
       "      <td>Tilak Nagar, Delhi, Delhi</td>\n",
       "      <td>6990000</td>\n",
       "    </tr>\n",
       "    <tr>\n",
       "      <th>2</th>\n",
       "      <td>Benz</td>\n",
       "      <td>ercedes- C-Class</td>\n",
       "      <td>2021</td>\n",
       "      <td>9700.0</td>\n",
       "      <td>PETROL</td>\n",
       "      <td>1st</td>\n",
       "      <td>F 10, Shopping Centre, Near OBC Bank, Mansarov...</td>\n",
       "      <td>4990000</td>\n",
       "    </tr>\n",
       "    <tr>\n",
       "      <th>3</th>\n",
       "      <td>Skoda</td>\n",
       "      <td>Superb</td>\n",
       "      <td>2010</td>\n",
       "      <td>120000</td>\n",
       "      <td>PETROL</td>\n",
       "      <td>First</td>\n",
       "      <td>--</td>\n",
       "      <td>165000</td>\n",
       "    </tr>\n",
       "    <tr>\n",
       "      <th>4</th>\n",
       "      <td>Maruti</td>\n",
       "      <td>Suzuki Swift Dzire</td>\n",
       "      <td>2016</td>\n",
       "      <td>70000</td>\n",
       "      <td>CNG</td>\n",
       "      <td>Second</td>\n",
       "      <td>--</td>\n",
       "      <td>395000</td>\n",
       "    </tr>\n",
       "    <tr>\n",
       "      <th>...</th>\n",
       "      <td>...</td>\n",
       "      <td>...</td>\n",
       "      <td>...</td>\n",
       "      <td>...</td>\n",
       "      <td>...</td>\n",
       "      <td>...</td>\n",
       "      <td>...</td>\n",
       "      <td>...</td>\n",
       "    </tr>\n",
       "    <tr>\n",
       "      <th>5795</th>\n",
       "      <td>Maruti</td>\n",
       "      <td>S PRESSO VXI MANUAL</td>\n",
       "      <td>2020</td>\n",
       "      <td>18681</td>\n",
       "      <td>Petrol</td>\n",
       "      <td>1st Owner</td>\n",
       "      <td>GJ-18</td>\n",
       "      <td>439699</td>\n",
       "    </tr>\n",
       "    <tr>\n",
       "      <th>5796</th>\n",
       "      <td>Maruti</td>\n",
       "      <td>IGNIS ZETA 1.KMANUAL</td>\n",
       "      <td>2018</td>\n",
       "      <td>48213</td>\n",
       "      <td>Petrol</td>\n",
       "      <td>1st Owner</td>\n",
       "      <td>GJ-15</td>\n",
       "      <td>474799</td>\n",
       "    </tr>\n",
       "    <tr>\n",
       "      <th>5797</th>\n",
       "      <td>Maruti</td>\n",
       "      <td>Celerio X Zxi AMT AUTOMATIC</td>\n",
       "      <td>2019</td>\n",
       "      <td>67192</td>\n",
       "      <td>Petrol</td>\n",
       "      <td>1st Owner</td>\n",
       "      <td>GJ-06</td>\n",
       "      <td>508199</td>\n",
       "    </tr>\n",
       "    <tr>\n",
       "      <th>5798</th>\n",
       "      <td>Jeep</td>\n",
       "      <td>Compass LIMITED 1.AT AUTOMATIC</td>\n",
       "      <td>2017</td>\n",
       "      <td>63038</td>\n",
       "      <td>Petrol</td>\n",
       "      <td>1st Owner</td>\n",
       "      <td>GJ-23</td>\n",
       "      <td>1125799</td>\n",
       "    </tr>\n",
       "    <tr>\n",
       "      <th>5799</th>\n",
       "      <td>Maruti</td>\n",
       "      <td>Wagon R 1.VXI MANUAL</td>\n",
       "      <td>2017</td>\n",
       "      <td>38391</td>\n",
       "      <td>Petrol</td>\n",
       "      <td>1st Owner</td>\n",
       "      <td>GJ-01</td>\n",
       "      <td>435299</td>\n",
       "    </tr>\n",
       "  </tbody>\n",
       "</table>\n",
       "<p>5800 rows × 8 columns</p>\n",
       "</div>"
      ],
      "text/plain": [
       "       Brand                           Model Manufacturing_Year  \\\n",
       "0      Skoda                          Superb               2012   \n",
       "1       Benz                ercedes- S-Class               2016   \n",
       "2       Benz                ercedes- C-Class               2021   \n",
       "3      Skoda                          Superb               2010   \n",
       "4     Maruti              Suzuki Swift Dzire               2016   \n",
       "...      ...                             ...                ...   \n",
       "5795  Maruti             S PRESSO VXI MANUAL               2020   \n",
       "5796  Maruti            IGNIS ZETA 1.KMANUAL               2018   \n",
       "5797  Maruti     Celerio X Zxi AMT AUTOMATIC               2019   \n",
       "5798    Jeep  Compass LIMITED 1.AT AUTOMATIC               2017   \n",
       "5799  Maruti            Wagon R 1.VXI MANUAL               2017   \n",
       "\n",
       "     Kilometers_Driven Fuel_Type No_of_owners  \\\n",
       "0              58000.0    DIESEL          1st   \n",
       "1              41000.0    PETROL          1st   \n",
       "2               9700.0    PETROL          1st   \n",
       "3               120000    PETROL        First   \n",
       "4                70000       CNG       Second   \n",
       "...                ...       ...          ...   \n",
       "5795             18681    Petrol    1st Owner   \n",
       "5796             48213    Petrol    1st Owner   \n",
       "5797             67192    Petrol    1st Owner   \n",
       "5798             63038    Petrol    1st Owner   \n",
       "5799             38391    Petrol    1st Owner   \n",
       "\n",
       "                                               Location Car_Price  \n",
       "0                            Ramesh Nagar, Delhi, Delhi    425000  \n",
       "1                             Tilak Nagar, Delhi, Delhi   6990000  \n",
       "2     F 10, Shopping Centre, Near OBC Bank, Mansarov...   4990000  \n",
       "3                                                    --    165000  \n",
       "4                                                    --    395000  \n",
       "...                                                 ...       ...  \n",
       "5795                                              GJ-18    439699  \n",
       "5796                                              GJ-15    474799  \n",
       "5797                                              GJ-06    508199  \n",
       "5798                                              GJ-23   1125799  \n",
       "5799                                              GJ-01    435299  \n",
       "\n",
       "[5800 rows x 8 columns]"
      ]
     },
     "execution_count": 259,
     "metadata": {},
     "output_type": "execute_result"
    }
   ],
   "source": [
    "#DataFrame\n",
    "used_cars = pd.DataFrame({})\n",
    "used_cars['Brand'] = brand\n",
    "used_cars['Model'] = model\n",
    "used_cars['Manufacturing_Year'] = man_year\n",
    "used_cars['Kilometers_Driven'] = driven_km\n",
    "used_cars['Fuel_Type'] = fuel_type\n",
    "used_cars['No_of_owners'] = owners\n",
    "used_cars['Location'] = car_loc\n",
    "used_cars['Car_Price'] = car_price\n",
    "\n",
    "used_cars"
   ]
  },
  {
   "cell_type": "markdown",
   "id": "56f6c755",
   "metadata": {},
   "source": [
    "We can see that there are many rows with no values in all the columns, so we can drop them before saving the dataset."
   ]
  },
  {
   "cell_type": "code",
   "execution_count": 264,
   "id": "e51f86ef",
   "metadata": {},
   "outputs": [],
   "source": [
    "import numpy as np\n",
    "used_cars.replace(\"--\",np.nan,inplace = True)\n",
    "used_cars = used_cars.dropna(subset=['Car_Price'])\n",
    "used_cars= used_cars.reset_index(drop = True)"
   ]
  },
  {
   "cell_type": "code",
   "execution_count": 265,
   "id": "623a4c4c",
   "metadata": {},
   "outputs": [
    {
     "data": {
      "text/html": [
       "<div>\n",
       "<style scoped>\n",
       "    .dataframe tbody tr th:only-of-type {\n",
       "        vertical-align: middle;\n",
       "    }\n",
       "\n",
       "    .dataframe tbody tr th {\n",
       "        vertical-align: top;\n",
       "    }\n",
       "\n",
       "    .dataframe thead th {\n",
       "        text-align: right;\n",
       "    }\n",
       "</style>\n",
       "<table border=\"1\" class=\"dataframe\">\n",
       "  <thead>\n",
       "    <tr style=\"text-align: right;\">\n",
       "      <th></th>\n",
       "      <th>Brand</th>\n",
       "      <th>Model</th>\n",
       "      <th>Manufacturing_Year</th>\n",
       "      <th>Kilometers_Driven</th>\n",
       "      <th>Fuel_Type</th>\n",
       "      <th>No_of_owners</th>\n",
       "      <th>Location</th>\n",
       "      <th>Car_Price</th>\n",
       "    </tr>\n",
       "  </thead>\n",
       "  <tbody>\n",
       "    <tr>\n",
       "      <th>0</th>\n",
       "      <td>Skoda</td>\n",
       "      <td>Superb</td>\n",
       "      <td>2012</td>\n",
       "      <td>58000.0</td>\n",
       "      <td>DIESEL</td>\n",
       "      <td>1st</td>\n",
       "      <td>Ramesh Nagar, Delhi, Delhi</td>\n",
       "      <td>425000</td>\n",
       "    </tr>\n",
       "    <tr>\n",
       "      <th>1</th>\n",
       "      <td>Benz</td>\n",
       "      <td>ercedes- S-Class</td>\n",
       "      <td>2016</td>\n",
       "      <td>41000.0</td>\n",
       "      <td>PETROL</td>\n",
       "      <td>1st</td>\n",
       "      <td>Tilak Nagar, Delhi, Delhi</td>\n",
       "      <td>6990000</td>\n",
       "    </tr>\n",
       "    <tr>\n",
       "      <th>2</th>\n",
       "      <td>Benz</td>\n",
       "      <td>ercedes- C-Class</td>\n",
       "      <td>2021</td>\n",
       "      <td>9700.0</td>\n",
       "      <td>PETROL</td>\n",
       "      <td>1st</td>\n",
       "      <td>F 10, Shopping Centre, Near OBC Bank, Mansarov...</td>\n",
       "      <td>4990000</td>\n",
       "    </tr>\n",
       "    <tr>\n",
       "      <th>3</th>\n",
       "      <td>Skoda</td>\n",
       "      <td>Superb</td>\n",
       "      <td>2010</td>\n",
       "      <td>120000</td>\n",
       "      <td>PETROL</td>\n",
       "      <td>First</td>\n",
       "      <td>NaN</td>\n",
       "      <td>165000</td>\n",
       "    </tr>\n",
       "    <tr>\n",
       "      <th>4</th>\n",
       "      <td>Maruti</td>\n",
       "      <td>Suzuki Swift Dzire</td>\n",
       "      <td>2016</td>\n",
       "      <td>70000</td>\n",
       "      <td>CNG</td>\n",
       "      <td>Second</td>\n",
       "      <td>NaN</td>\n",
       "      <td>395000</td>\n",
       "    </tr>\n",
       "    <tr>\n",
       "      <th>...</th>\n",
       "      <td>...</td>\n",
       "      <td>...</td>\n",
       "      <td>...</td>\n",
       "      <td>...</td>\n",
       "      <td>...</td>\n",
       "      <td>...</td>\n",
       "      <td>...</td>\n",
       "      <td>...</td>\n",
       "    </tr>\n",
       "    <tr>\n",
       "      <th>5265</th>\n",
       "      <td>Maruti</td>\n",
       "      <td>S PRESSO VXI MANUAL</td>\n",
       "      <td>2020</td>\n",
       "      <td>18681</td>\n",
       "      <td>Petrol</td>\n",
       "      <td>1st Owner</td>\n",
       "      <td>GJ-18</td>\n",
       "      <td>439699</td>\n",
       "    </tr>\n",
       "    <tr>\n",
       "      <th>5266</th>\n",
       "      <td>Maruti</td>\n",
       "      <td>IGNIS ZETA 1.KMANUAL</td>\n",
       "      <td>2018</td>\n",
       "      <td>48213</td>\n",
       "      <td>Petrol</td>\n",
       "      <td>1st Owner</td>\n",
       "      <td>GJ-15</td>\n",
       "      <td>474799</td>\n",
       "    </tr>\n",
       "    <tr>\n",
       "      <th>5267</th>\n",
       "      <td>Maruti</td>\n",
       "      <td>Celerio X Zxi AMT AUTOMATIC</td>\n",
       "      <td>2019</td>\n",
       "      <td>67192</td>\n",
       "      <td>Petrol</td>\n",
       "      <td>1st Owner</td>\n",
       "      <td>GJ-06</td>\n",
       "      <td>508199</td>\n",
       "    </tr>\n",
       "    <tr>\n",
       "      <th>5268</th>\n",
       "      <td>Jeep</td>\n",
       "      <td>Compass LIMITED 1.AT AUTOMATIC</td>\n",
       "      <td>2017</td>\n",
       "      <td>63038</td>\n",
       "      <td>Petrol</td>\n",
       "      <td>1st Owner</td>\n",
       "      <td>GJ-23</td>\n",
       "      <td>1125799</td>\n",
       "    </tr>\n",
       "    <tr>\n",
       "      <th>5269</th>\n",
       "      <td>Maruti</td>\n",
       "      <td>Wagon R 1.VXI MANUAL</td>\n",
       "      <td>2017</td>\n",
       "      <td>38391</td>\n",
       "      <td>Petrol</td>\n",
       "      <td>1st Owner</td>\n",
       "      <td>GJ-01</td>\n",
       "      <td>435299</td>\n",
       "    </tr>\n",
       "  </tbody>\n",
       "</table>\n",
       "<p>5270 rows × 8 columns</p>\n",
       "</div>"
      ],
      "text/plain": [
       "       Brand                           Model Manufacturing_Year  \\\n",
       "0      Skoda                          Superb               2012   \n",
       "1       Benz                ercedes- S-Class               2016   \n",
       "2       Benz                ercedes- C-Class               2021   \n",
       "3      Skoda                          Superb               2010   \n",
       "4     Maruti              Suzuki Swift Dzire               2016   \n",
       "...      ...                             ...                ...   \n",
       "5265  Maruti             S PRESSO VXI MANUAL               2020   \n",
       "5266  Maruti            IGNIS ZETA 1.KMANUAL               2018   \n",
       "5267  Maruti     Celerio X Zxi AMT AUTOMATIC               2019   \n",
       "5268    Jeep  Compass LIMITED 1.AT AUTOMATIC               2017   \n",
       "5269  Maruti            Wagon R 1.VXI MANUAL               2017   \n",
       "\n",
       "     Kilometers_Driven Fuel_Type No_of_owners  \\\n",
       "0              58000.0    DIESEL          1st   \n",
       "1              41000.0    PETROL          1st   \n",
       "2               9700.0    PETROL          1st   \n",
       "3               120000    PETROL        First   \n",
       "4                70000       CNG       Second   \n",
       "...                ...       ...          ...   \n",
       "5265             18681    Petrol    1st Owner   \n",
       "5266             48213    Petrol    1st Owner   \n",
       "5267             67192    Petrol    1st Owner   \n",
       "5268             63038    Petrol    1st Owner   \n",
       "5269             38391    Petrol    1st Owner   \n",
       "\n",
       "                                               Location Car_Price  \n",
       "0                            Ramesh Nagar, Delhi, Delhi    425000  \n",
       "1                             Tilak Nagar, Delhi, Delhi   6990000  \n",
       "2     F 10, Shopping Centre, Near OBC Bank, Mansarov...   4990000  \n",
       "3                                                   NaN    165000  \n",
       "4                                                   NaN    395000  \n",
       "...                                                 ...       ...  \n",
       "5265                                              GJ-18    439699  \n",
       "5266                                              GJ-15    474799  \n",
       "5267                                              GJ-06    508199  \n",
       "5268                                              GJ-23   1125799  \n",
       "5269                                              GJ-01    435299  \n",
       "\n",
       "[5270 rows x 8 columns]"
      ]
     },
     "execution_count": 265,
     "metadata": {},
     "output_type": "execute_result"
    }
   ],
   "source": [
    "used_cars"
   ]
  },
  {
   "cell_type": "code",
   "execution_count": 267,
   "id": "d44f30c6",
   "metadata": {},
   "outputs": [],
   "source": [
    "#Saving the dataset\n",
    "used_cars.to_csv(\"used_cars.csv\",index=False)"
   ]
  },
  {
   "cell_type": "markdown",
   "id": "f5decf82",
   "metadata": {},
   "source": [
    "We have collected 5270 used car data for building the machine learning model that can make the predictions."
   ]
  }
 ],
 "metadata": {
  "kernelspec": {
   "display_name": "Python 3 (ipykernel)",
   "language": "python",
   "name": "python3"
  },
  "language_info": {
   "codemirror_mode": {
    "name": "ipython",
    "version": 3
   },
   "file_extension": ".py",
   "mimetype": "text/x-python",
   "name": "python",
   "nbconvert_exporter": "python",
   "pygments_lexer": "ipython3",
   "version": "3.8.8"
  }
 },
 "nbformat": 4,
 "nbformat_minor": 5
}
