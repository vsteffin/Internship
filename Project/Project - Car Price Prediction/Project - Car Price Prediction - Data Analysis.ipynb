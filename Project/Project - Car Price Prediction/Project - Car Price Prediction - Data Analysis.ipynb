{
 "cells": [
  {
   "cell_type": "markdown",
   "id": "fa89fcec",
   "metadata": {},
   "source": [
    "## CAR PRICE PREDICTION"
   ]
  },
  {
   "cell_type": "markdown",
   "id": "de407f1a",
   "metadata": {},
   "source": [
    "**Problem Statement**\n",
    "\n",
    "**With the covid 19 impact in the market, we have seen lot of changes in the car market. Now some\n",
    "cars are in demand hence making them costly and some are not in demand hence cheaper. One\n",
    "of our clients works with small traders, who sell used cars. With the change in market due to covid\n",
    "19 impact, our client is facing problems with their previous car price valuation machine learning\n",
    "models. So, they are looking for new machine learning models from new data. We have to make\n",
    "car price valuation model.**"
   ]
  },
  {
   "cell_type": "markdown",
   "id": "0603e4e8",
   "metadata": {},
   "source": [
    "Aim : We have to make car price valuation model."
   ]
  },
  {
   "cell_type": "markdown",
   "id": "56809bf3",
   "metadata": {},
   "source": [
    "Dataset:\n",
    "    We have data for 5270 used cars in the dataset with 7 features about each car along with the target variable, price of car."
   ]
  },
  {
   "cell_type": "code",
   "execution_count": 1,
   "id": "e6f7cb7e",
   "metadata": {},
   "outputs": [
    {
     "data": {
      "text/html": [
       "<div>\n",
       "<style scoped>\n",
       "    .dataframe tbody tr th:only-of-type {\n",
       "        vertical-align: middle;\n",
       "    }\n",
       "\n",
       "    .dataframe tbody tr th {\n",
       "        vertical-align: top;\n",
       "    }\n",
       "\n",
       "    .dataframe thead th {\n",
       "        text-align: right;\n",
       "    }\n",
       "</style>\n",
       "<table border=\"1\" class=\"dataframe\">\n",
       "  <thead>\n",
       "    <tr style=\"text-align: right;\">\n",
       "      <th></th>\n",
       "      <th>Brand</th>\n",
       "      <th>Model</th>\n",
       "      <th>Manufacturing_Year</th>\n",
       "      <th>Kilometers_Driven</th>\n",
       "      <th>Fuel_Type</th>\n",
       "      <th>No_of_owners</th>\n",
       "      <th>Location</th>\n",
       "      <th>Car_Price</th>\n",
       "    </tr>\n",
       "  </thead>\n",
       "  <tbody>\n",
       "    <tr>\n",
       "      <th>0</th>\n",
       "      <td>Skoda</td>\n",
       "      <td>Superb</td>\n",
       "      <td>2012.0</td>\n",
       "      <td>58000.0</td>\n",
       "      <td>DIESEL</td>\n",
       "      <td>1st</td>\n",
       "      <td>Ramesh Nagar, Delhi, Delhi</td>\n",
       "      <td>425000</td>\n",
       "    </tr>\n",
       "    <tr>\n",
       "      <th>1</th>\n",
       "      <td>Benz</td>\n",
       "      <td>Mercedes- S-Class</td>\n",
       "      <td>2016.0</td>\n",
       "      <td>41000.0</td>\n",
       "      <td>PETROL</td>\n",
       "      <td>1st</td>\n",
       "      <td>Tilak Nagar, Delhi, Delhi</td>\n",
       "      <td>6990000</td>\n",
       "    </tr>\n",
       "    <tr>\n",
       "      <th>2</th>\n",
       "      <td>Benz</td>\n",
       "      <td>Mercedes- C-Class</td>\n",
       "      <td>2021.0</td>\n",
       "      <td>9700.0</td>\n",
       "      <td>PETROL</td>\n",
       "      <td>1st</td>\n",
       "      <td>F 10, Shopping Centre, Near OBC Bank, Mansarov...</td>\n",
       "      <td>4990000</td>\n",
       "    </tr>\n",
       "    <tr>\n",
       "      <th>3</th>\n",
       "      <td>Skoda</td>\n",
       "      <td>Superb</td>\n",
       "      <td>2010.0</td>\n",
       "      <td>120000.0</td>\n",
       "      <td>PETROL</td>\n",
       "      <td>First</td>\n",
       "      <td>NaN</td>\n",
       "      <td>165000</td>\n",
       "    </tr>\n",
       "    <tr>\n",
       "      <th>4</th>\n",
       "      <td>Maruti</td>\n",
       "      <td>Suzuki Swift Dzire</td>\n",
       "      <td>2016.0</td>\n",
       "      <td>70000.0</td>\n",
       "      <td>CNG</td>\n",
       "      <td>Second</td>\n",
       "      <td>NaN</td>\n",
       "      <td>395000</td>\n",
       "    </tr>\n",
       "    <tr>\n",
       "      <th>5</th>\n",
       "      <td>Toyota</td>\n",
       "      <td>Innova Crysta</td>\n",
       "      <td>2018.0</td>\n",
       "      <td>11800.0</td>\n",
       "      <td>DIESEL</td>\n",
       "      <td>1st</td>\n",
       "      <td>Rohini Sector 7, Delhi, Delhi</td>\n",
       "      <td>2129000</td>\n",
       "    </tr>\n",
       "    <tr>\n",
       "      <th>6</th>\n",
       "      <td>Nissan</td>\n",
       "      <td>Sunny</td>\n",
       "      <td>2012.0</td>\n",
       "      <td>72534.0</td>\n",
       "      <td>DIESEL</td>\n",
       "      <td>1st</td>\n",
       "      <td>Rohini Sector 2, Delhi, Delhi</td>\n",
       "      <td>220000</td>\n",
       "    </tr>\n",
       "    <tr>\n",
       "      <th>7</th>\n",
       "      <td>Hyundai</td>\n",
       "      <td>Santro Xing</td>\n",
       "      <td>2013.0</td>\n",
       "      <td>65000.0</td>\n",
       "      <td>PETROL</td>\n",
       "      <td>1st</td>\n",
       "      <td>Udyog Nagar Industrial Area, Delhi, Delhi</td>\n",
       "      <td>180000</td>\n",
       "    </tr>\n",
       "    <tr>\n",
       "      <th>8</th>\n",
       "      <td>Hyundai</td>\n",
       "      <td>I10</td>\n",
       "      <td>2011.0</td>\n",
       "      <td>62300.0</td>\n",
       "      <td>CNG &amp; HYBRIDS</td>\n",
       "      <td>2nd</td>\n",
       "      <td>Rohini Sector 7, Delhi, Delhi</td>\n",
       "      <td>221000</td>\n",
       "    </tr>\n",
       "    <tr>\n",
       "      <th>9</th>\n",
       "      <td>Toyota</td>\n",
       "      <td>Corolla Altis</td>\n",
       "      <td>2012.0</td>\n",
       "      <td>47000.0</td>\n",
       "      <td>PETROL</td>\n",
       "      <td>1st</td>\n",
       "      <td>Rohini Sector 7, Delhi, Delhi</td>\n",
       "      <td>445000</td>\n",
       "    </tr>\n",
       "  </tbody>\n",
       "</table>\n",
       "</div>"
      ],
      "text/plain": [
       "     Brand               Model  Manufacturing_Year  Kilometers_Driven  \\\n",
       "0    Skoda              Superb              2012.0            58000.0   \n",
       "1     Benz   Mercedes- S-Class              2016.0            41000.0   \n",
       "2     Benz   Mercedes- C-Class              2021.0             9700.0   \n",
       "3    Skoda              Superb              2010.0           120000.0   \n",
       "4   Maruti  Suzuki Swift Dzire              2016.0            70000.0   \n",
       "5   Toyota       Innova Crysta              2018.0            11800.0   \n",
       "6   Nissan               Sunny              2012.0            72534.0   \n",
       "7  Hyundai         Santro Xing              2013.0            65000.0   \n",
       "8  Hyundai                 I10              2011.0            62300.0   \n",
       "9   Toyota       Corolla Altis              2012.0            47000.0   \n",
       "\n",
       "       Fuel_Type No_of_owners  \\\n",
       "0         DIESEL          1st   \n",
       "1         PETROL          1st   \n",
       "2         PETROL          1st   \n",
       "3         PETROL        First   \n",
       "4            CNG       Second   \n",
       "5         DIESEL          1st   \n",
       "6         DIESEL          1st   \n",
       "7         PETROL          1st   \n",
       "8  CNG & HYBRIDS          2nd   \n",
       "9         PETROL          1st   \n",
       "\n",
       "                                            Location  Car_Price  \n",
       "0                         Ramesh Nagar, Delhi, Delhi     425000  \n",
       "1                          Tilak Nagar, Delhi, Delhi    6990000  \n",
       "2  F 10, Shopping Centre, Near OBC Bank, Mansarov...    4990000  \n",
       "3                                                NaN     165000  \n",
       "4                                                NaN     395000  \n",
       "5                      Rohini Sector 7, Delhi, Delhi    2129000  \n",
       "6                      Rohini Sector 2, Delhi, Delhi     220000  \n",
       "7          Udyog Nagar Industrial Area, Delhi, Delhi     180000  \n",
       "8                      Rohini Sector 7, Delhi, Delhi     221000  \n",
       "9                      Rohini Sector 7, Delhi, Delhi     445000  "
      ]
     },
     "execution_count": 1,
     "metadata": {},
     "output_type": "execute_result"
    }
   ],
   "source": [
    "#Loading the dataset\n",
    "import pandas as pd\n",
    "\n",
    "import warnings\n",
    "warnings.filterwarnings('ignore')\n",
    "\n",
    "data = pd.read_csv(\"used_cars.csv\")\n",
    "data.head(10)"
   ]
  },
  {
   "cell_type": "markdown",
   "id": "347a0585",
   "metadata": {},
   "source": [
    "### Exploratory Data Analysis"
   ]
  },
  {
   "cell_type": "code",
   "execution_count": 2,
   "id": "9d312557",
   "metadata": {},
   "outputs": [
    {
     "data": {
      "text/plain": [
       "(5270, 8)"
      ]
     },
     "execution_count": 2,
     "metadata": {},
     "output_type": "execute_result"
    }
   ],
   "source": [
    "data.shape"
   ]
  },
  {
   "cell_type": "markdown",
   "id": "fabc9b92",
   "metadata": {},
   "source": [
    "We have 5270 rows and 8 columns in the dataset."
   ]
  },
  {
   "cell_type": "code",
   "execution_count": 3,
   "id": "1449ded0",
   "metadata": {},
   "outputs": [
    {
     "data": {
      "text/plain": [
       "Brand                  object\n",
       "Model                  object\n",
       "Manufacturing_Year    float64\n",
       "Kilometers_Driven     float64\n",
       "Fuel_Type              object\n",
       "No_of_owners           object\n",
       "Location               object\n",
       "Car_Price               int64\n",
       "dtype: object"
      ]
     },
     "execution_count": 3,
     "metadata": {},
     "output_type": "execute_result"
    }
   ],
   "source": [
    "data.dtypes"
   ]
  },
  {
   "cell_type": "markdown",
   "id": "d672503f",
   "metadata": {},
   "source": [
    "We have string, float and integer type of data in the dataset."
   ]
  },
  {
   "cell_type": "code",
   "execution_count": 4,
   "id": "430c0f14",
   "metadata": {},
   "outputs": [
    {
     "name": "stdout",
     "output_type": "stream",
     "text": [
      "<class 'pandas.core.frame.DataFrame'>\n",
      "RangeIndex: 5270 entries, 0 to 5269\n",
      "Data columns (total 8 columns):\n",
      " #   Column              Non-Null Count  Dtype  \n",
      "---  ------              --------------  -----  \n",
      " 0   Brand               5270 non-null   object \n",
      " 1   Model               5269 non-null   object \n",
      " 2   Manufacturing_Year  5269 non-null   float64\n",
      " 3   Kilometers_Driven   5267 non-null   float64\n",
      " 4   Fuel_Type           5247 non-null   object \n",
      " 5   No_of_owners        5195 non-null   object \n",
      " 6   Location            5049 non-null   object \n",
      " 7   Car_Price           5270 non-null   int64  \n",
      "dtypes: float64(2), int64(1), object(5)\n",
      "memory usage: 329.5+ KB\n"
     ]
    }
   ],
   "source": [
    "data.info()"
   ]
  },
  {
   "cell_type": "markdown",
   "id": "366208e1",
   "metadata": {},
   "source": [
    "We have 5270 non null values in columns ['Brand', 'Car_Price']"
   ]
  },
  {
   "cell_type": "code",
   "execution_count": 5,
   "id": "ef99d204",
   "metadata": {},
   "outputs": [
    {
     "data": {
      "text/plain": [
       "Index(['Brand', 'Model', 'Manufacturing_Year', 'Kilometers_Driven',\n",
       "       'Fuel_Type', 'No_of_owners', 'Location', 'Car_Price'],\n",
       "      dtype='object')"
      ]
     },
     "execution_count": 5,
     "metadata": {},
     "output_type": "execute_result"
    }
   ],
   "source": [
    "data.columns"
   ]
  },
  {
   "cell_type": "markdown",
   "id": "e506806a",
   "metadata": {},
   "source": [
    "### Features in Dataset(Independent Variable)"
   ]
  },
  {
   "cell_type": "markdown",
   "id": "68444b6f",
   "metadata": {},
   "source": [
    "`Brand` - Brand of the car\n",
    "\n",
    "`Model` - Model and variant of the car\n",
    "\n",
    "`Manufacturing_Year` - Manufacturing year of the car\n",
    "\n",
    "`Kilometers_Driven` - Total Kilometers driven as per odometer\n",
    "\n",
    "`Fuel_Type` - Fuel type\n",
    "\n",
    "`No_of_owners` - Number of owners from the first purchase.\n",
    "\n",
    "`Location` - Current location of the car or registration of the car"
   ]
  },
  {
   "cell_type": "markdown",
   "id": "0a0d5ed6",
   "metadata": {},
   "source": [
    "### Target in dataset(Dependent Variable)"
   ]
  },
  {
   "cell_type": "markdown",
   "id": "4b0d16b3",
   "metadata": {},
   "source": [
    "`Car_Price` - Price for which the car is available for sale."
   ]
  },
  {
   "cell_type": "markdown",
   "id": "f996c6c3",
   "metadata": {},
   "source": [
    "### Exploring the categorical Variables in the dataset"
   ]
  },
  {
   "cell_type": "code",
   "execution_count": 6,
   "id": "c5a818b9",
   "metadata": {},
   "outputs": [
    {
     "name": "stdout",
     "output_type": "stream",
     "text": [
      "Brand\n",
      "**************************************************\n",
      "38\n",
      "['Skoda' 'Benz' 'Maruti' 'Toyota' 'Nissan' 'Hyundai' 'Honda' 'Tata'\n",
      " 'Mercedes' 'Audi' 'Mini' 'Bmw' 'Land' 'Volvo' 'Mahindra' 'Volkswagen'\n",
      " 'Chevrolet' 'Renault' 'Ford' 'Bajaj' 'Porsche' 'Hummer' 'Kia'\n",
      " 'Ambassador' 'Fiat' 'Jeep' 'Datsun' 'Mg' 'Jaguar' 'Mitsubishi'\n",
      " 'Hindustan' 'Bentley' 'Isuzu' 'Other' 'Maserati' 'MG' 'KIA' 'BMW']\n",
      "Missing Value Count :  0\n",
      "Missing Data Percent :  0.0\n",
      "^^^^^^^^^^^^^^^^^^^^^^^^^^^^^^^^^^^^^^^^^^^^^^^^^^\n",
      "Model\n",
      "**************************************************\n",
      "760\n",
      "['Superb' 'Mercedes- S-Class' 'Mercedes- C-Class' 'Suzuki Swift Dzire'\n",
      " 'Innova Crysta' 'Sunny' 'Santro Xing' 'I10' 'Corolla Altis'\n",
      " 'Suzuki Wagon R' 'City Zx' 'Tiago' 'Suzuki Alto K10' 'Civic'\n",
      " 'Benz Gle Class' 'Mercedes- E-Class' 'Q2' 'Cooper Convertible' 'Innova'\n",
      " 'X1' 'Safari' 'Suzuki Swift' 'A3 Cabriolet' 'Rover Range Rover'\n",
      " 'Rover Range Rover Sport' 'Xc40' 'Fluidic Verna' 'City' 'Scorpio'\n",
      " 'Grand I10' 'Suzuki Ritz' 'Fortuner' 'Suzuki Eeco' 'Creta'\n",
      " 'Suzuki Baleno' 'Polo' 'Beat' 'Santa Fe' 'Yeti' 'Xuv500' 'Elantra'\n",
      " 'Safari Storme' 'Suzuki Wagon R 1.0' 'Mercedes- New C-Class' 'Duster'\n",
      " '7 Series' 'A6' 'Amaze' 'Suzuki Alto 800' 'Marazzo' 'Vento' 'Venue'\n",
      " 'Santro' 'Suzuki Sx4' 'Br-V' 'Elite I20' 'Ecosport' 'Suzuki S-Presso'\n",
      " 'Mercedes- A Class' 'Re60' 'Suzuki Zen Estilo' 'Jazz' 'Eon' 'Figo' 'I20'\n",
      " 'Cruze' 'Rapid' 'Kuv 100' 'Accord' 'Verna' 'Brio' 'Suzuki Ciaz'\n",
      " 'Suzuki Ignis' 'Suzuki Ertiga' 'Boxster' 'Evalia' 'Others'\n",
      " 'Suzuki Vitara Brezza' 'S90' 'H2' 'Sonet' 'Suzuki Alto' nan 'X6' 'Cr-V'\n",
      " 'Mercedes- E-Class Cabriolet' 'Ameo' 'Nano' 'Suzuki Celerio' 'Captiva'\n",
      " 'Suzuki Omni' 'Suzuki 800' 'Corolla' 'Suzuki Estilo' 'Kwid' 'Bolero'\n",
      " 'Punto Evo' 'Suzuki Gypsy' 'Zest' 'Fiesta' 'Sumo Grande' 'Compass' 'Thar'\n",
      " 'Vista' 'Suzuki Zen' 'Indica' 'Datsun Redi Go' 'X5' 'Suzuki S-Cross'\n",
      " 'Ikon' 'Etios' 'Mercedes- Gla' '5 Series' 'Grand I 10' 'Q5' 'Micra'\n",
      " 'Etios Liva' 'Aveo' 'Mercedes- Gl-Class' 'Manza' 'Micra Active' 'Tuv 300'\n",
      " 'Q7' 'Suzuki Xl6' 'Tavera' 'Camry' 'Benz C-Class' 'Redigo' 'H2x' 'Spark'\n",
      " 'Hexa' 'Suzuki Esteem' 'Mercedes- Gle Class' 'Platinum Etios' 'Q3'\n",
      " 'Cooper Countryman' 'Xuv300' 'Hector' 'Rover Discovery' 'Tucson' 'Aura'\n",
      " 'Mercedes- Gls' 'A4' 'Suzuki A-Star' 'Seltos' 'Hector Plus' 'Cayenne'\n",
      " 'Endeavour' 'S60' 'Xj' 'Nexon' 'X3' 'Suzuki S Cross' 'Bolero Pik-Up'\n",
      " '3 Series' 'Mercedes- Cla' 'Cooper' 'Accent' 'Tigor' 'Passat' 'Glanza'\n",
      " 'Cynos' 'Wr-V' 'Pajero' 'Xf' 'Suzuki Celerio X' 'Kushaq' 'Terrano'\n",
      " 'Octavia' 'Xylo' 'Motors Ambassador' 'Mercedes- Cls-Class' 'Quanto'\n",
      " 'Indigo Cs' 'Xcent' 'Xe' 'Alcazar' 'Grand I10 Nios' 'Tt'\n",
      " 'Suzuki Wagon R Stingray' '1 Series' 'Enjoy' 'Getz'\n",
      " 'Continental Flying Spur' 'Punch' 'Ssangyong Rexton'\n",
      " 'Mercedes- E-Class (2009.0)' 'Harrier' 'Linea' 'Lodgy'\n",
      " 'Suzuki Wagon R Duo' 'Indica Vista' 'Indica V2' 'Tavera Neo' 'Altroz'\n",
      " 'Accent Viva' 'Yaris' 'I20 Active' 'Sumo' 'Mobilio' 'Captur' 'Verito'\n",
      " 'Revai' 'Laura' 'Figo Aspire' 'Suzuki Swift Dzire Tour' 'Go' 'Scala'\n",
      " 'Bolero Power Plus' 'V40' 'Rover Range Rover Evoque' '6 Series'\n",
      " 'Jcw (John Cooper Works)' 'F-Pace' 'Suzuki Ciaz S' 'Lancer' 'Gti'\n",
      " 'Indica E V2' 'M Series' 'Jetta' 'Bolt' 'Land Cruiser Prado' 'Gloster'\n",
      " 'Mu-X' 'Xc90' 'Xc 90' 'Grand Cherokee' 'Mercedes- Glc Class'\n",
      " 'Flying Spur' 'Qualis' 'Benz Glc Class' 'Benz C Class' 'X7' 'Punto'\n",
      " 'Brands s' 'Quattroporte' 'Alturas G4' 'Carnival' 'A8' 'E2o Plus' 'A3'\n",
      " 'A5' 'Kiger' 'Mercedes- M-Class' 'Tiago Nrg' 'I3' 'Urban Cruiser' 'Pulse'\n",
      " 'Mercedes- Ml Class' 'Mercedes- Viano' 'Prius' 'Triber' 'Sonata'\n",
      " 'Indica V2 Xeta' 'Renault Logan' 'Alphard' 'Freestyle'\n",
      " 'Rover Freelander 2' 'KUV NXT' 'Baleno' 'WR-V' 'Ciaz' 'EON' 'Swift'\n",
      " 'XUV500' 'i20' 'Grand i10' 'Vitara Brezza' 'Wagon R' 'S-Presso'\n",
      " 'Swift Dzire' 'Alto K10' 'Alto' 'KWID' 'Etios Cross' 'Ertiga' 'Ignis'\n",
      " 'Alto 800' 'BR-V' 'Celerio' 'Grand iNios' 'i10' 'RediGO' 'Celerio X'\n",
      " 'XL6' 'TUV 300' 'Ritz' 'SXS Cross' 'iActive' 'XUV300' 'Compass Trailhawk'\n",
      " 'GO Plus' 'KUV 100' 'Baleno RS' 'Kicks' 'A-Star' 'Urban cruiser' 'GO'\n",
      " 'Zen Estilo' 'Ciaz S' 'Magnite' 'CR-V' 'SELTOS GTX + AT PETROL AUTOMATIC'\n",
      " 'Baleno DELTA 1.KMANUAL' 'Civic ZX CVT PETROL AUTOMATIC'\n",
      " 'Kiger RXZ 1.Easy R Petrol' 'WR-V 1.i-VTEC VX MT MANUAL'\n",
      " 'Polo TRENDLINE 1.2L PETROL MANUAL' 'XF 2.DIESEL AUTOMATIC'\n",
      " 'iERA 1.IRDE MANUAL' 'HECTOR PLUS SHARP HYBRID PETROL MANUAL'\n",
      " 'NEW SANTRO 1.ERA EXICUTIVE MANUAL' 'Compass 2.LIMITED MANUAL'\n",
      " 'Compass 1.SPORT PETROL MANUAL' 'Kwid RXL MANUAL' 'NEW IMAGNA 1.MT'\n",
      " 'Compass 1.LONGITUDE (O) AT AUTOMATIC'\n",
      " 'Creta 1.SX PLUS AUTO PETROL AUTOMATIC'\n",
      " 'VENUE 1.0L Turbo GDI SX MT MANUAL'\n",
      " 'Benz E Class E CDI AVANTGARDE AUTOMATIC'\n",
      " 'Swift Dzire VXI 1.BS IV MANUAL' 'Ciaz ALPHA 1.MT VTVT SHVS MANUAL'\n",
      " 'iMAGNA 1.IRDEMANUAL' 'S Cross ALPHA SHVS MANUAL'\n",
      " 'City V MT PETROL MANUAL' 'City VX MT PETROL MANUAL'\n",
      " 'Benz GLA Class CDI STYLE AUTOMATIC' 'Grand iMAGNA 1.VTVT MANUAL'\n",
      " 'Innova 2.VX STR BS IV MANUAL' 'Wagon R 1.LXI MANUAL'\n",
      " 'City S MT PETROL MANUAL' 'iMAGNA 1.MANUAL'\n",
      " 'Verna 1.SX (O) CRDI MT MANUAL' 'Grand iSPORTZ (O) 1.AT VTVT AUTOMATIC'\n",
      " 'Vitara Brezza VXI MANUAL' 'Kwid RXT MANUAL' 'Glanza V CVT AUTOMATIC'\n",
      " 'Amaze 1.EMT I VTEC MANUAL' 'Vitara Brezza LDI OPT MANUAL'\n",
      " 'Creta 1.E PLUS CRDI MANUAL' 'HECTOR SHARP DCT PETROL AUTOMATIC'\n",
      " 'Alto VXI MANUAL' 'VENUE S MT 1.KAPPA MANUAL'\n",
      " 'Tiago XTA 1.PETROL AUTOMATIC' 'Polo COMFORTLINE 1.2L PETROL MANUAL'\n",
      " 'Tiago XZ 1.REVOTRON MANUAL' 'Ecosport 1.TITANIUMTDCI OPT MANUAL'\n",
      " 'Duster RXS PS MT MANUAL' 'Ciaz ZXI+ AT AUTOMATIC' 'Swift VDI ABS MANUAL'\n",
      " 'Redi Go T (O) MANUAL' 'Jazz VX 1.CVT AUTOMATIC'\n",
      " 'Swift Dzire VDI ABS MANUAL' 'Alto LXI MANUAL' 'Kiger RXZ 1.TURBO MT'\n",
      " 'Celerio VXI MANUAL' 'Thar LX 4WD AT CONVERTIBLE AUTOMATIC'\n",
      " 'iSPORTZ 1.CRDI MANUAL' 'Amaze 1.SX MT I VTEC MANUAL' 'Swift ZXI MANUAL'\n",
      " 'ALTROZ XZ 1.MANUAL' 'VENUE SX(O) CRDi MANUAL' 'YARIS G CVT AUTOMATIC'\n",
      " 'Swift LXI MANUAL' 'Corolla Altis J S MANUAL'\n",
      " 'Alto KVXI (O) AMT AUTOMATIC' 'Etios CROSS VD MANUAL' 'Alto KVXI MANUAL'\n",
      " 'City ZX CVT AUTOMATIC' 'Figo Aspire 1.TITANIUM PETROL MANUAL'\n",
      " 'Celerio VXI AT AUTOMATIC' 'New Wagon-R 1.Lxi (o) cng MANUAL'\n",
      " 'Alto VXI PLUS MANUAL' 'XUVWAT AUTOMATIC' 'Swift Dzire LDI BS IV MANUAL'\n",
      " 'HECTOR SUPER DIESEL MANUAL' 'NEW SANTRO 1.MAGNA MT MANUAL'\n",
      " 'Jazz 1.ZX MT MANUAL' 'Grand iMAGNA 1.KAPPA VTVT MANUAL'\n",
      " 'Creta 1.S MANUAL' 'Verna FLUIDIC 1.CRDI S MANUAL'\n",
      " 'GRAND INIOS SPORTZ PETROL MANUAL' 'Rapid STYLE 1.0TSI MT MANUAL'\n",
      " 'Jazz 1.S MT MANUAL' 'Grand iSPORTZ 1.KAPPA VTVT MANUAL'\n",
      " 'Elite iASTA 1.MANUAL' 'Corolla Altis G AT AUTOMATIC' 'Ritz LXI MANUAL'\n",
      " 'Alto LXI CNG MANUAL' 'Xcent S 1.MANUAL' 'Swift VXI MANUAL'\n",
      " 'Brio 1.VX AT I VTEC AUTOMATIC' 'Creta 1.S CRDI MANUAL'\n",
      " 'WR-V 1.i-VTEC S MT MANUAL' 'Ciaz VXI PLUS MANUAL'\n",
      " 'Elite i1.SPORTS PLUS VTVT MANUAL' 'Grand iASTA 1.KAPPA VTVT MANUAL'\n",
      " 'Creta 1.SX PLUS PETROL MANUAL' 'Brio 1.S MT I VTEC MANUAL'\n",
      " 'Corolla Altis GL MANUAL' 'Amaze 1.SMT I VTEC MANUAL'\n",
      " 'Etios Liva G SP MANUAL' 'iASTA 1.MANUAL'\n",
      " 'Tucson New 2WD AT GLS PETROL AUTOMATIC' 'Etios Liva G MANUAL'\n",
      " 'Ecosport 1.TITANIUM TI VCT MANUAL' 'Glanza G CVT AUTOMATIC'\n",
      " 'NEXON XZ+ 1.MANUAL' 'Baleno ZETA 1.KMANUAL'\n",
      " 'Ecosport 1.TITANIUM TI VCT AT AUTOMATIC' 'Alto LXI OPT MANUAL'\n",
      " 'Safari XM 2.KRYOTEC MANUAL' 'City VX CVT PETROL AUTOMATIC'\n",
      " 'GRAND INIOS ERA PETROL MANUAL' 'XUVWFWD AT AUTOMATIC'\n",
      " 'New Wagon-R LXI CNG 1.L MANUAL' 'XLALPHA SHVS MT MANUAL'\n",
      " 'Dzire VXI MANUAL' 'Harrier XZ 2.0L Kryotec MANUAL'\n",
      " 'Celerio X ZXI OPT AMT AUTOMATIC' 'Ecosport 1.5TITANIUM TDCI MANUAL'\n",
      " 'Jazz 1.V MT MANUAL' 'S PRESSO VXI PLUS MANUAL'\n",
      " 'Vitara Brezza VDI MANUAL' 'XUV 3OO 1.WMT' 'Celerio ZXI OPT MANUAL'\n",
      " 'Ciaz DELTA 1.VVT MANUAL' 'Dzire LXI MANUAL' 'Creta 1.SX CRDI MANUAL'\n",
      " 'Jazz 1.V AT AUTOMATIC' 'Vitara Brezza VDI OPT MANUAL'\n",
      " 'Ecosport 1.TITANIUM SIGNATURE TI VCT (SUNROOF) MANUAL' 'Etios VX MANUAL'\n",
      " 'Innova Crysta 2.ZX AT STR AUTOMATIC' 'KuvK6+ STR MANUAL'\n",
      " 'Ecosport 1.TREND TI VCT MANUAL' 'SELTOS HTX AT PETROL AUTOMATIC'\n",
      " 'IGNIS DELTA 1.KAMT AUTOMATIC' 'XUV 3OO W8(O) MANUAL'\n",
      " 'Ecosport 1.TITANIUM PLUS TI VCT AT AUTOMATIC' 'Xcent BASE 1.MANUAL'\n",
      " 'IGNIS DELTA 1.KMANUAL' 'Ciaz ZDI+ SHVS MANUAL' 'Swift ZDI MANUAL'\n",
      " 'Baleno ALPHA 1.KMANUAL' 'Ciaz DELTA 1.DDIS SHVS MANUAL'\n",
      " 'XSDRIVE 20D AUTOMATIC' 'A35TDI PREMIUM AUTOMATIC'\n",
      " 'A2.TDI PREMIUM AUTOMATIC' 'Ecosport 1.AMBIENTE TDCI MANUAL'\n",
      " 'XUV 3OO 1.WMT MANUAL' 'Ecosport 1.TDCI TITANIUM PLUS MANUAL'\n",
      " 'Swift LDI BS IV MANUAL' 'Duster RXS PS MANUAL' 'iERA 1.CRDI MANUAL'\n",
      " 'Ritz ZXI MANUAL' 'Grand iSPORTS 1.VTVT MANUAL'\n",
      " 'Tiago XZA+ 1.RTN AUTOMATIC' 'Ertiga ZXI SMART HYBRID AT AUTOMATIC'\n",
      " 'Elite iSPORTZ 1.MANUAL' 'A Star VXI ABS AT AUTOMATIC'\n",
      " 'TRIBER RXZ AT AUTOMATIC' 'Ertiga VXI MANUAL' 'TRIBER RXL AT AUTOMATIC'\n",
      " 'TRIBER 1.RXT MANUAL' 'iSPORTZ 1.IRDEMANUAL' 'iSPORTZ 1.VTVT MANUAL'\n",
      " 'Sonata 2.GDI AT AUTOMATIC' 'Corolla Altis G MANUAL'\n",
      " 'Celerio VXI AMT AUTOMATIC' 'HECTOR SHARP 2.DIESEL MANUAL'\n",
      " 'XUVW(O) AT AUTOMATIC' 'SELTOS GTX+ 1.MT MANUAL'\n",
      " 'URBAN CRUISER PREMIUM DUAL TONE AT' 'Ertiga ZXI MANUAL'\n",
      " 'Kwid RXT Opt MANUAL' 'AURA E MT 1.KAPPA MANUAL' 'CRV 2.2WD AT AUTOMATIC'\n",
      " 'Kwid 1.RXT Opt AT AUTOMATIC' 'New Wagon-R ZXI 1.MANUAL'\n",
      " 'Vento Highline 1.TSI MT MANUAL' 'Elite iMagna Executive 1.MANUAL'\n",
      " 'Ritz VXI MANUAL' 'Polo GT TSI 1.PETROL AT AUTOMATIC'\n",
      " 'Swift Dzire VDI BS IV MANUAL' 'SONET GTX PLUS 1.DCT AT'\n",
      " 'Swift VXI AMT AUTOMATIC' 'Creta S PETROL MT MANUAL'\n",
      " 'Scorpio SIntelli Hybrid 2WD MANUAL' 'Harrier XM 2.0L Kryotec MANUAL'\n",
      " 'TRIBER 1.RXZ MANUAL' 'Vitara Brezza ZXI + MANUAL' 'Wagon R 1.VXI MANUAL'\n",
      " 'Xcent S 1.OPT MANUAL' 'Ciaz ZDI MANUAL'\n",
      " 'Kwid RXT 1.EASY-R AT OPTION AUTOMATIC' 'Elite iMAGNA 1.MANUAL'\n",
      " 'SELTOS 1.GTX+ AT AUTOMATIC' 'Baleno ZETA 1.KCVT AUTOMATIC'\n",
      " 'Dzire VXI AMT AUTOMATIC' 'Vitara Brezza ZDI PLUS DUAL TONE MANUAL'\n",
      " 'S PRESSO VXI CNG MANUAL' 'Swift ZXI+ MANUAL'\n",
      " 'Vento HIGHLINE PETROL MANUAL' 'Etios V MANUAL'\n",
      " 'Vitara Brezza ZXI+ AT SHVS AUTOMATIC' 'Xcent SX 1.OPT MANUAL'\n",
      " 'Swift ZXI AMT AUTOMATIC' 'Ciaz ZETA 1.VVT AMT AUTOMATIC'\n",
      " 'XUVW(O) MANUAL' 'Micra Active XV MANUAL'\n",
      " 'S PRESSO VXI PLUS AGS AUTOMATIC' 'Celerio VXI (O) MANUAL'\n",
      " 'Dzire ZXI AMT AUTOMATIC' 'Grand imagna 1.crdi MANUAL'\n",
      " 'Hexa Varicor XT MANUAL' 'Celerio ZXI MANUAL'\n",
      " 'Rapid AMBITION 1.MPI MT PLUS MANUAL' 'Jazz VX 1.MANUAL'\n",
      " 'Creta 1.SX AT CRDI AUTOMATIC' 'iSPORTZ 1.AT KAPPAAUTOMATIC'\n",
      " 'Eon MAGNA PLUS MANUAL' 'Polo GT TSI AT 1.AUTOMATIC'\n",
      " 'Amaze VX AT I DTEC AUTOMATIC' 'City SV MT PETROL MANUAL'\n",
      " 'Corolla Altis VL AT AUTOMATIC' 'Tiago XZA 1.REVOTRON AUTOMATIC'\n",
      " 'XUVWMANUAL' 'VENUE SX 1.GDI IMT MANUAL' 'Ciaz VDI+ SHVS MANUAL'\n",
      " 'Ciaz ZXI MANUAL' 'Ciaz DELTA 1.SHVS VVT MT MANUAL'\n",
      " 'Wagon R 1.VXI AMT AUTOMATIC' 'Swift VXI OPT MANUAL'\n",
      " 'Figo Aspire 1.TREND DIESEL MANUAL' 'SELTOS HTK PLUS 1.PETROL MANUAL'\n",
      " 'MAGNITE XL Turbo CVT' 'Ertiga ZXI Plus SHVS MANUAL'\n",
      " 'Kiger RXZ AMT 1.DUAL TONE' 'URBAN CRUISER PREMIUM MT'\n",
      " 'Tiago XZ+ 1.Revotron MANUAL' 'Duster RXZ 4WD MANUAL'\n",
      " 'Benz C Class CDI ELEGANCE AT AUTOMATIC'\n",
      " 'Polo HIGHLINE1.2L PETROL MANUAL' 'Creta SX EXECUTIVE MT MANUAL'\n",
      " 'New Wagon-R VXI 1.2L MANUAL' 'Creta 1.E + VTVT MANUAL'\n",
      " 'Kwid 1.RXT Opt MANUAL' 'SELTOS HTK PLUS 1.DIESEL MANUAL'\n",
      " 'Swift VDI OPT MANUAL' 'Etios CROSS 1.V MANUAL' 'iMAGNA O 1.MANUAL'\n",
      " 'Ciaz ALPHA 1.VVT MANUAL' 'Verna FLUIDIC 1.SX VTVT MANUAL'\n",
      " 'Compass 2.LONGITUDE (O) MANUAL' 'NEXON XZA+ 1.AUTOMATIC'\n",
      " 'Polo COMFORTLINE 1.PETROL MANUAL' 'Celerio ZXI AMT AUTOMATIC'\n",
      " 'Hexa Varicor XTA AUTOMATIC' 'Kwid CLIMBER 1.AT AUTOMATIC'\n",
      " 'Polo HIGH LINE PLUS 1.MANUAL' 'Swift ZXI + AMT AUTOMATIC'\n",
      " 'CRV 2.AWD AT AVN AUTOMATIC' 'Celerio VXI (O) AMT AUTOMATIC'\n",
      " 'Nano XT TWIST MANUAL' 'Duster RXL PETROL MANUAL'\n",
      " 'NEXON XZA + 1.PETROL A/T AUTOMATIC' 'Elite i1.SPORTS PLUS CRDI MANUAL'\n",
      " 'Grand iASTA AT 1.KAPPA VTVT AUTOMATIC' 'Vitara Brezza ZXI MANUAL'\n",
      " 'Tiago XT 1.REVOTRON MANUAL' 'Polo HIGHLINE PLUS 1.TSI AT AUTOMATIC'\n",
      " 'Vitara Brezza ZDI MANUAL' 'Verna 1.SX VTVT MANUAL'\n",
      " 'Innova Crysta 2.GX AT STR AUTOMATIC' 'Elite iASTA 1.(O) MANUAL'\n",
      " 'Dzire VDI AMT AUTOMATIC' 'NEW SANTRO SPORTZ 1.MANUAL'\n",
      " 'Vitara Brezza ZDI PLUS MANUAL' 'Kwid 1.CLIMBER OPT AMT AUTOMATIC'\n",
      " 'VENUE 1.TURBO GDI SX+ AT AUTOMATIC' 'Baleno SIGMA 1.KMANUAL'\n",
      " 'New Figo 1.TITANIUM MANUAL' 'Vitara Brezza ZDI+ DUAL TONE AMT AUTOMATIC'\n",
      " 'Elite i1.MAGNA PLUS VTVT MANUAL' 'Superb 1.TSI LK AT AUTOMATIC'\n",
      " 'iActive 1.S MANUAL' 'KuvK4+ STR MANUAL' 'Thar CRDE 4XBS IV MANUAL'\n",
      " 'XUVWFWD MANUAL' 'Amaze 1.V CVT I VTEC AUTOMATIC'\n",
      " 'Verna 1.SX VTVT (O) MANUAL' 'Baleno DELTA DDIS MANUAL'\n",
      " 'S Cross ZETA SHVS PETROL MANUAL' 'Micra XL CVT (PETROL) AUTOMATIC'\n",
      " 'Compass 2.LONGITUDE MANUAL' 'VENUE 1.0L Turbo GDI SX(O) MT MANUAL'\n",
      " 'Wagon R LXI MANUAL' 'SELTOS GTX 1.GDI PETROL MANUAL'\n",
      " 'iSPORTZ 1.KAPPAMANUAL' 'Duster RXZ PACK DIESEL MANUAL'\n",
      " 'Elite i1.SPORTS PLUS VTVT CVT AUTOMATIC' 'SONET HTK PLUS'\n",
      " 'City V MT DIESEL MANUAL' 'Creta 1.CRDI SX PLUS AUTO AUTOMATIC'\n",
      " 'Duster RXL PLUS DIESEL MANUAL' 'Micra XV PETROL MANUAL'\n",
      " 'iSPORTZ 1.MANUAL' 'Duster RXS CVT PS AUTOMATIC' 'SONET GTX PLUS DCT 1.0'\n",
      " 'VENUE 1.Turbo GDI DCT AT SX+ DT AUTOMATIC'\n",
      " 'Baleno ZETA 1.KAMT AUTOMATIC' 'Grand iASTA 1.VTVT MANUAL'\n",
      " 'Amaze 1.EXMT I VTEC MANUAL' 'Scorpio SPLUS MANUAL'\n",
      " 'Elite i1.CRDI ASTA (O) MANUAL' 'Swift Dzire VDI OPT MANUAL'\n",
      " 'NEXON XM SUNROOF 1.RTN MANUAL' 'Bolero Power+ ZLX Micro Hybrid MANUAL'\n",
      " 'Rapid ACTIVE 1.TSI MANUAL' 'TRIBER 1.RXL PETROL MANUAL'\n",
      " 'Jazz 1.E MT MANUAL' 'Eon ERA PLUS MANUAL' 'Dzire ZXI Plus AMT AUTOMATIC'\n",
      " 'Pulse RX L PETROL MANUAL' 'Duster RXZ DIESEL MANUAL'\n",
      " 'XUVWAT FWD AUTOMATIC' 'Compass 2.LIMITED 4*MANUAL'\n",
      " 'Tiago XM 1.REVOTRON MANUAL' 'HECTOR SMART HYBRID PETROL MT MANUAL'\n",
      " 'NEW SANTRO ASTA 1.MT MANUAL' 'New Wagon-R VXI 1.MANUAL'\n",
      " 'SELTOS HTX 1.DIESEL MANUAL' 'Alto KVXI OPT MANUAL'\n",
      " 'HECTOR SMART DIESEL MANUAL' 'GRAND INIOS ASTA PETROL AMT AUTOMATIC'\n",
      " 'XUVW4XMANUAL' 'GRAND INIOS SPORTZ 1.AT AUTOMATIC'\n",
      " 'Dzire ZDI Plus AMT AUTOMATIC' 'Grand iASTA 1.KAPPA VTVT OPT MANUAL'\n",
      " 'YARIS VX CVT AUTOMATIC' 'Benz C Class C AVANTGARDE AUTOMATIC'\n",
      " 'iSPORTZ 1.AT VTVT AUTOMATIC'\n",
      " 'Elite i1.SPORTZ PLUS DUAL TONE VTVT MANUAL'\n",
      " 'Eeco STR WITH AC PLUSHTR MANUAL' 'NEW SANTRO 1.SPORTS AMT AUTOMATIC'\n",
      " 'Verna EX 1.VTVT AT AUTOMATIC' 'Jazz 1.S AT AUTOMATIC'\n",
      " 'NEXON XZ 1.MANUAL' 'Eeco STR MANUAL' 'Ameo TRENDLINE 1.MANUAL'\n",
      " 'Redi Go 1.T(O) AT AUTOMATIC' 'Wagon R Duo LXI LPG MANUAL'\n",
      " 'Swift Dzire ZXI 1.BS IV MANUAL' 'Kwid CLIMBER 1.MANUAL'\n",
      " 'Amaze 1.VXMT I VTEC MANUAL' 'Vitara Brezza VXI AMT SHVS AUTOMATIC'\n",
      " 'Ameo Trendline 1.MANUAL' 'Creta SX PETROL MT MANUAL' 'Duster RXZ MANUAL'\n",
      " 'SELTOS HTX 1.PETROL MT MANUAL' 'Xcent S AT 1.AUTOMATIC'\n",
      " 'SELTOS GTX 1.GDI AT PETROL AUTOMATIC' 'Jazz 1.VX I-VTECH MANUAL'\n",
      " 'SELTOS HTX+ MT 1.DIESEL MANUAL' 'Verna 1.CRDI SX + AT AUTOMATIC'\n",
      " 'VENUE 1.TURBO GDI S IMT MANUAL' 'Eon ERA PLUS (O) MANUAL'\n",
      " 'Brio 1.VX MT I VTEC MANUAL' 'S Cross ALPHA 1.MANUAL'\n",
      " 'Ciaz SIGMA 1.VVT MANUAL' 'IGNIS ZETA 1.KMANUAL' 'IGNIS ALPHA 1.KMANUAL'\n",
      " 'YARIS J MT MANUAL' 'S PRESSO VXI MANUAL' 'HECTOR SHARP CVT AUTOMATIC'\n",
      " 'S PRESSO VXI (O) MANUAL' 'Redi Go S MANUAL' 'Elite iASTA 1.AT AUTOMATIC'\n",
      " 'S Cross ZETA 1.MANUAL' 'YARIS J CVT AUTOMATIC'\n",
      " 'Compass LIMITED (O) 2.MANUAL' 'S Cross DELTA SHVS MANUAL'\n",
      " 'WR-V 1.i-DTEC VX MT MANUAL' 'Baleno ALPHA 1.2KAT AUTOMATIC'\n",
      " 'Baleno DELTA 1.KAT AUTOMATIC' 'Polo Trendline 1.L Petrol MANUAL'\n",
      " 'Elite iMagna + CRDI MANUAL' 'Kwid 1.RXT MANUAL' 'Ertiga VDI SHVS MANUAL'\n",
      " 'Ertiga ZDI PLUS SHVS MANUAL' 'Figo 1.ZXI DURATEC MANUAL'\n",
      " 'Swift ZDI + MANUAL' 'PUNCH PURE MT'\n",
      " 'FREESTYLE TITANIUM + 1.TI-VCT MANUAL' 'Celerio Tour HMANUAL'\n",
      " 'Brio 1.V MT I VTEC MANUAL' 'Harrier XT 2.0L Kryotec MANUAL'\n",
      " 'Go Plus T MANUAL' 'Swift Dzire ZDI AMT AUTOMATIC' 'ALTROZ XM+ 1.RTN'\n",
      " 'VENUE S MT Turbo GDI 1.0L MANUAL' 'VENUE S Plus MT 1.Kappa MANUAL'\n",
      " 'MARAZZO MSTR MANUAL' 'Wagon R 1.VXI OPT AMT AUTOMATIC'\n",
      " 'Kwid 1.CLIMBER OPT MANUAL' 'Swift ZDI AMT AUTOMATIC'\n",
      " 'Amaze 1.VXMT I DTEC MANUAL' 'iMAGNA 1.KAPPAMANUAL' 'Jazz 1.SV MT MANUAL'\n",
      " 'Tiago XE 1.REVOTRON MANUAL' 'Compass LIMITED PLUS 2.4*MANUAL'\n",
      " 'Dzire VDI MANUAL' 'Dzire ZXI MANUAL' 'Santro Xing GLS MANUAL'\n",
      " 'Ameo COMFORTLINE PLUS PETROL MANUAL' 'KuvKSTR MANUAL'\n",
      " 'Amaze 1.EXMT I DTEC MANUAL' 'TRIBER 1.RXZ'\n",
      " 'Verna 1.SX+ VTVT AT AUTOMATIC' 'TIAGO NRG PETROL'\n",
      " 'Grand iSPORTZ 1.CRDI MANUAL' 'Swift Dzire ZDI MANUAL'\n",
      " 'Eon D LITE PLUS MANUAL' 'City V CVT AUTOMATIC'\n",
      " 'GRAND INIOS Asta Petrol MANUAL' 'IGNIS SIGMA 1.KMANUAL'\n",
      " 'Elite iASTA 1.CRDI MANUAL' 'Elite iSPORTZ (O) 1.MANUAL'\n",
      " 'Celerio ZXI OPT AMT AUTOMATIC' 'Creta 1.SX CRDI'\n",
      " 'Rapid Style 1.TDI AT AUTOMATIC' 'New Figo 1.TREND MANUAL'\n",
      " 'Thar LX PETROL AT 4WD AUTOMATIC' 'Polo COMFORTLINE PLUS 1.MANUAL'\n",
      " 'Endeavour 2.2l 4XAT Trend AUTOMATIC' 'Creta SX MT MANUAL'\n",
      " 'KUSHAQ STYLE 1.0TSI AT' 'Kwid Neotech Petrol 1.MANUAL'\n",
      " 'Octavia 1.TSI STYLE PLUS AT AUTOMATIC'\n",
      " 'Compass SPORT PLUS PETROL MANUAL' 'NEW SANTRO ERA 1.MANUAL'\n",
      " 'Harrier XT+ 2.KRYOTEC MANUAL' 'Fortuner 3.MT 4XMANUAL'\n",
      " 'Xcent SX 1.MANUAL' 'Celerio X Zxi MANUAL'\n",
      " 'Rapid AMBITION 1.MPFI MT MANUAL' 'Creta 1.SX (O) CRDI MANUAL'\n",
      " 'Creta 1.VTVT SX AUTO AUTOMATIC' 'Civic ZX MT DIESEL MANUAL'\n",
      " 'Alto LXI CNG (O) MANUAL' 'NEW IASTA (O) 1.CRDI MT'\n",
      " 'SELTOS HTK 1.PETROL MANUAL' 'S Cross ZETA AT 1.SHVS'\n",
      " 'NEW IAsta 1.GDI Turbo IMT' 'Xcent E PLUS MANUAL'\n",
      " 'HECTOR SHARP HYBRID 1.DUAL TONE' 'City SV MT EDGE EDITION PETROL MANUAL'\n",
      " 'NEW IASTA (O) 1.TURBO GDI AT AUTOMATIC' 'Celerio X Zxi AMT AUTOMATIC'\n",
      " 'Compass LIMITED 1.AT AUTOMATIC']\n",
      "Missing Value Count :  1\n",
      "Missing Data Percent :  0.08561643835616438\n",
      "^^^^^^^^^^^^^^^^^^^^^^^^^^^^^^^^^^^^^^^^^^^^^^^^^^\n",
      "Fuel_Type\n",
      "**************************************************\n",
      "11\n",
      "['DIESEL' 'PETROL' 'CNG' 'CNG & HYBRIDS' 'PETROL/COMPRESSED NATURAL GAS'\n",
      " nan 'ELECTRIC' 'LPG' 'Diesel' 'Petrol' 'Petrol + CNG' 'Petrol + LPG']\n",
      "Missing Value Count :  23\n",
      "Missing Data Percent :  1.9691780821917808\n",
      "^^^^^^^^^^^^^^^^^^^^^^^^^^^^^^^^^^^^^^^^^^^^^^^^^^\n",
      "No_of_owners\n",
      "**************************************************\n",
      "12\n",
      "['1st' 'First' 'Second' '2nd' 'Third' nan '3rd' '4+' 'Fourth' '4th'\n",
      " '1st Owner' '2nd Owner' '3rd Owner']\n",
      "Missing Value Count :  75\n",
      "Missing Data Percent :  6.421232876712329\n",
      "^^^^^^^^^^^^^^^^^^^^^^^^^^^^^^^^^^^^^^^^^^^^^^^^^^\n",
      "Location\n",
      "**************************************************\n",
      "531\n",
      "['Ramesh Nagar, Delhi, Delhi' 'Tilak Nagar, Delhi, Delhi'\n",
      " 'F 10, Shopping Centre, Near OBC Bank, Mansarovar Garden, OBC Bank, Near OBC Bank, Delhi, Delhi'\n",
      " nan 'Rohini Sector 7, Delhi, Delhi' 'Rohini Sector 2, Delhi, Delhi'\n",
      " 'Udyog Nagar Industrial Area, Delhi, Delhi' 'Subhash Nagar, Delhi, Delhi'\n",
      " 'Pitampura, Delhi, Delhi' 'Punjabi Bagh West, Delhi, Delhi'\n",
      " 'Vikaspuri, Delhi, Delhi' 'Hari Nagar, Delhi, Delhi'\n",
      " 'Shahpura, Delhi, Delhi' 'Peera Garhi, Delhi, Delhi'\n",
      " 'MBS Nagar, Delhi, Delhi'\n",
      " 'BLOCK KP SHOP NO 22 PLOT NO 23 PITAMPURA, NEAR CITY PARK HOTEL, NEAR CITY PARK HOTEL, Delhi, Delhi'\n",
      " 'Pushpanjali Enclave, Delhi, Delhi' 'Rohini Sector 3, Delhi, Delhi'\n",
      " 'Rajouri Garden, Delhi, Delhi' 'Poshangipur, Delhi, Delhi'\n",
      " 'Shop No. 4,A-41,Ramesh Nagar, Ramesh Nagar Delhi 110015, Opposite Metro Pillar No. 342, Ramesh Nagar, Opposite Metro Pillar No. 342, New Delhi, Delhi'\n",
      " 'Rohini Sector 4, Delhi, Delhi' 'Bali Nagar, Delhi, Delhi'\n",
      " 'Keshopur, Delhi, Delhi' 'Ashok Nagar, Delhi, Delhi'\n",
      " 'Paschim Vihar, Delhi, Delhi' 'Rohtak Road, Delhi, Delhi'\n",
      " 'Kings Mall, Rohini West, Delhi, 110085, Rohini, Delhi, Delhi'\n",
      " 'Nangloi, Delhi, Delhi'\n",
      " 'Raheja Mall, Sohna Rd D1 block, Malibu Town, Sector 47, Gurugram, Gurugram, Haryana'\n",
      " 'Ambattukavu, Kochi, Kerala' 'Anchal, Kollam, Kerala'\n",
      " 'Poothole, Thrissur, Kerala' 'Cheroor, Kolazhy, Kerala'\n",
      " 'Kommady, Alappuzha, Kerala' 'North Paravoor, Paravur, Kerala'\n",
      " 'Chinnakada, Kollam, Kerala' 'Thiruvannur, Kozhikode, Kerala'\n",
      " 'Tripunithura, Kochi, Kerala' 'Edapally, Kochi, Kerala'\n",
      " 'Mangad, Kunnamkulam, Kerala' 'Thavakkara, Kannur, Kerala'\n",
      " 'Manacaud, Thiruvananthapuram, Kerala'\n",
      " 'Bypass Road, Thiruvananthapuram, Kerala'\n",
      " 'Rose Mandiram, Near Amaravila check post,, Thannimoodu, Amaravila, Amaravila check post, thiruvananthapuram, KERALA'\n",
      " 'Cholongunnu, Perinthalmanna, Kerala' 'Kannur, Payyannur, Kerala'\n",
      " 'Muppathadam Road, Kochi, Kerala' 'Kurumkutty Village, Parassala, Kerala'\n",
      " 'Koprakkalam, Chendrappini, Kerala' 'Kodimatha, Kottayam, Kerala'\n",
      " 'Aranmula, Kozhenchery, Kerala'\n",
      " 'Marayamuttam, Thiruvananthapuram, Kerala'\n",
      " 'Vadanappally, Thrissur, Kerala' 'Talap, Kannur, Kerala'\n",
      " 'Cherthala Municipal Town, Cherthala, Kerala'\n",
      " 'W Colangara, Paravur, Kerala' 'Kotangal, Venkitangu, Kerala'\n",
      " 'Annkhoyam, Manjeri, Kerala' 'Assissi Nagar, Aluva, Kerala'\n",
      " 'Sultanpet, Palakkad, Kerala' 'Ernakulam, Kochi, Kerala'\n",
      " 'Kottam, Ettumanoor, Kerala' 'Peroor, Ettumanoor, Kerala'\n",
      " 'Meenachil, Palai, Kerala' 'Kuzhalmannam, Palakkad, Kerala'\n",
      " 'Mevaram, Kollam, Kerala' 'Kadappakada, Kollam, Kerala'\n",
      " 'Hembika Nagar, Palakkad, Kerala' 'Koyabanna, Malappuram, Kerala'\n",
      " 'Palarivattom, Kochi, Kerala' 'Bharanaganam, Palai, Kerala'\n",
      " 'Manipuzha, Kottayam, Kerala'\n",
      " 'Nannamukku, Alamcode Malappuram District, Kerala'\n",
      " 'Athani, Thrissur, Kerala' 'Prayar, Oachira, Kerala'\n",
      " 'Peralapuram, Elampalloor, Kerala' 'Adithyapuram, Palakkad, Kerala'\n",
      " 'Mongam, Malappuram, Kerala' 'Karuvelipady, Kochi, Kerala'\n",
      " 'Muriyad, Kallettumkara, Kerala' 'Pallichirangara, Muvattupuzha, Kerala'\n",
      " 'Kanakkary, Kottayam, Kerala' 'Melangadi, Kondotty, Kerala'\n",
      " 'Chelamattom, Perumbavoor, Kerala' 'Udiyangkulang, Parasuvaikkal, Kerala'\n",
      " 'Meruangade, Manjeri, Kerala' 'Maradu, Kochi, Kerala'\n",
      " 'Pallimukku, Kollam, Kerala' 'Kunnupuram, Nannambra, Kerala'\n",
      " 'Kakkad, Tirurangadi, Kerala' 'Puthanathani, Malappuram, Kerala'\n",
      " 'Thevara, Kochi, Kerala' 'Nandavanam, Thiruvananthapuram, Kerala'\n",
      " 'Keralapuram, Kollam, Kerala' 'Kaloor, Kochi, Kerala'\n",
      " 'Mannarakkad PO Palakkad - 678582, Mannarakkad, Palakkad, Kerala'\n",
      " 'Kozhikode, Vadakara, Kerala' 'Changubetty, Kottakal, Kerala'\n",
      " 'Vattapparamba Mahallu, Kodur, Kerala' 'Edappally, Kochi, Kerala'\n",
      " 'Veloor, Kottayam, Kerala' 'Thykoodam, Kochi, Kerala'\n",
      " 'Panampilly Nagar, Kochi, Kerala' 'Jawahar Nagar, Kozhikode, Kerala'\n",
      " 'Nadapuram, Kozhikode, Kerala' 'Chandranagar, Palakkad, Kerala'\n",
      " 'Kumaramangalam, Thodupuzha, Kerala' 'Iritty, Kannur, Kerala'\n",
      " 'Wandoor , Malappuram, Kerala'\n",
      " 'Near KTCT Auditorium, Kaduvayil, Trivandrum, Kerala, 695611, Olx Autos, Near KTCT Auditorium, Kaduvapally, Thottakadu PO, Attingal, Trivandrum, Kaduvayil, Near KTCT AUDITORIUM, Trivandrum, Kerela'\n",
      " 'Pattom, Thiruvananthapuram, Kerala' 'Kalamassery, Kochi, Kerala'\n",
      " 'Kaliyikkavila, Parassala, Kerala' 'East Nada, Guruvayur, Kerala'\n",
      " 'Valluvambram, Malappuram, Kerala' 'Amaripadi Village, Vengara, Kerala'\n",
      " 'Aryanad, Thiruvananthapuram, Kerala'\n",
      " 'Malappuram Up Hill, Malappuram, Kerala'\n",
      " 'Punalur Police Quarters, Punalur, Kerala'\n",
      " 'Nadakkapadam-Changancherry, Kottayam, Kerala' 'Ernad, Manjeri, Kerala'\n",
      " 'Silversand Island, Thiruvankulam, Kerala'\n",
      " 'Thamarassery, Kozhikode, Kerala' 'Podikundu, Kannur, Kerala'\n",
      " 'Karakulam, Thiruvananthapuram, Kerala'\n",
      " 'Killy, Kattakada, Near Pottankavu Temple, Kattakada, Trivandrum, Kerala'\n",
      " 'Devinagar, Kollam, Kerala' 'Pachalam, Kochi, Kerala'\n",
      " 'Kanjikodu Village, Kanjikode Industrial Area, Kerala'\n",
      " 'Thondikulam, Palakkad, Kerala' 'Manunareth, Azhikode, Kerala'\n",
      " 'Kanipayyur, Choondal, Kerala' 'Kandan Kulangara, Kozhikode, Kerala'\n",
      " 'Valanchery, Malappuram, Kerala'\n",
      " '11th Stone, Nedumangadu,, Nedumangad, Nedumangad, Thiruvananthapuram, Keral'\n",
      " 'Puzhampallam, Marathakkara, Kerala' 'Kavumbhagam, Thiruvalla, Kerala'\n",
      " 'Puthiyakavu, Karunagappally, Kerala' 'Gandhi Nagar, Kochi, Kerala'\n",
      " 'Kainatty, Kalpetta, Kerala' 'Azhinilam, Kozhikode, Kerala'\n",
      " 'Okail, Tirur, Kerala' 'Shivaji Nagar, Jhansi, Uttar Pradesh'\n",
      " 'Sector 37, Gurgaon, Haryana' 'Sector 38, Gurgaon, Haryana'\n",
      " 'Sohna Sector 33, Gurgaon, Haryana' 'Sector 47, Gurgaon, Haryana'\n",
      " 'Sector 7 Extension, Gurgaon, Haryana' 'Sector 69, Gurgaon, Haryana'\n",
      " 'Sector 48, Gurgaon, Haryana' 'Sector 9A, Gurgaon, Haryana'\n",
      " 'Sector 10A, Gurgaon, Haryana' 'ISBT and MRTS Depot, Gurgaon, Haryana'\n",
      " '4th floor, Pocket L, Multi-level Parking, Sector 18, Noida, Noida, Uttar Pardesh'\n",
      " 'Rajiv Chowk, Gurgaon, Haryana' 'Narsinghpur, Gurgaon, Haryana'\n",
      " 'Sector 37A, Gurgaon, Haryana' 'Chembur, Mumbai, Maharashtra'\n",
      " 'Bandra West, Mumbai, Maharashtra' 'Dadar East, Mumbai, Maharashtra'\n",
      " 'Vile Parle West, Mumbai, Maharashtra' 'Kurla West, Mumbai, Maharashtra'\n",
      " 'Santacruz West, Mumbai, Maharashtra' 'Kurla East, Mumbai, Maharashtra'\n",
      " 'Sion East, Mumbai, Maharashtra'\n",
      " 'Shop no. 26 , Prathamesh Galaxy , Opp. Vijay Vihar, Powai ,, Powai, Opp. Vijay Vihar Complex, Mumbai, Maharashtra'\n",
      " 'Veer savarkar Maidan, Vasudev Balwant phadke rd. swami Samarth nagar, Andheri (W), Andheri, Mumbai, Maharashtra'\n",
      " '78/A Mahul Road, Chembur, Chembur, Mumbai, Maharashtra'\n",
      " 'Waterfield Road Bandra West, Mumbai, Maharashtra'\n",
      " 'Juhu Tara Road, Mumbai, Maharashtra' 'Khar West, Mumbai, Maharashtra'\n",
      " 'Shop No-3, Mangal Society, R A Kidwai Road, Matunga, Mumbai, Maharashtra'\n",
      " 'Vakola, Mumbai, Maharashtra' 'Deonar, Mumbai, Maharashtra'\n",
      " 'Vile Parle East, Mumbai, Maharashtra'\n",
      " 'Vidyavihar West, Mumbai, Maharashtra' 'Dadar West, Mumbai, Maharashtra'\n",
      " 'Netaji Nagar, Mumbai, Maharashtra' 'Matunga Road, Mumbai, Maharashtra'\n",
      " 'Sion West, Mumbai, Maharashtra' 'Chunabhatti, Mumbai, Maharashtra'\n",
      " 'Pune Vidyapith, Pune, Maharashtra'\n",
      " 'KD PLAZA 281/6/7, SEVEN LOVES CHOWK SHANKAR SETH ROAD PUNE, SEVEN LOVES CHOWK, Near Sbi Bank, Pune, Naharashtra'\n",
      " 'Vishrant Wadi, Pune, Maharashtra' 'Swargate, Pune, Maharashtra'\n",
      " 'Rasta Peth, Pune, Maharashtra'\n",
      " 'Mahada Shopping Complex, Durga Mata Mandir Road,, Phulenagar, Yerawada, Pune, Maharashtra 411006, Yerawada, PhuleNagar Bus Stop, Pune, Maharashtra'\n",
      " 'Phule Nagar, Pune, Maharashtra' 'Sagar Society, Pune, Maharashtra'\n",
      " 'Khadki, Pune, Maharashtra' 'Wadia College Area, Pune, Maharashtra'\n",
      " 'Koregaon park, Pune, Maharashtra' 'Sadashiv Peth, Pune, Maharashtra'\n",
      " 'Shastri Nagar, Pune, Maharashtra' 'Mangalwar Peth, Pune, Maharashtra'\n",
      " 'Sopan Baug, Pune, Maharashtra' 'Shivaji Nagar, Pune, Maharashtra'\n",
      " 'Ganesh Nagar, Pune, Maharashtra' 'East Street Road, Pune, Maharashtra'\n",
      " 'TMV Nagar, Pune, Maharashtra' 'Golibar Maidan, Pune, Maharashtra'\n",
      " 'Gultekadi, Pune, Maharashtra' 'Central Street Camp, Pune, Maharashtra'\n",
      " 'KD Plaza, next to SBI Bank,, Seven Loves Chowk, Pune, Maharashtra'\n",
      " 'Panchawati, Pune, Maharashtra' 'Deccan, Pune, Maharashtra'\n",
      " 'Cantonment Residential Area, Pune, Maharashtra'\n",
      " 'Chatushrungi Temple, Pune, Maharashtra'\n",
      " 'Kalyani Nagar, Pune, Maharashtra' 'Sangamwadi, Pune, Maharashtra'\n",
      " 'Khadki Jai Jawan Nagar, Pune, Maharashtra'\n",
      " 'Dhole Patil Road, Pune, Maharashtra'\n",
      " '729/D 11th Block, 2nd stage, Nagarbhavi, Bangalore, Bengaluru Urban-560072, Nagarbhavi, near nammoora thindi, Bangalore, Karnataka'\n",
      " 'Basavanagudi, Bengaluru, Karnataka'\n",
      " 'Karanataka bangalore nagarabhavi 2nd stage, Bengaluru, Karnataka'\n",
      " 'Rajaji Nagar, Bengaluru, Karnataka' 'Vijay Nagar, Bengaluru, Karnataka'\n",
      " 'Banashankari Stage 2, Bengaluru, Karnataka'\n",
      " 'Nayandahalli, Bengaluru, Karnataka'\n",
      " 'Sadashiva Nagar, Bengaluru, Karnataka'\n",
      " 'Giri Nagar Phase 1, Bengaluru, Karnataka'\n",
      " 'New Guddadahalli Shamanna Garden, Bengaluru, Karnataka'\n",
      " 'Chamrajpet, Bengaluru, Karnataka' 'Laggere Road, Bengaluru, Karnataka'\n",
      " 'Richmond Town, Bengaluru, Karnataka'\n",
      " 'Shivananda Nagar, Bengaluru, Karnataka'\n",
      " 'Roshan Nagar FCI Layout, Bengaluru, Karnataka'\n",
      " 'Shastri Nagar, Bengaluru, Karnataka'\n",
      " 'Banashankari, Bengaluru, Karnataka' 'Vijaya Nagar, Bengaluru, Karnataka'\n",
      " 'Mahaganapathi Nagar, Bengaluru, Karnataka'\n",
      " 'Giri Nagar, Bengaluru, Karnataka'\n",
      " 'Salappa Layout VS Garden, Bengaluru, Karnataka'\n",
      " 'VS Garden, Bengaluru, Karnataka' 'KH Road, Bengaluru, Karnataka'\n",
      " 'Banashankari Nagar, Bengaluru, Karnataka'\n",
      " 'Keshava Nagar, Bengaluru, Karnataka'\n",
      " 'Jaya Nagar East, Bengaluru, Karnataka'\n",
      " 'Banashankari Stage 3, Bengaluru, Karnataka'\n",
      " 'Kumara Park, Bengaluru, Karnataka' 'Kamakshipalya, Bengaluru, Karnataka'\n",
      " 'Malleshwaram, Bengaluru, Karnataka' 'Slv layout, Bengaluru, Karnataka'\n",
      " 'Srinivasa Nagar, Bengaluru, Karnataka'\n",
      " 'Rajajinagar Industrial Town, Bengaluru, Karnataka'\n",
      " 'Balkampet, Hyderabad, Telangana' 'Kukatpally, Hyderabad, Telangana'\n",
      " 'Venktagiri Nagar, Hyderabad, Telangana' 'Madhapur, Hyderabad, Telangana'\n",
      " 'Begumpet, Hyderabad, Telangana'\n",
      " 'Madhura Nagar Engineering Colony, Hyderabad, Telangana'\n",
      " 'Sri Nagar Colony, Hyderabad, Telangana' 'Ameerpet, Hyderabad, Telangana'\n",
      " 'Plot NO 183, PALLAV ENCLAVE,GUTTALA BEGUMPET,MADHAPUR,SERLINGAMPALLY,500081, MADHAPUR,SERLINGAMPALLY, Hyderabad, Telengana'\n",
      " 'Bowenpally, Hyderabad, Telangana' 'JNTU, Hyderabad, Telangana'\n",
      " 'Panjagutta, Hyderabad, Telangana' 'Begumpet, Secunderabad, Telangana'\n",
      " 'Erragadda, Hyderabad, Telangana'\n",
      " 'Old Bowenpally Sri Sai Enclave, Secunderabad, Telangana'\n",
      " 'Old Bowenpally Nandamuri Nagar, Secunderabad, Telangana'\n",
      " 'Sanjeeva Reddy Nagar, Hyderabad, Telangana'\n",
      " 'MPs and mla colony jubilee hills, Hyderabad, Telangana'\n",
      " 'Moosapet, Hyderabad, Telangana' 'Madhura Nagar, Hyderabad, Telangana'\n",
      " 'Bala Nagar, Hyderabad, Telangana' 'BK Guda, Hyderabad, Telangana'\n",
      " 'Mythri Nagar, Hyderabad, Telangana' 'Sanath Nagar, Hyderabad, Telangana'\n",
      " 'Anjaneya Nagar, Hyderabad, Telangana'\n",
      " 'Nungambakkam, Chennai, Tamil Nadu' 'Mylapore, Chennai, Tamil Nadu'\n",
      " '106, velachery main road, Pallikaranai, Chennai, Tamil Nadu'\n",
      " 'Perambur, Chennai, Tamil Nadu' 'Egmore, Chennai, Tamil Nadu'\n",
      " 'Chennai Central, Chennai, Tamil Nadu' 'Chetpet, Chennai, Tamil Nadu'\n",
      " 'Nungambakkam Mahalinga Puram, Chennai, Tamil Nadu'\n",
      " '106,, main road,pallikaranai, velachery, (near ishwarya mahal), chennai, Tamil Nadu'\n",
      " 'Purasaiwakkam, Chennai, Tamil Nadu'\n",
      " 'Kilpauk TN Police Housing Board, Chennai, Tamil Nadu'\n",
      " 'T Nagar Dharmapuram, Chennai, Tamil Nadu'\n",
      " 'Chinthadripet, Chennai, Tamil Nadu'\n",
      " 'Nungambakkam Pushpa Nagar Housing Board, Chennai, Tamil Nadu'\n",
      " 'Nungambakkam Lake Area, Chennai, Tamil Nadu'\n",
      " 'Vyasarpadi Bharathiya Nagar, Chennai, Tamil Nadu'\n",
      " 'Royapettah Rasool Omar Bahadur Colony, Chennai, Tamil Nadu'\n",
      " 'Mylapore Bishop Wallers, Chennai, Tamil Nadu'\n",
      " 'Kilpauk, Chennai, Tamil Nadu' 'Thousand Lights, Chennai, Tamil Nadu'\n",
      " 'Aminijikarai Mehta Nagar Officers Colony, Chennai, Tamil Nadu'\n",
      " 'Nungambakkam Seetha Nagar, Chennai, Tamil Nadu'\n",
      " 'Kankurgachhi, Kolkata, West Bengal'\n",
      " 'P, 11 sector- A CZ - 21 A/B Canal south road, Canal south road, Kolkata, west bengal'\n",
      " 'Ultadanga, Kolkata, West Bengal' 'Park Street, Kolkata, West Bengal'\n",
      " 'Park Circus, Kolkata, West Bengal' 'Kolkata GPO, Kolkata, West Bengal'\n",
      " 'Camac Street Area, Kolkata, West Bengal'\n",
      " '9c,camac street,opposite british council, 9c,camac street,opposite british council, park stret, park street, kolkata, west bengal'\n",
      " 'Topsia, Kolkata, West Bengal' 'Saltlake Sector 1, Kolkata, West Bengal'\n",
      " 'Belgachiya, Kolkata, West Bengal' 'AJC Bose Road, Kolkata, West Bengal'\n",
      " 'Dhapa, Kolkata, West Bengal' 'Royd Street, Kolkata, West Bengal'\n",
      " 'Ballygunge Circular Area, Kolkata, West Bengal'\n",
      " 'Bidhannagar, Kolkata, West Bengal'\n",
      " 'Saltlake Sector V, Kolkata, West Bengal'\n",
      " 'Sector 3 Block FF, Bidhannagar, West Bengal'\n",
      " 'Sealdah, Kolkata, West Bengal'\n",
      " 'Sector 1 Block AB, Bidhannagar, West Bengal'\n",
      " 'Shakespeare Sarani Road, Kolkata, West Bengal'\n",
      " 'Beck Bagan, Kolkata, West Bengal'\n",
      " 'EM Bypass - Science City Area, Kolkata, West Bengal'\n",
      " 'Elgin Road, Kolkata, West Bengal' 'Narkeldanga, Kolkata, West Bengal'\n",
      " 'Gouri Bari, Kolkata, West Bengal'\n",
      " 'Sector 1 Block EC, Bidhannagar, West Bengal'\n",
      " '29/1 Panditya Road,Dover Terrace,Ballygunge, Behind Citistyle ,Kolkata, Ballygunge, Behind citistyle, Kolkata, West Bengal'\n",
      " 'Tal Tala, Kolkata, West Bengal' 'Central Avenue, Kolkata, West Bengal'\n",
      " 'CA226, Saltlake Sector 1, Saltlake, Ultadanga, Kolkata, West Bengal'\n",
      " 'Uttar Panchanan Gram, Kolkata, West Bengal'\n",
      " '17-B , KAMLA SOCIETY OPP SARDAR PATEL STADIUM, SARDAR PATEL STADIUM ROAD, NAVRANGPURA, AHMEDABAD, GUJARAT - 380014, NAVRANGPURA, OPP SARDAR PATEL STADIUM, Ahmedabad, GUJARAT'\n",
      " 'Usmanpura, Ahmedabad, Gujarat' 'Bhagwan Nagar Tekra, Ahmedabad, Gujarat'\n",
      " 'Naranpura, Ahmedabad, Gujarat' 'Pragati Nagar, Ahmedabad, Gujarat'\n",
      " 'Navrangpura Village, Ahmedabad, Gujarat'\n",
      " 'Swarajnagar, Ahmedabad, Gujarat' 'Luharnagar, Ahmedabad, Gujarat'\n",
      " 'Navrangpura, Ahmedabad, Gujarat'\n",
      " 'OLX AUTOS/ Shree Ram Motors, Opp Trisha Hospital, Nr Mirchi Ground, Nirnaynagar Road, Akhbarnagar, Ahmedabad'\n",
      " 'Sunder Nagar, Ahmedabad, Gujarat' 'Shahalam, Ahmedabad, Gujarat'\n",
      " 'Ambavadi, Ahmedabad, Gujarat' 'Shastri Nagar, Ahmedabad, Gujarat'\n",
      " '132 Feet Ring Road, Ahmedabad, Gujarat'\n",
      " 'Ashram Road, Ahmedabad, Gujarat' 'Ranip, Ahmedabad, Gujarat'\n",
      " 'Vijay Char Rasta, Ahmedabad, Gujarat'\n",
      " 'Naranpura Village, Ahmedabad, Gujarat' 'Sarangpur, Ahmedabad, Gujarat'\n",
      " 'Memnagar, Ahmedabad, Gujarat' 'Dhanjibhai no Kuvo, Ahmedabad, Gujarat'\n",
      " 'Khasra No - 305, Dera More, Fatehpur Beri, Near CNG Pump|'\n",
      " 'Shop No.1 LGF, EDM Mall, Kaushambi|'\n",
      " '1st Floor, Multilevel Parking, Behind Botanical Garden Metro Station, Sector 37|'\n",
      " 'ILD Trade Centre, GF 11, Sohna Rd, Sector 47|'\n",
      " 'Vardhman Premium Mall, Outer Ring Road, Pitampura|'\n",
      " 'Pawar Garden, Vasant Kunj D Block|'\n",
      " 'BMC PUBLIC PARKING Vasant Oasis, Marol, Andheri East, Mumbai, Maharashtra|'\n",
      " 'Ground Floor, Pay &amp;amp; Parking, The Address Wadhwa, Opp R-City Mall, Ghatkopar West|'\n",
      " 'Ground Floor, Pay &amp;amp; Parking, Lodha Fiorenza, Adjacent Hub Mall, Goregaon East|'\n",
      " 'Ground Floor, Pay &amp; Parking, The Address Wadhwa, Opp R-City Mall, Ghatkopar West|'\n",
      " 'Ground Floor, Pay &amp; Parking, Lodha Fiorenza, Adjacent Hub Mall, Goregaon East|'\n",
      " 'MFC Yard, Near Life Point Hospital, Next To Wakad Bridge, Near Shankar Kalat Nagar, Waghmare Chowk,|'\n",
      " 'Shree Mahakaleshwar Rd, Shankar Kalat Nagar, Wakad, Pimpri-Chinchwad,|'\n",
      " 'Garuda Mall, Magrath Rd, Ashok Nagar|'\n",
      " 'Sri Shivananda Stores HSR Layout - BookMyCrackers 2nd Main Road, 8th Cross Rd|ITI Layout, 6th Sector, HSR Layout'\n",
      " '504, Mangammanapalya Main Rd ITI Layout, Hosapalaya, HSR Layout Inside Football / Tennis / Skating Ground Next To CBR Avani, Behind CNC Hospital, Bengaluru, Karnataka 560068|'\n",
      " 'Serve No 40/AA 48/AA 49/AA Attapur To Nandimusliaguda Link Road Bharat Nagar Colony|Backside Attapur'\n",
      " 'Serve No. 40/AA, 48/AA, 49/AA, Attapur To Nandimusliaguda Link Road, Bharat Nagar Colony Backside|Attapur, Rajendranagar Mandal, Rangareddy District'\n",
      " 'AMPA SKYWALK No:1, Nelson Manickam Road, 627,|Poonamalee High Road, Aminjikarai'\n",
      " 'Shyam Saral, Xperia Heights, Office No. 22, Near Agora Mall, Opp. Radhe Fortune Bhat Circle,|S.P. Ring Road'\n",
      " 'Xperia Hights, Office No 22, Opp Agora Mall, Near Bhat Circle Ring Road|'\n",
      " 'DL-8C' 'DL-10' 'UP-16' 'DL-9C' 'DL-14' 'DL-6C' 'HR-26' 'UP-14' 'DL-1C'\n",
      " 'HR-79' 'DL-3C' 'HR-51' 'DL-2C' 'HR-98' 'UP-63' 'HR-05' 'DL-4C' 'HR-55'\n",
      " 'DL-7C' 'DL-12' 'DL-5C' 'HR-29' 'DL-11' 'HR-10' 'HR-36' 'UP-15' 'HR-76'\n",
      " 'DL-13' 'HR-12' 'HR-27' 'UP-80' 'HR-13' 'HR-72' 'HR-28' 'HR-70' 'MH-12'\n",
      " 'MH-03' 'MH-48' 'MH-47' 'MH-01' 'MH-43' 'MH-46' 'MH-02' 'MH-04' 'MH-05'\n",
      " 'MH-14' 'MH-06' 'MH-15' 'MH-20' 'MH-31' 'MH-11' 'KA-03' 'KA-05' 'KA-02'\n",
      " 'KA-41' 'KA-38' 'KA-51' 'KA-04' 'KA-20' 'KA-01' 'KA-53' 'KA-50' 'KA-16'\n",
      " 'KA-09' 'KA-64' 'KA-06' 'KA-19' 'KA-25' 'KA-42' 'AP-09' 'AP-27' 'TS-08'\n",
      " 'AP-11' 'AP-13' 'AP-28' 'TS-04' 'TS-07' 'TS-11' 'TS-10' 'TS-09' 'AP-31'\n",
      " 'AP-37' 'AP-05' 'TS-05' 'AP-39' 'TS-02' 'AP-16' 'TS-20' 'TS-34' 'AP-29'\n",
      " 'TS-13' 'AP-26' 'TS-03' 'TS-29' 'TS-17' 'AP-07' 'AP-02' 'TS-15' 'TS-12'\n",
      " 'AP-10' 'TS-28' 'TS-16' 'TS-06' 'AP-36' 'TN-12' 'TN-14' 'TN-07' 'TN-85'\n",
      " 'TN-10' 'TN-30' 'TN-18' 'TN-97' 'TN-22' 'TN-91' 'TN-05' 'TN-13' 'TN-09'\n",
      " 'TN-03' 'TN-01' 'TN-02' 'TN-19' 'TN-39' 'TN-11' 'TN-06' 'TN-32' 'TN-15'\n",
      " 'TN-87' 'TN-48' 'TN-23' 'TN-55' 'TN-04' 'TN-73' 'TN-31' 'TN-66' 'TN-58'\n",
      " 'TN-25' 'TN-20' 'GJ-06' 'GJ-05' 'GJ-18' 'GJ-03' 'GJ-27' 'GJ-01' 'GJ-19'\n",
      " 'GJ-38' 'GJ-17' 'GJ-12' 'GJ-15' 'GJ-02' 'GJ-16' 'GJ-31' 'GJ-23' 'GJ-30'\n",
      " 'GJ-24' 'RJ-45' 'PB-02' 'GJ-09' 'GJ-26' 'GJ-08' 'GJ-11' 'GJ-36' 'GJ-20'\n",
      " 'GJ-21' 'GJ-07']\n",
      "Missing Value Count :  221\n",
      "Missing Data Percent :  18.92123287671233\n",
      "^^^^^^^^^^^^^^^^^^^^^^^^^^^^^^^^^^^^^^^^^^^^^^^^^^\n"
     ]
    }
   ],
   "source": [
    "#Categorical columns in the dataset\n",
    "for i in data.columns:\n",
    "    if data[i].dtypes =='O':\n",
    "        print(i)\n",
    "        print('*'*50)\n",
    "        print(data[i].nunique())\n",
    "        print(data[i].unique())\n",
    "        missing = data[i].isnull().sum()\n",
    "        print(\"Missing Value Count : \",missing)\n",
    "        total = 1168\n",
    "        missing_per = (missing/total)*100\n",
    "        print(\"Missing Data Percent : \",missing_per)\n",
    "        print(\"^\"*50)"
   ]
  },
  {
   "cell_type": "markdown",
   "id": "7af36eb3",
   "metadata": {},
   "source": [
    "We can see that there are same categories which are mentioned in different names in the column 'Brand'. We can rename the values and put them in same categories."
   ]
  },
  {
   "cell_type": "code",
   "execution_count": 7,
   "id": "33c4f966",
   "metadata": {},
   "outputs": [],
   "source": [
    "data['Brand'].replace(\"Bmw\",\"BMW\", inplace = True)\n",
    "data['Brand'].replace(\"Kia\",\"KIA\", inplace = True)\n",
    "data['Brand'].replace(\"Mg\",'MG', inplace = True)\n",
    "data[\"Brand\"].replace(\"Mercedes\",\"Mercedes-Benz\",inplace = True)\n",
    "data[\"Brand\"].replace(\"Benz\",\"Mercedes-Benz\",inplace = True)\n",
    "data[\"Brand\"].replace(\"Land\",\"Land Rover\", inplace = True)\n",
    "data['Brand'].replace(\"Ambassador\",\"Hindustan\",inplace = True)"
   ]
  },
  {
   "cell_type": "markdown",
   "id": "a8f1e949",
   "metadata": {},
   "source": [
    "We can see that the column \"Fuel_Type\" is having multiple values for same categories in different names. We can rename the duplicate columns.\n"
   ]
  },
  {
   "cell_type": "code",
   "execution_count": 8,
   "id": "c577a72e",
   "metadata": {},
   "outputs": [],
   "source": [
    "data['Fuel_Type'].replace(\"Petrol\",\"PETROL\",inplace = True)\n",
    "data['Fuel_Type'].replace(\"Diesel\",\"DIESEL\",inplace = True)\n",
    "data['Fuel_Type'].replace(\"PETROL/COMPRESSED NATURAL GAS\",\"Petrol + CNG\",inplace = True)"
   ]
  },
  {
   "cell_type": "markdown",
   "id": "b5c24bff",
   "metadata": {},
   "source": [
    "We can see that the column \"No_of_owners\" is having multiple values for same categories in different names. We can rename the duplicate columns."
   ]
  },
  {
   "cell_type": "code",
   "execution_count": 9,
   "id": "55f6c170",
   "metadata": {},
   "outputs": [],
   "source": [
    "first = [\"1st\",\"First\",\"1st Owner\"]\n",
    "second = [\"Second\",'2nd','2nd Owner']\n",
    "third = ['Third','3rd','3rd Owner']\n",
    "data['No_of_owners'].replace(first,'1st',inplace = True)\n",
    "data['No_of_owners'].replace(second,'2nd',inplace = True)\n",
    "data['No_of_owners'].replace(third,'3rd',inplace = True)\n",
    "data['No_of_owners'].replace('Fourth','4th',inplace = True)"
   ]
  },
  {
   "cell_type": "markdown",
   "id": "f390fecd",
   "metadata": {},
   "source": [
    "We have removed the duplicate categories by renaming the values with original category for the columns ['Brand','Fuel_Type','No_of_owners']."
   ]
  },
  {
   "cell_type": "markdown",
   "id": "831dbb4e",
   "metadata": {},
   "source": [
    "### Checking for Missing Values"
   ]
  },
  {
   "cell_type": "code",
   "execution_count": 10,
   "id": "7a2e13c7",
   "metadata": {},
   "outputs": [
    {
     "name": "stdout",
     "output_type": "stream",
     "text": [
      "Location              221\n",
      "No_of_owners           75\n",
      "Fuel_Type              23\n",
      "Kilometers_Driven       3\n",
      "Model                   1\n",
      "Manufacturing_Year      1\n",
      "Brand                   0\n",
      "Car_Price               0\n",
      "dtype: int64\n"
     ]
    },
    {
     "data": {
      "image/png": "[encoded data removed]",
      "text/plain": [
       "<Figure size 576x432 with 2 Axes>"
      ]
     },
     "metadata": {
      "needs_background": "light"
     },
     "output_type": "display_data"
    }
   ],
   "source": [
    "import matplotlib.pyplot as plt\n",
    "import seaborn as sns\n",
    "\n",
    "plt.figure(figsize = [8,6])\n",
    "sns.heatmap(data.isnull())\n",
    "print(data.isnull().sum().sort_values(ascending=False))"
   ]
  },
  {
   "cell_type": "markdown",
   "id": "1b1af338",
   "metadata": {},
   "source": [
    "The columns ['Location', 'No_of_owners', 'Fuel_Type', 'Kilometers_Driven', 'Model', 'Manufacturing_Year'] are having missing values."
   ]
  },
  {
   "cell_type": "code",
   "execution_count": 11,
   "id": "bcc2a376",
   "metadata": {},
   "outputs": [],
   "source": [
    "import numpy as np\n",
    "for i in data.columns:\n",
    "    if data[i].dtypes == 'O':\n",
    "        data[i].fillna(data[i].mode()[0],inplace = True) #imputing mean value for missing values in numerical variables.\n",
    "    elif ((data[i].dtypes == 'float64') or (data[i].dtypes =='int64')):\n",
    "        data[i].fillna(np.mean(data[i]),inplace = True) #imputing mode value for missing values in categorical variables."
   ]
  },
  {
   "cell_type": "code",
   "execution_count": 12,
   "id": "b480cdd3",
   "metadata": {},
   "outputs": [
    {
     "name": "stdout",
     "output_type": "stream",
     "text": [
      "Brand                 0\n",
      "Model                 0\n",
      "Manufacturing_Year    0\n",
      "Kilometers_Driven     0\n",
      "Fuel_Type             0\n",
      "No_of_owners          0\n",
      "Location              0\n",
      "Car_Price             0\n",
      "dtype: int64\n"
     ]
    },
    {
     "data": {
      "image/png": "[encoded data removed]",
      "text/plain": [
       "<Figure size 576x432 with 2 Axes>"
      ]
     },
     "metadata": {
      "needs_background": "light"
     },
     "output_type": "display_data"
    }
   ],
   "source": [
    "#Checking whether the null values are replaced with mean/mode or not.\n",
    "plt.figure(figsize = [8,6])\n",
    "sns.heatmap(data.isnull())\n",
    "print(data.isnull().sum())"
   ]
  },
  {
   "cell_type": "markdown",
   "id": "8a3022b1",
   "metadata": {},
   "source": [
    "We imputed the mean value for missing values in numerical columns and mode value of column for missing values in categorical columns in the dataset."
   ]
  },
  {
   "cell_type": "markdown",
   "id": "adc84282",
   "metadata": {},
   "source": [
    "### Data Visualization"
   ]
  },
  {
   "cell_type": "markdown",
   "id": "bcf31b15",
   "metadata": {},
   "source": [
    "#### Univariate Analysis"
   ]
  },
  {
   "cell_type": "code",
   "execution_count": 13,
   "id": "089566cd",
   "metadata": {
    "scrolled": true
   },
   "outputs": [
    {
     "name": "stdout",
     "output_type": "stream",
     "text": [
      "Maruti           1732\n",
      "Hyundai          1206\n",
      "Honda             526\n",
      "Mahindra          247\n",
      "Renault           241\n",
      "Toyota            241\n",
      "Tata              204\n",
      "Volkswagen        164\n",
      "Ford              128\n",
      "Mercedes-Benz      75\n",
      "MG                 66\n",
      "Skoda              64\n",
      "Nissan             53\n",
      "BMW                52\n",
      "Jeep               52\n",
      "KIA                51\n",
      "Audi               43\n",
      "Chevrolet          30\n",
      "Datsun             30\n",
      "Jaguar             14\n",
      "Land Rover         12\n",
      "Volvo              10\n",
      "Mini                5\n",
      "Porsche             5\n",
      "Fiat                5\n",
      "Mitsubishi          3\n",
      "Bentley             2\n",
      "Hindustan           2\n",
      "Hummer              2\n",
      "Bajaj               2\n",
      "Isuzu               1\n",
      "Other               1\n",
      "Maserati            1\n",
      "Name: Brand, dtype: int64\n"
     ]
    },
    {
     "data": {
      "image/png": "[encoded data removed]",
      "text/plain": [
       "<Figure size 576x288 with 1 Axes>"
      ]
     },
     "metadata": {
      "needs_background": "light"
     },
     "output_type": "display_data"
    },
    {
     "name": "stdout",
     "output_type": "stream",
     "text": [
      "^^^^^^^^^^^^^^^^^^^^^^^^^^^^^^^^^^^^^^^^^^^^^^^^^^^^^^^^^^^^\n",
      "PETROL           3576\n",
      "DIESEL           1486\n",
      "CNG & HYBRIDS     122\n",
      "CNG                48\n",
      "Petrol + CNG       29\n",
      "ELECTRIC            4\n",
      "LPG                 4\n",
      "Petrol + LPG        1\n",
      "Name: Fuel_Type, dtype: int64\n"
     ]
    },
    {
     "data": {
      "image/png": "[encoded data removed]",
      "text/plain": [
       "<Figure size 432x288 with 1 Axes>"
      ]
     },
     "metadata": {
      "needs_background": "light"
     },
     "output_type": "display_data"
    },
    {
     "name": "stdout",
     "output_type": "stream",
     "text": [
      "^^^^^^^^^^^^^^^^^^^^^^^^^^^^^^^^^^^^^^^^^^^^^^^^^^^^^^^^^^^^\n",
      "1st    4086\n",
      "2nd    1031\n",
      "3rd     128\n",
      "4th      19\n",
      "4+        6\n",
      "Name: No_of_owners, dtype: int64\n"
     ]
    },
    {
     "data": {
      "image/png": "[encoded data removed]",
      "text/plain": [
       "<Figure size 432x288 with 1 Axes>"
      ]
     },
     "metadata": {
      "needs_background": "light"
     },
     "output_type": "display_data"
    },
    {
     "name": "stdout",
     "output_type": "stream",
     "text": [
      "^^^^^^^^^^^^^^^^^^^^^^^^^^^^^^^^^^^^^^^^^^^^^^^^^^^^^^^^^^^^\n"
     ]
    }
   ],
   "source": [
    "#plotting the categorical variables in the dataset. We havn't plotted the columns'Model' and Location since there are more than 50 unique values.\n",
    "plt.figure(figsize = [8,4])\n",
    "for i in data.columns:\n",
    "    if (data[i].dtypes =='O' and data[i].nunique() <50):\n",
    "        a = 0\n",
    "        print(data[i].value_counts().sort_values(ascending = False))\n",
    "        plt.subplot(1,1,a+1)\n",
    "        sns.countplot(data[i])\n",
    "        plt.xticks(rotation = 90)\n",
    "        plt.title(\"{}\".format(i))\n",
    "        plt.show()\n",
    "        print(\"^\"*60)\n",
    "        a+= 1"
   ]
  },
  {
   "cell_type": "markdown",
   "id": "5f423862",
   "metadata": {},
   "source": [
    "Observations:\n",
    "    \n",
    "* Most of the cars which are available for sale is from Brand \"Maruti\". Second highest cars which are available for sale is from 'Hyundai'. These are the two major car sellers in the country.\n",
    "* Most of the cars which are available for sale are petrol powered. Second most cars which are available for sale are powered by diesel.\n",
    "* Most of the cars which are available for sale are single owner vehicles. "
   ]
  },
  {
   "cell_type": "code",
   "execution_count": 14,
   "id": "7344906c",
   "metadata": {},
   "outputs": [
    {
     "name": "stdout",
     "output_type": "stream",
     "text": [
      "(array([   2,    0,    0,    1,  148, 5119], dtype=int64), array([1942.        , 1955.33333333, 1968.66666667, 1982.        ,\n",
      "       1995.33333333, 2008.66666667, 2022.        ]))\n"
     ]
    },
    {
     "data": {
      "image/png": "[encoded data removed]",
      "text/plain": [
       "<Figure size 576x288 with 1 Axes>"
      ]
     },
     "metadata": {
      "needs_background": "light"
     },
     "output_type": "display_data"
    },
    {
     "name": "stdout",
     "output_type": "stream",
     "text": [
      "^^^^^^^^^^^^^^^^^^^^^^^^^^^^^^^^^^^^^^^^^^^^^^^^^^^^^^^^^^^^\n",
      "(array([5221,   38,    0,    2,    3,    6], dtype=int64), array([     1.        , 166667.33333333, 333333.66666667, 500000.        ,\n",
      "       666666.33333333, 833332.66666667, 999999.        ]))\n"
     ]
    },
    {
     "data": {
      "image/png": "[encoded data removed]",
      "text/plain": [
       "<Figure size 432x288 with 1 Axes>"
      ]
     },
     "metadata": {
      "needs_background": "light"
     },
     "output_type": "display_data"
    },
    {
     "name": "stdout",
     "output_type": "stream",
     "text": [
      "^^^^^^^^^^^^^^^^^^^^^^^^^^^^^^^^^^^^^^^^^^^^^^^^^^^^^^^^^^^^\n",
      "(array([5195,   62,    9,    3,    0,    1], dtype=int64), array([   15000.        ,  3629166.66666667,  7243333.33333333,\n",
      "       10857500.        , 14471666.66666667, 18085833.33333333,\n",
      "       21700000.        ]))\n"
     ]
    },
    {
     "data": {
      "image/png": "[encoded data removed]",
      "text/plain": [
       "<Figure size 432x288 with 1 Axes>"
      ]
     },
     "metadata": {
      "needs_background": "light"
     },
     "output_type": "display_data"
    },
    {
     "name": "stdout",
     "output_type": "stream",
     "text": [
      "^^^^^^^^^^^^^^^^^^^^^^^^^^^^^^^^^^^^^^^^^^^^^^^^^^^^^^^^^^^^\n"
     ]
    }
   ],
   "source": [
    "#plotting the categorical variables in the dataset. We havn't plotted the columns'Model' and Location since there are more than 50 unique values.\n",
    "plt.figure(figsize = [8,4])\n",
    "for i in data.columns:\n",
    "    if (data[i].dtypes =='int64' or data[i].dtypes == 'float64'):\n",
    "        a = 0\n",
    "        plt.subplot(1,1,a+1)\n",
    "        sns.histplot(x =i,data = data,bins =6,kde=True)\n",
    "        np.set_printoptions(suppress = True)\n",
    "        print(np.histogram(data[i],bins=6))\n",
    "        plt.xticks(rotation = 90)\n",
    "        plt.title(\"{}\".format(i))\n",
    "        ax = plt.gca()\n",
    "        ax.ticklabel_format(style='plain')\n",
    "        plt.show()\n",
    "        print(\"^\"*60)\n",
    "        a+= 1"
   ]
  },
  {
   "cell_type": "markdown",
   "id": "8e96eae2",
   "metadata": {},
   "source": [
    "Observations:\n",
    "\n",
    "* Most of the cars which are available for sale are manufactured from 2008 to 2022.\n",
    "* Most of the cars which are available for sale have been driven less than 1.67 lakh Kilometers.\n",
    "* Most of the cars which are avaiable for sale are having a price ranging between Rs15,000 to Rs36.3 Lakh."
   ]
  },
  {
   "cell_type": "markdown",
   "id": "52a00581",
   "metadata": {},
   "source": [
    "#### Bivariate and Multivariate Analysis"
   ]
  },
  {
   "cell_type": "code",
   "execution_count": 15,
   "id": "b7315232",
   "metadata": {},
   "outputs": [
    {
     "data": {
      "image/png": "[encoded data removed]",
      "text/plain": [
       "<Figure size 720x720 with 2 Axes>"
      ]
     },
     "metadata": {
      "needs_background": "light"
     },
     "output_type": "display_data"
    }
   ],
   "source": [
    "numeric_columns = list(data.drop(['Car_Price'],axis =1).select_dtypes([\"int64\",\"float64\"]))\n",
    "plt.figure(figsize = [10,10])\n",
    "for i in range (len(numeric_columns)):\n",
    "    plt.subplot(3,1,i+1)\n",
    "    sns.regplot(x = data[numeric_columns[i]],y = data['Car_Price'], data = data)\n",
    "    plt.xticks(rotation = 90)\n",
    "    plt.title(f\"{numeric_columns[i]} VS Car Price\",fontsize=15)\n",
    "    plt.xlabel(numeric_columns[i],fontsize = 12)\n",
    "    plt.ylabel('Car Price', fontsize = 12)\n",
    "    ax = plt.gca()\n",
    "    ax.ticklabel_format(style='plain')\n",
    "    plt.tight_layout()"
   ]
  },
  {
   "cell_type": "markdown",
   "id": "e85137f2",
   "metadata": {},
   "source": [
    "Observations\n",
    "\n",
    "* The sale price of car is increasing if the car is recently manufactured. \n",
    "* The sale price of car is slightly decreasing for the cars which have been driven most. "
   ]
  },
  {
   "cell_type": "code",
   "execution_count": 16,
   "id": "29af38c0",
   "metadata": {},
   "outputs": [
    {
     "data": {
      "image/png": "[encoded data removed]",
      "text/plain": [
       "<Figure size 720x2160 with 3 Axes>"
      ]
     },
     "metadata": {
      "needs_background": "light"
     },
     "output_type": "display_data"
    }
   ],
   "source": [
    "categorical_column = list(data.drop(['Model','Location'],axis =1).select_dtypes(\"O\"))\n",
    "plt.figure(figsize = [10,30])\n",
    "for i in range (len(categorical_column)):\n",
    "    plt.subplot(5,1,i+1)\n",
    "    sns.scatterplot(x = data[categorical_column[i]],y = data['Car_Price'], data = data)\n",
    "    plt.xticks(rotation = 90)\n",
    "    plt.title(f\"{categorical_column[i]} VS Car Price\",fontsize=15)\n",
    "    plt.xlabel(categorical_column[i],fontsize = 12)\n",
    "    plt.ylabel('Car Price', fontsize = 12)\n",
    "    plt.tight_layout()"
   ]
  },
  {
   "cell_type": "code",
   "execution_count": 17,
   "id": "8e97169d",
   "metadata": {},
   "outputs": [
    {
     "data": {
      "image/png": "[encoded data removed]",
      "text/plain": [
       "<Figure size 720x2160 with 3 Axes>"
      ]
     },
     "metadata": {
      "needs_background": "light"
     },
     "output_type": "display_data"
    }
   ],
   "source": [
    "categorical_column = list(data.drop(['Model','Location'],axis =1).select_dtypes(\"O\"))\n",
    "plt.figure(figsize = [10,30])\n",
    "ax = plt.gca()\n",
    "ax.ticklabel_format(style='plain')\n",
    "for i in range (len(categorical_column)):\n",
    "    plt.subplot(5,1,i+1)\n",
    "    sns.lineplot(x = data[categorical_column[i]],y = data['Car_Price'], data = data)\n",
    "    plt.xticks(rotation = 90)\n",
    "    plt.title(f\"{categorical_column[i]} VS Car Price\",fontsize=15)\n",
    "    plt.xlabel(categorical_column[i],fontsize = 12)\n",
    "    plt.ylabel('Car Price', fontsize = 12)\n",
    "    plt.tight_layout()"
   ]
  },
  {
   "cell_type": "code",
   "execution_count": 18,
   "id": "b876e4dc",
   "metadata": {},
   "outputs": [
    {
     "data": {
      "image/png": "[encoded data removed]",
      "text/plain": [
       "<Figure size 1080x432 with 1 Axes>"
      ]
     },
     "metadata": {
      "needs_background": "light"
     },
     "output_type": "display_data"
    }
   ],
   "source": [
    "plt.figure(figsize = (15,6))\n",
    "sns.stripplot(x = 'Brand',y = 'Fuel_Type', data = data)\n",
    "plt.xticks(rotation = 90)\n",
    "plt.title(\"Brand VS Fuel Type\",fontsize=15)\n",
    "plt.xlabel(\"Brand\",fontsize = 12)\n",
    "plt.ylabel('Fuel Type', fontsize = 12)\n",
    "plt.show()"
   ]
  },
  {
   "cell_type": "code",
   "execution_count": 19,
   "id": "7965edc8",
   "metadata": {},
   "outputs": [
    {
     "data": {
      "text/plain": [
       "<Figure size 1080x432 with 0 Axes>"
      ]
     },
     "metadata": {},
     "output_type": "display_data"
    },
    {
     "data": {
      "image/png": "[encoded data removed]",
      "text/plain": [
       "<Figure size 360x360 with 1 Axes>"
      ]
     },
     "metadata": {
      "needs_background": "light"
     },
     "output_type": "display_data"
    }
   ],
   "source": [
    "plt.figure(figsize = (15,6))\n",
    "sns.factorplot(x = 'Brand',y = 'Manufacturing_Year', data = data)\n",
    "plt.xticks(rotation = 90)\n",
    "plt.title(\"Brand VS Manufacturing_Year\",fontsize=15)\n",
    "plt.xlabel(\"Brand\",fontsize = 12)\n",
    "plt.ylabel('Manufacturing Year', fontsize = 12)\n",
    "plt.show()"
   ]
  },
  {
   "cell_type": "markdown",
   "id": "e1259f3b",
   "metadata": {},
   "source": [
    "Observations:\n",
    "    \n",
    "* The price for the luxuries car brands like Mercedes-Benz, BMW, Land Rover, Hummer, Bentley are higher compared to other brands.\n",
    "* The car price for diesel, and petrol fueled cars are having higher price compared to other types fueled cars.\n",
    "* The price of car is decreasing as the number of owners of the cars are increasing. Most of the cars.\n",
    "* Maruti is having different fuel type cars which are available for sale. Toyota and Hyundai is also having a variety of cars which are powered by different types of fuel.\n",
    "* Most of the cars which are available for sale are manufactured after 2015 and most of the cars are of brands like KIA, MG which are available for sale were manufactured after the year 2019."
   ]
  },
  {
   "cell_type": "markdown",
   "id": "acd9c2f3",
   "metadata": {},
   "source": [
    "### Statistical Summary"
   ]
  },
  {
   "cell_type": "markdown",
   "id": "ad7281bf",
   "metadata": {},
   "source": [
    "### Describe of the data"
   ]
  },
  {
   "cell_type": "code",
   "execution_count": 20,
   "id": "7d72fefe",
   "metadata": {},
   "outputs": [
    {
     "data": {
      "text/html": [
       "<div>\n",
       "<style scoped>\n",
       "    .dataframe tbody tr th:only-of-type {\n",
       "        vertical-align: middle;\n",
       "    }\n",
       "\n",
       "    .dataframe tbody tr th {\n",
       "        vertical-align: top;\n",
       "    }\n",
       "\n",
       "    .dataframe thead th {\n",
       "        text-align: right;\n",
       "    }\n",
       "</style>\n",
       "<table border=\"1\" class=\"dataframe\">\n",
       "  <thead>\n",
       "    <tr style=\"text-align: right;\">\n",
       "      <th></th>\n",
       "      <th>Manufacturing_Year</th>\n",
       "      <th>Kilometers_Driven</th>\n",
       "      <th>Car_Price</th>\n",
       "    </tr>\n",
       "  </thead>\n",
       "  <tbody>\n",
       "    <tr>\n",
       "      <th>count</th>\n",
       "      <td>5270.000000</td>\n",
       "      <td>5270.000000</td>\n",
       "      <td>5.270000e+03</td>\n",
       "    </tr>\n",
       "    <tr>\n",
       "      <th>mean</th>\n",
       "      <td>2016.124502</td>\n",
       "      <td>51418.923866</td>\n",
       "      <td>7.531877e+05</td>\n",
       "    </tr>\n",
       "    <tr>\n",
       "      <th>std</th>\n",
       "      <td>3.708293</td>\n",
       "      <td>50150.036814</td>\n",
       "      <td>8.354115e+05</td>\n",
       "    </tr>\n",
       "    <tr>\n",
       "      <th>min</th>\n",
       "      <td>1942.000000</td>\n",
       "      <td>1.000000</td>\n",
       "      <td>1.500000e+04</td>\n",
       "    </tr>\n",
       "    <tr>\n",
       "      <th>25%</th>\n",
       "      <td>2014.000000</td>\n",
       "      <td>25001.250000</td>\n",
       "      <td>3.999990e+05</td>\n",
       "    </tr>\n",
       "    <tr>\n",
       "      <th>50%</th>\n",
       "      <td>2017.000000</td>\n",
       "      <td>45280.500000</td>\n",
       "      <td>5.600000e+05</td>\n",
       "    </tr>\n",
       "    <tr>\n",
       "      <th>75%</th>\n",
       "      <td>2019.000000</td>\n",
       "      <td>69785.250000</td>\n",
       "      <td>8.299498e+05</td>\n",
       "    </tr>\n",
       "    <tr>\n",
       "      <th>max</th>\n",
       "      <td>2022.000000</td>\n",
       "      <td>999999.000000</td>\n",
       "      <td>2.170000e+07</td>\n",
       "    </tr>\n",
       "  </tbody>\n",
       "</table>\n",
       "</div>"
      ],
      "text/plain": [
       "       Manufacturing_Year  Kilometers_Driven     Car_Price\n",
       "count         5270.000000        5270.000000  5.270000e+03\n",
       "mean          2016.124502       51418.923866  7.531877e+05\n",
       "std              3.708293       50150.036814  8.354115e+05\n",
       "min           1942.000000           1.000000  1.500000e+04\n",
       "25%           2014.000000       25001.250000  3.999990e+05\n",
       "50%           2017.000000       45280.500000  5.600000e+05\n",
       "75%           2019.000000       69785.250000  8.299498e+05\n",
       "max           2022.000000      999999.000000  2.170000e+07"
      ]
     },
     "execution_count": 20,
     "metadata": {},
     "output_type": "execute_result"
    }
   ],
   "source": [
    "data.describe()"
   ]
  },
  {
   "cell_type": "code",
   "execution_count": 21,
   "id": "afd3fa77",
   "metadata": {},
   "outputs": [
    {
     "data": {
      "image/png": "[encoded data removed]",
      "text/plain": [
       "<Figure size 864x576 with 2 Axes>"
      ]
     },
     "metadata": {
      "needs_background": "light"
     },
     "output_type": "display_data"
    }
   ],
   "source": [
    "plt.figure(figsize=[12,8])\n",
    "sns.heatmap(data.describe()[1:],annot=True,fmt='0.2f',linewidths=0.1)\n",
    "plt.show()"
   ]
  },
  {
   "cell_type": "markdown",
   "id": "b08d94b9",
   "metadata": {},
   "source": [
    "Observations:\n",
    "\n",
    "* The mean of the columns ['Kilometers_Driven','Car_Price'] are higher than the median value. That means the the distribution of values in these columns are not normal and skewness is present in the data distribution. \n",
    "* The max value of the columns ['Kilometers_Driven','Car_Price'] are having huge difference between the 75%. Possible outliers are present in the data of these columns.\n",
    "    "
   ]
  },
  {
   "cell_type": "code",
   "execution_count": 22,
   "id": "afcba78f",
   "metadata": {},
   "outputs": [],
   "source": [
    "numeric_columns = list(data.select_dtypes([\"int64\",\"float64\"]))\n",
    "categorical_columns = list(data.select_dtypes('O'))"
   ]
  },
  {
   "cell_type": "markdown",
   "id": "c8d1d840",
   "metadata": {},
   "source": [
    "### Encoding of Categorical Variables"
   ]
  },
  {
   "cell_type": "code",
   "execution_count": 23,
   "id": "2d3b33c4",
   "metadata": {},
   "outputs": [],
   "source": [
    "from sklearn.preprocessing import OrdinalEncoder\n",
    "onc = OrdinalEncoder()\n",
    "for i in data.columns:\n",
    "    if data[i].dtypes =='object':\n",
    "        data[i] = onc.fit_transform(data[i].values.reshape(-1,1)).astype('int64')    #Ordinal Encoding for the features."
   ]
  },
  {
   "cell_type": "markdown",
   "id": "fd49df82",
   "metadata": {},
   "source": [
    "We have encoded the categorical columns of the dataset."
   ]
  },
  {
   "cell_type": "markdown",
   "id": "d2477ab6",
   "metadata": {},
   "source": [
    "### Correlation"
   ]
  },
  {
   "cell_type": "code",
   "execution_count": 24,
   "id": "6bfbb103",
   "metadata": {},
   "outputs": [
    {
     "data": {
      "text/html": [
       "<div>\n",
       "<style scoped>\n",
       "    .dataframe tbody tr th:only-of-type {\n",
       "        vertical-align: middle;\n",
       "    }\n",
       "\n",
       "    .dataframe tbody tr th {\n",
       "        vertical-align: top;\n",
       "    }\n",
       "\n",
       "    .dataframe thead th {\n",
       "        text-align: right;\n",
       "    }\n",
       "</style>\n",
       "<table border=\"1\" class=\"dataframe\">\n",
       "  <thead>\n",
       "    <tr style=\"text-align: right;\">\n",
       "      <th></th>\n",
       "      <th>Brand</th>\n",
       "      <th>Model</th>\n",
       "      <th>Manufacturing_Year</th>\n",
       "      <th>Kilometers_Driven</th>\n",
       "      <th>Fuel_Type</th>\n",
       "      <th>No_of_owners</th>\n",
       "      <th>Location</th>\n",
       "      <th>Car_Price</th>\n",
       "    </tr>\n",
       "  </thead>\n",
       "  <tbody>\n",
       "    <tr>\n",
       "      <th>Brand</th>\n",
       "      <td>1.000000</td>\n",
       "      <td>0.135774</td>\n",
       "      <td>0.067011</td>\n",
       "      <td>0.057580</td>\n",
       "      <td>-0.051195</td>\n",
       "      <td>0.003905</td>\n",
       "      <td>0.020551</td>\n",
       "      <td>-0.043915</td>\n",
       "    </tr>\n",
       "    <tr>\n",
       "      <th>Model</th>\n",
       "      <td>0.135774</td>\n",
       "      <td>1.000000</td>\n",
       "      <td>-0.057169</td>\n",
       "      <td>0.040929</td>\n",
       "      <td>-0.136424</td>\n",
       "      <td>0.038807</td>\n",
       "      <td>0.024914</td>\n",
       "      <td>-0.007641</td>\n",
       "    </tr>\n",
       "    <tr>\n",
       "      <th>Manufacturing_Year</th>\n",
       "      <td>0.067011</td>\n",
       "      <td>-0.057169</td>\n",
       "      <td>1.000000</td>\n",
       "      <td>-0.387111</td>\n",
       "      <td>0.131890</td>\n",
       "      <td>-0.326692</td>\n",
       "      <td>-0.007963</td>\n",
       "      <td>0.251655</td>\n",
       "    </tr>\n",
       "    <tr>\n",
       "      <th>Kilometers_Driven</th>\n",
       "      <td>0.057580</td>\n",
       "      <td>0.040929</td>\n",
       "      <td>-0.387111</td>\n",
       "      <td>1.000000</td>\n",
       "      <td>-0.283972</td>\n",
       "      <td>0.165304</td>\n",
       "      <td>0.050995</td>\n",
       "      <td>-0.109295</td>\n",
       "    </tr>\n",
       "    <tr>\n",
       "      <th>Fuel_Type</th>\n",
       "      <td>-0.051195</td>\n",
       "      <td>-0.136424</td>\n",
       "      <td>0.131890</td>\n",
       "      <td>-0.283972</td>\n",
       "      <td>1.000000</td>\n",
       "      <td>-0.055112</td>\n",
       "      <td>-0.032519</td>\n",
       "      <td>-0.173148</td>\n",
       "    </tr>\n",
       "    <tr>\n",
       "      <th>No_of_owners</th>\n",
       "      <td>0.003905</td>\n",
       "      <td>0.038807</td>\n",
       "      <td>-0.326692</td>\n",
       "      <td>0.165304</td>\n",
       "      <td>-0.055112</td>\n",
       "      <td>1.000000</td>\n",
       "      <td>0.037322</td>\n",
       "      <td>-0.095251</td>\n",
       "    </tr>\n",
       "    <tr>\n",
       "      <th>Location</th>\n",
       "      <td>0.020551</td>\n",
       "      <td>0.024914</td>\n",
       "      <td>-0.007963</td>\n",
       "      <td>0.050995</td>\n",
       "      <td>-0.032519</td>\n",
       "      <td>0.037322</td>\n",
       "      <td>1.000000</td>\n",
       "      <td>-0.024122</td>\n",
       "    </tr>\n",
       "    <tr>\n",
       "      <th>Car_Price</th>\n",
       "      <td>-0.043915</td>\n",
       "      <td>-0.007641</td>\n",
       "      <td>0.251655</td>\n",
       "      <td>-0.109295</td>\n",
       "      <td>-0.173148</td>\n",
       "      <td>-0.095251</td>\n",
       "      <td>-0.024122</td>\n",
       "      <td>1.000000</td>\n",
       "    </tr>\n",
       "  </tbody>\n",
       "</table>\n",
       "</div>"
      ],
      "text/plain": [
       "                       Brand     Model  Manufacturing_Year  Kilometers_Driven  \\\n",
       "Brand               1.000000  0.135774            0.067011           0.057580   \n",
       "Model               0.135774  1.000000           -0.057169           0.040929   \n",
       "Manufacturing_Year  0.067011 -0.057169            1.000000          -0.387111   \n",
       "Kilometers_Driven   0.057580  0.040929           -0.387111           1.000000   \n",
       "Fuel_Type          -0.051195 -0.136424            0.131890          -0.283972   \n",
       "No_of_owners        0.003905  0.038807           -0.326692           0.165304   \n",
       "Location            0.020551  0.024914           -0.007963           0.050995   \n",
       "Car_Price          -0.043915 -0.007641            0.251655          -0.109295   \n",
       "\n",
       "                    Fuel_Type  No_of_owners  Location  Car_Price  \n",
       "Brand               -0.051195      0.003905  0.020551  -0.043915  \n",
       "Model               -0.136424      0.038807  0.024914  -0.007641  \n",
       "Manufacturing_Year   0.131890     -0.326692 -0.007963   0.251655  \n",
       "Kilometers_Driven   -0.283972      0.165304  0.050995  -0.109295  \n",
       "Fuel_Type            1.000000     -0.055112 -0.032519  -0.173148  \n",
       "No_of_owners        -0.055112      1.000000  0.037322  -0.095251  \n",
       "Location            -0.032519      0.037322  1.000000  -0.024122  \n",
       "Car_Price           -0.173148     -0.095251 -0.024122   1.000000  "
      ]
     },
     "execution_count": 24,
     "metadata": {},
     "output_type": "execute_result"
    }
   ],
   "source": [
    "Correlation = data.corr()\n",
    "Correlation"
   ]
  },
  {
   "cell_type": "code",
   "execution_count": 25,
   "id": "6504d328",
   "metadata": {},
   "outputs": [
    {
     "data": {
      "image/png": "[encoded data removed]",
      "text/plain": [
       "<Figure size 576x576 with 2 Axes>"
      ]
     },
     "metadata": {
      "needs_background": "light"
     },
     "output_type": "display_data"
    }
   ],
   "source": [
    "#Plotting the correlation of columns\n",
    "plt.figure(figsize=[8,8])\n",
    "sns.heatmap(Correlation,annot = True, fmt = '0.2f',cmap='Paired')\n",
    "plt.show()"
   ]
  },
  {
   "cell_type": "markdown",
   "id": "0c4e00bc",
   "metadata": {},
   "source": [
    "None of the columns are having perfect correlation with another variable. So we can evaluate the correlation of features with the target variable."
   ]
  },
  {
   "cell_type": "markdown",
   "id": "91058da6",
   "metadata": {},
   "source": [
    "### Correlation with Target Variable"
   ]
  },
  {
   "cell_type": "code",
   "execution_count": 26,
   "id": "ac263d29",
   "metadata": {},
   "outputs": [
    {
     "name": "stdout",
     "output_type": "stream",
     "text": [
      "Manufacturing_Year    0.251655\n",
      "Model                -0.007641\n",
      "Location             -0.024122\n",
      "Brand                -0.043915\n",
      "No_of_owners         -0.095251\n",
      "Kilometers_Driven    -0.109295\n",
      "Fuel_Type            -0.173148\n",
      "Name: Car_Price, dtype: float64\n"
     ]
    },
    {
     "data": {
      "image/png": "[encoded data removed]",
      "text/plain": [
       "<Figure size 864x576 with 1 Axes>"
      ]
     },
     "metadata": {
      "needs_background": "light"
     },
     "output_type": "display_data"
    }
   ],
   "source": [
    "print(Correlation['Car_Price'].drop('Car_Price').sort_values(ascending = False))\n",
    "plt.figure(figsize = [12,8])\n",
    "plt.subplot()\n",
    "Correlation['Car_Price'].sort_values(ascending= False).drop('Car_Price').plot(kind = 'bar', color ='tab:purple')\n",
    "Correlation['Car_Price'].sort_values(ascending= False).drop('Car_Price').plot(kind = 'line', color ='tab:purple')\n",
    "plt.xlabel('Column Names', fontsize = 12)\n",
    "plt.ylabel('Correlation', fontsize = 12)\n",
    "plt.title('Correlation with Target Column')\n",
    "plt.show()"
   ]
  },
  {
   "cell_type": "markdown",
   "id": "e241f694",
   "metadata": {},
   "source": [
    "Observations:\n",
    "    \n",
    "* Except the column 'Manufacturing_Year', rest of the columns are having a negative correlation to the target variable 'Car_Price'.\n",
    "* The column \"Manufacturing_Year' is having the highest positive correlation to the target variable 'Car_Price'. The column 'Fuel_Type' is having highest negative correlation to the target variable 'Car_Price'.\n",
    "* The column 'Model' is having least negative correlation to the target variable 'Car_Price'."
   ]
  },
  {
   "cell_type": "markdown",
   "id": "08e560be",
   "metadata": {},
   "source": [
    "### Distribution of data in columns"
   ]
  },
  {
   "cell_type": "code",
   "execution_count": 27,
   "id": "d6c08ee0",
   "metadata": {},
   "outputs": [
    {
     "data": {
      "image/png": "[encoded data removed]",
      "text/plain": [
       "<Figure size 864x288 with 3 Axes>"
      ]
     },
     "metadata": {
      "needs_background": "light"
     },
     "output_type": "display_data"
    }
   ],
   "source": [
    "#Skewness of Numerical columns\n",
    "\n",
    "plt.figure(figsize = [12,4])\n",
    "for i in range(0,len(numeric_columns)):\n",
    "    plt.subplot(1,3,i+1)\n",
    "    sns.distplot(data[numeric_columns[i]])\n",
    "    plt.tight_layout()"
   ]
  },
  {
   "cell_type": "markdown",
   "id": "f4df4107",
   "metadata": {},
   "source": [
    "Observations:\n",
    "    \n",
    "* The data in columns are not normally distributed. \n",
    "* Skewness is present in the data of all numerical columns."
   ]
  },
  {
   "cell_type": "markdown",
   "id": "cc687e59",
   "metadata": {},
   "source": [
    "### Skewness"
   ]
  },
  {
   "cell_type": "code",
   "execution_count": 28,
   "id": "db4d1f5f",
   "metadata": {},
   "outputs": [
    {
     "data": {
      "text/plain": [
       "Kilometers_Driven     10.186431\n",
       "Car_Price              7.927747\n",
       "Manufacturing_Year    -3.829946\n",
       "dtype: float64"
      ]
     },
     "execution_count": 28,
     "metadata": {},
     "output_type": "execute_result"
    }
   ],
   "source": [
    "Skewness = data[numeric_columns].skew()\n",
    "Skewness.sort_values(ascending = False)"
   ]
  },
  {
   "cell_type": "markdown",
   "id": "44e0c2bd",
   "metadata": {},
   "source": [
    "* There is huge amount of skewness present in the data of numerical columns in the dataset.\n",
    "* The column \"Car_Price\" is our target variable and we will not remove the skewness of this column. We can handle the skewness of the rest of columns in following steps."
   ]
  },
  {
   "cell_type": "markdown",
   "id": "e371e4a5",
   "metadata": {},
   "source": [
    "### Checking the presence of outliers"
   ]
  },
  {
   "cell_type": "code",
   "execution_count": 29,
   "id": "2af6228d",
   "metadata": {},
   "outputs": [
    {
     "data": {
      "image/png": "[encoded data removed]",
      "text/plain": [
       "<Figure size 720x360 with 3 Axes>"
      ]
     },
     "metadata": {
      "needs_background": "light"
     },
     "output_type": "display_data"
    }
   ],
   "source": [
    "#Plotting the data of every columns with boxplot to check the outliers\n",
    "plt.figure(figsize = [10,5])\n",
    "for i in range(0,len(numeric_columns)):\n",
    "    plt.subplot(1,3,i+1)\n",
    "    sns.boxplot(y = data[numeric_columns[i]])\n",
    "    plt.tight_layout()"
   ]
  },
  {
   "cell_type": "markdown",
   "id": "c00f08d2",
   "metadata": {},
   "source": [
    "* Outliers are present in the data of all the numerical columns. \n",
    "* We will handle the outliers of the data in the following steps. Since the column 'Car_Price' is our target variable, we will not remove the outliers from this column. "
   ]
  },
  {
   "cell_type": "markdown",
   "id": "be4bab43",
   "metadata": {},
   "source": [
    "### Data Cleaning"
   ]
  },
  {
   "cell_type": "markdown",
   "id": "83a93b36",
   "metadata": {},
   "source": [
    "### Removing Skewness"
   ]
  },
  {
   "cell_type": "code",
   "execution_count": 30,
   "id": "a0eec8d2",
   "metadata": {},
   "outputs": [
    {
     "name": "stdout",
     "output_type": "stream",
     "text": [
      "(5270, 7)\n",
      "(5270,)\n"
     ]
    }
   ],
   "source": [
    "x = data.drop('Car_Price',axis = 1)\n",
    "y = data['Car_Price']\n",
    "c = x.columns\n",
    "print(x.shape)\n",
    "print(y.shape)"
   ]
  },
  {
   "cell_type": "code",
   "execution_count": 31,
   "id": "84826eff",
   "metadata": {},
   "outputs": [],
   "source": [
    "#Scaling the data using standardscaler\n",
    "from sklearn.preprocessing import StandardScaler\n",
    "sc = StandardScaler()\n",
    "x = sc.fit_transform(x)\n",
    "x = pd.DataFrame(x,columns = c)"
   ]
  },
  {
   "cell_type": "code",
   "execution_count": 32,
   "id": "193052ee",
   "metadata": {},
   "outputs": [
    {
     "data": {
      "text/plain": [
       "Kilometers_Driven     10.186431\n",
       "Manufacturing_Year    -3.829946\n",
       "dtype: float64"
      ]
     },
     "execution_count": 32,
     "metadata": {},
     "output_type": "execute_result"
    }
   ],
   "source": [
    "#We can set the skewness standard limit as +/-0.5.\n",
    "x.drop(categorical_columns,axis =1).skew().sort_values(ascending=False)[np.abs(x.skew())>0.5]"
   ]
  },
  {
   "cell_type": "markdown",
   "id": "2a73e1bb",
   "metadata": {},
   "source": [
    "These numerical columns are having skewness which are beyond the standard limit. We can remove the skewness of these columns."
   ]
  },
  {
   "cell_type": "code",
   "execution_count": 33,
   "id": "b7f174a3",
   "metadata": {},
   "outputs": [],
   "source": [
    "from sklearn.preprocessing import power_transform\n",
    "x['Kilometers_Driven'] = power_transform(x['Kilometers_Driven'].values.reshape(-1,1))\n",
    "x['Manufacturing_Year'] = power_transform(x['Manufacturing_Year'].values.reshape(-1,1))"
   ]
  },
  {
   "cell_type": "code",
   "execution_count": 34,
   "id": "33b6e57d",
   "metadata": {},
   "outputs": [
    {
     "data": {
      "text/plain": [
       "Kilometers_Driven     0.044737\n",
       "Manufacturing_Year   -0.049705\n",
       "dtype: float64"
      ]
     },
     "execution_count": 34,
     "metadata": {},
     "output_type": "execute_result"
    }
   ],
   "source": [
    "x.drop(categorical_columns,axis =1).skew().sort_values(ascending = False)"
   ]
  },
  {
   "cell_type": "markdown",
   "id": "25bf94b0",
   "metadata": {},
   "source": [
    "We have successfully removed the skewness of the data from the columns ['Kilometers_Driven', 'Manufacturing_Year']."
   ]
  },
  {
   "cell_type": "markdown",
   "id": "9fe9926f",
   "metadata": {},
   "source": [
    "### Removing the Outliers"
   ]
  },
  {
   "cell_type": "markdown",
   "id": "b3470c46",
   "metadata": {},
   "source": [
    "#### Using ZScore method"
   ]
  },
  {
   "cell_type": "code",
   "execution_count": 35,
   "id": "47d35e5b",
   "metadata": {},
   "outputs": [
    {
     "data": {
      "text/html": [
       "<div>\n",
       "<style scoped>\n",
       "    .dataframe tbody tr th:only-of-type {\n",
       "        vertical-align: middle;\n",
       "    }\n",
       "\n",
       "    .dataframe tbody tr th {\n",
       "        vertical-align: top;\n",
       "    }\n",
       "\n",
       "    .dataframe thead th {\n",
       "        text-align: right;\n",
       "    }\n",
       "</style>\n",
       "<table border=\"1\" class=\"dataframe\">\n",
       "  <thead>\n",
       "    <tr style=\"text-align: right;\">\n",
       "      <th></th>\n",
       "      <th>Manufacturing_Year</th>\n",
       "      <th>Kilometers_Driven</th>\n",
       "    </tr>\n",
       "  </thead>\n",
       "  <tbody>\n",
       "    <tr>\n",
       "      <th>0</th>\n",
       "      <td>1.193591</td>\n",
       "      <td>0.475574</td>\n",
       "    </tr>\n",
       "    <tr>\n",
       "      <th>1</th>\n",
       "      <td>0.251343</td>\n",
       "      <td>0.072757</td>\n",
       "    </tr>\n",
       "    <tr>\n",
       "      <th>2</th>\n",
       "      <td>1.845683</td>\n",
       "      <td>1.544303</td>\n",
       "    </tr>\n",
       "    <tr>\n",
       "      <th>3</th>\n",
       "      <td>1.548193</td>\n",
       "      <td>1.627686</td>\n",
       "    </tr>\n",
       "    <tr>\n",
       "      <th>4</th>\n",
       "      <td>0.251343</td>\n",
       "      <td>0.774408</td>\n",
       "    </tr>\n",
       "    <tr>\n",
       "      <th>...</th>\n",
       "      <td>...</td>\n",
       "      <td>...</td>\n",
       "    </tr>\n",
       "    <tr>\n",
       "      <th>5265</th>\n",
       "      <td>1.339544</td>\n",
       "      <td>1.060629</td>\n",
       "    </tr>\n",
       "    <tr>\n",
       "      <th>5266</th>\n",
       "      <td>0.452221</td>\n",
       "      <td>0.181137</td>\n",
       "    </tr>\n",
       "    <tr>\n",
       "      <th>5267</th>\n",
       "      <td>0.874338</td>\n",
       "      <td>0.709414</td>\n",
       "    </tr>\n",
       "    <tr>\n",
       "      <th>5268</th>\n",
       "      <td>0.075858</td>\n",
       "      <td>0.608036</td>\n",
       "    </tr>\n",
       "    <tr>\n",
       "      <th>5269</th>\n",
       "      <td>0.075858</td>\n",
       "      <td>0.172461</td>\n",
       "    </tr>\n",
       "  </tbody>\n",
       "</table>\n",
       "<p>5270 rows × 2 columns</p>\n",
       "</div>"
      ],
      "text/plain": [
       "      Manufacturing_Year  Kilometers_Driven\n",
       "0               1.193591           0.475574\n",
       "1               0.251343           0.072757\n",
       "2               1.845683           1.544303\n",
       "3               1.548193           1.627686\n",
       "4               0.251343           0.774408\n",
       "...                  ...                ...\n",
       "5265            1.339544           1.060629\n",
       "5266            0.452221           0.181137\n",
       "5267            0.874338           0.709414\n",
       "5268            0.075858           0.608036\n",
       "5269            0.075858           0.172461\n",
       "\n",
       "[5270 rows x 2 columns]"
      ]
     },
     "execution_count": 35,
     "metadata": {},
     "output_type": "execute_result"
    }
   ],
   "source": [
    "from scipy.stats import zscore\n",
    "df = pd.DataFrame({})\n",
    "df = x.drop(categorical_columns,axis = 1).copy()   #removing the categorical column from the dataset before removing outliers.\n",
    "z = np.abs(zscore(df))\n",
    "z"
   ]
  },
  {
   "cell_type": "code",
   "execution_count": 36,
   "id": "6704f58f",
   "metadata": {},
   "outputs": [
    {
     "data": {
      "text/html": [
       "<div>\n",
       "<style scoped>\n",
       "    .dataframe tbody tr th:only-of-type {\n",
       "        vertical-align: middle;\n",
       "    }\n",
       "\n",
       "    .dataframe tbody tr th {\n",
       "        vertical-align: top;\n",
       "    }\n",
       "\n",
       "    .dataframe thead th {\n",
       "        text-align: right;\n",
       "    }\n",
       "</style>\n",
       "<table border=\"1\" class=\"dataframe\">\n",
       "  <thead>\n",
       "    <tr style=\"text-align: right;\">\n",
       "      <th></th>\n",
       "      <th>Manufacturing_Year</th>\n",
       "      <th>Kilometers_Driven</th>\n",
       "      <th>Brand</th>\n",
       "      <th>Model</th>\n",
       "      <th>Fuel_Type</th>\n",
       "      <th>No_of_owners</th>\n",
       "      <th>Location</th>\n",
       "      <th>Car_Price</th>\n",
       "    </tr>\n",
       "  </thead>\n",
       "  <tbody>\n",
       "    <tr>\n",
       "      <th>0</th>\n",
       "      <td>-1.193591</td>\n",
       "      <td>0.475574</td>\n",
       "      <td>1.518042</td>\n",
       "      <td>0.787653</td>\n",
       "      <td>-1.366359</td>\n",
       "      <td>-0.484902</td>\n",
       "      <td>0.651635</td>\n",
       "      <td>425000</td>\n",
       "    </tr>\n",
       "    <tr>\n",
       "      <th>1</th>\n",
       "      <td>-0.251343</td>\n",
       "      <td>-0.072757</td>\n",
       "      <td>0.550195</td>\n",
       "      <td>0.178555</td>\n",
       "      <td>0.663345</td>\n",
       "      <td>-0.484902</td>\n",
       "      <td>1.504424</td>\n",
       "      <td>6990000</td>\n",
       "    </tr>\n",
       "    <tr>\n",
       "      <th>2</th>\n",
       "      <td>1.845683</td>\n",
       "      <td>-1.544303</td>\n",
       "      <td>0.550195</td>\n",
       "      <td>0.117207</td>\n",
       "      <td>0.663345</td>\n",
       "      <td>-0.484902</td>\n",
       "      <td>-0.936766</td>\n",
       "      <td>4990000</td>\n",
       "    </tr>\n",
       "    <tr>\n",
       "      <th>3</th>\n",
       "      <td>-1.548193</td>\n",
       "      <td>1.627686</td>\n",
       "      <td>1.518042</td>\n",
       "      <td>0.787653</td>\n",
       "      <td>0.663345</td>\n",
       "      <td>-0.484902</td>\n",
       "      <td>0.892499</td>\n",
       "      <td>165000</td>\n",
       "    </tr>\n",
       "    <tr>\n",
       "      <th>4</th>\n",
       "      <td>-0.251343</td>\n",
       "      <td>0.774408</td>\n",
       "      <td>0.273668</td>\n",
       "      <td>0.892821</td>\n",
       "      <td>-2.719494</td>\n",
       "      <td>1.365519</td>\n",
       "      <td>0.892499</td>\n",
       "      <td>395000</td>\n",
       "    </tr>\n",
       "    <tr>\n",
       "      <th>...</th>\n",
       "      <td>...</td>\n",
       "      <td>...</td>\n",
       "      <td>...</td>\n",
       "      <td>...</td>\n",
       "      <td>...</td>\n",
       "      <td>...</td>\n",
       "      <td>...</td>\n",
       "      <td>...</td>\n",
       "    </tr>\n",
       "    <tr>\n",
       "      <th>5265</th>\n",
       "      <td>1.339544</td>\n",
       "      <td>-1.060629</td>\n",
       "      <td>0.273668</td>\n",
       "      <td>0.603609</td>\n",
       "      <td>0.663345</td>\n",
       "      <td>-0.484902</td>\n",
       "      <td>-0.845628</td>\n",
       "      <td>439699</td>\n",
       "    </tr>\n",
       "    <tr>\n",
       "      <th>5266</th>\n",
       "      <td>0.452221</td>\n",
       "      <td>0.181137</td>\n",
       "      <td>0.273668</td>\n",
       "      <td>-0.172005</td>\n",
       "      <td>0.663345</td>\n",
       "      <td>-0.484902</td>\n",
       "      <td>-0.865158</td>\n",
       "      <td>474799</td>\n",
       "    </tr>\n",
       "    <tr>\n",
       "      <th>5267</th>\n",
       "      <td>0.874338</td>\n",
       "      <td>0.709414</td>\n",
       "      <td>0.273668</td>\n",
       "      <td>-1.166718</td>\n",
       "      <td>0.663345</td>\n",
       "      <td>-0.484902</td>\n",
       "      <td>-0.904217</td>\n",
       "      <td>508199</td>\n",
       "    </tr>\n",
       "    <tr>\n",
       "      <th>5268</th>\n",
       "      <td>0.075858</td>\n",
       "      <td>0.608036</td>\n",
       "      <td>-0.417651</td>\n",
       "      <td>-0.978292</td>\n",
       "      <td>0.663345</td>\n",
       "      <td>-0.484902</td>\n",
       "      <td>-0.819589</td>\n",
       "      <td>1125799</td>\n",
       "    </tr>\n",
       "    <tr>\n",
       "      <th>5269</th>\n",
       "      <td>0.075858</td>\n",
       "      <td>-0.172461</td>\n",
       "      <td>0.273668</td>\n",
       "      <td>1.401133</td>\n",
       "      <td>0.663345</td>\n",
       "      <td>-0.484902</td>\n",
       "      <td>-0.930256</td>\n",
       "      <td>435299</td>\n",
       "    </tr>\n",
       "  </tbody>\n",
       "</table>\n",
       "<p>5252 rows × 8 columns</p>\n",
       "</div>"
      ],
      "text/plain": [
       "      Manufacturing_Year  Kilometers_Driven     Brand     Model  Fuel_Type  \\\n",
       "0              -1.193591           0.475574  1.518042  0.787653  -1.366359   \n",
       "1              -0.251343          -0.072757  0.550195  0.178555   0.663345   \n",
       "2               1.845683          -1.544303  0.550195  0.117207   0.663345   \n",
       "3              -1.548193           1.627686  1.518042  0.787653   0.663345   \n",
       "4              -0.251343           0.774408  0.273668  0.892821  -2.719494   \n",
       "...                  ...                ...       ...       ...        ...   \n",
       "5265            1.339544          -1.060629  0.273668  0.603609   0.663345   \n",
       "5266            0.452221           0.181137  0.273668 -0.172005   0.663345   \n",
       "5267            0.874338           0.709414  0.273668 -1.166718   0.663345   \n",
       "5268            0.075858           0.608036 -0.417651 -0.978292   0.663345   \n",
       "5269            0.075858          -0.172461  0.273668  1.401133   0.663345   \n",
       "\n",
       "      No_of_owners  Location  Car_Price  \n",
       "0        -0.484902  0.651635     425000  \n",
       "1        -0.484902  1.504424    6990000  \n",
       "2        -0.484902 -0.936766    4990000  \n",
       "3        -0.484902  0.892499     165000  \n",
       "4         1.365519  0.892499     395000  \n",
       "...            ...       ...        ...  \n",
       "5265     -0.484902 -0.845628     439699  \n",
       "5266     -0.484902 -0.865158     474799  \n",
       "5267     -0.484902 -0.904217     508199  \n",
       "5268     -0.484902 -0.819589    1125799  \n",
       "5269     -0.484902 -0.930256     435299  \n",
       "\n",
       "[5252 rows x 8 columns]"
      ]
     },
     "execution_count": 36,
     "metadata": {},
     "output_type": "execute_result"
    }
   ],
   "source": [
    "threshold = 3\n",
    "df_new = df[(z<3).all(axis=1)]\n",
    "df_new[categorical_columns] = x[categorical_columns]\n",
    "df_new['Car_Price'] = y.copy()\n",
    "df_new"
   ]
  },
  {
   "cell_type": "code",
   "execution_count": 37,
   "id": "8d10ecd5",
   "metadata": {},
   "outputs": [
    {
     "data": {
      "text/plain": [
       "(5270, 8)"
      ]
     },
     "execution_count": 37,
     "metadata": {},
     "output_type": "execute_result"
    }
   ],
   "source": [
    "df[categorical_columns] = x[categorical_columns]\n",
    "df['Car_Price'] = y.copy()\n",
    "df.shape"
   ]
  },
  {
   "cell_type": "code",
   "execution_count": 38,
   "id": "8380198a",
   "metadata": {},
   "outputs": [
    {
     "data": {
      "text/plain": [
       "(5252, 8)"
      ]
     },
     "execution_count": 38,
     "metadata": {},
     "output_type": "execute_result"
    }
   ],
   "source": [
    "df_new.shape"
   ]
  },
  {
   "cell_type": "code",
   "execution_count": 39,
   "id": "b2ab1798",
   "metadata": {},
   "outputs": [
    {
     "data": {
      "text/plain": [
       "0.3415559772296015"
      ]
     },
     "execution_count": 39,
     "metadata": {},
     "output_type": "execute_result"
    }
   ],
   "source": [
    "data_loss = (df.shape[0]-df_new.shape[0])/df.shape[0]*100\n",
    "data_loss"
   ]
  },
  {
   "cell_type": "markdown",
   "id": "462dcc5c",
   "metadata": {},
   "source": [
    "0.34% of the data loss is incurred after removing outliers using zscore outlier removal method."
   ]
  },
  {
   "cell_type": "markdown",
   "id": "9b45fb7f",
   "metadata": {},
   "source": [
    "#### Using IQR (Inter Quantile Range) method"
   ]
  },
  {
   "cell_type": "code",
   "execution_count": 40,
   "id": "b43a26e3",
   "metadata": {},
   "outputs": [],
   "source": [
    "# 1st quantile\n",
    "\n",
    "Q1=x.quantile(0.25)\n",
    "\n",
    "# 3rd quantile\n",
    "Q3=x.quantile(0.75)\n",
    "\n",
    "# IQR\n",
    "df\n",
    "IQR=Q3 - Q1\n",
    "df_a = df.drop(categorical_columns, axis = 1)\n",
    "df_a.drop('Car_Price',axis = 1,inplace = True)\n",
    "df_1=df_a[~((df_a < (Q1 - 1.5 * IQR)) |(df_a > (Q3 + 1.5 * IQR))).any(axis=1)]"
   ]
  },
  {
   "cell_type": "code",
   "execution_count": 41,
   "id": "901a2990",
   "metadata": {},
   "outputs": [
    {
     "data": {
      "text/plain": [
       "(5256, 8)"
      ]
     },
     "execution_count": 41,
     "metadata": {},
     "output_type": "execute_result"
    }
   ],
   "source": [
    "df_1[categorical_columns] = x[categorical_columns]\n",
    "df_1['Car_Price'] = df['Car_Price']\n",
    "df_1.shape"
   ]
  },
  {
   "cell_type": "code",
   "execution_count": 42,
   "id": "0d6fc635",
   "metadata": {},
   "outputs": [
    {
     "data": {
      "text/plain": [
       "(5270, 8)"
      ]
     },
     "execution_count": 42,
     "metadata": {},
     "output_type": "execute_result"
    }
   ],
   "source": [
    "df.shape"
   ]
  },
  {
   "cell_type": "code",
   "execution_count": 43,
   "id": "8b10e8fa",
   "metadata": {},
   "outputs": [
    {
     "data": {
      "text/plain": [
       "0.2656546489563567"
      ]
     },
     "execution_count": 43,
     "metadata": {},
     "output_type": "execute_result"
    }
   ],
   "source": [
    "data_loss = (df.shape[0]-df_1.shape[0])/df.shape[0]*100\n",
    "data_loss"
   ]
  },
  {
   "cell_type": "markdown",
   "id": "7197e474",
   "metadata": {},
   "source": [
    "0.27% of data loss is incurring after removing outliers using IQR outlier removal method. So the IQR method is slightly better as it is losing the less data from the dataset after removing outliers."
   ]
  },
  {
   "cell_type": "markdown",
   "id": "c63f362b",
   "metadata": {},
   "source": [
    "### Checking the Multicolinearity of variables in the dataframe"
   ]
  },
  {
   "cell_type": "code",
   "execution_count": 44,
   "id": "1180a35d",
   "metadata": {},
   "outputs": [
    {
     "name": "stdout",
     "output_type": "stream",
     "text": [
      "(5256, 7)\n",
      "(5256,)\n"
     ]
    }
   ],
   "source": [
    "x = df_1.drop('Car_Price',axis = 1)\n",
    "y = df_1['Car_Price']\n",
    "print(x.shape)\n",
    "print(y.shape)"
   ]
  },
  {
   "cell_type": "code",
   "execution_count": 45,
   "id": "3a2c7226",
   "metadata": {},
   "outputs": [],
   "source": [
    "from statsmodels.stats.outliers_influence import variance_inflation_factor\n",
    "\n",
    "#User defined function to calculate variance of inflation in dataset.\n",
    "def calc_vif(x):\n",
    "    vif = pd.DataFrame()\n",
    "    vif['Column Name'] = x.columns\n",
    "    vif['VIF Factor'] = [variance_inflation_factor(x.values,i) for i in range(x.shape[1])]\n",
    "    return(vif.sort_values(by ='VIF Factor', ascending = False))"
   ]
  },
  {
   "cell_type": "code",
   "execution_count": 46,
   "id": "d5e8707f",
   "metadata": {},
   "outputs": [
    {
     "data": {
      "text/html": [
       "<div>\n",
       "<style scoped>\n",
       "    .dataframe tbody tr th:only-of-type {\n",
       "        vertical-align: middle;\n",
       "    }\n",
       "\n",
       "    .dataframe tbody tr th {\n",
       "        vertical-align: top;\n",
       "    }\n",
       "\n",
       "    .dataframe thead th {\n",
       "        text-align: right;\n",
       "    }\n",
       "</style>\n",
       "<table border=\"1\" class=\"dataframe\">\n",
       "  <thead>\n",
       "    <tr style=\"text-align: right;\">\n",
       "      <th></th>\n",
       "      <th>Column Name</th>\n",
       "      <th>VIF Factor</th>\n",
       "    </tr>\n",
       "  </thead>\n",
       "  <tbody>\n",
       "    <tr>\n",
       "      <th>1</th>\n",
       "      <td>Kilometers_Driven</td>\n",
       "      <td>1.969853</td>\n",
       "    </tr>\n",
       "    <tr>\n",
       "      <th>0</th>\n",
       "      <td>Manufacturing_Year</td>\n",
       "      <td>1.895681</td>\n",
       "    </tr>\n",
       "    <tr>\n",
       "      <th>4</th>\n",
       "      <td>Fuel_Type</td>\n",
       "      <td>1.181627</td>\n",
       "    </tr>\n",
       "    <tr>\n",
       "      <th>5</th>\n",
       "      <td>No_of_owners</td>\n",
       "      <td>1.119215</td>\n",
       "    </tr>\n",
       "    <tr>\n",
       "      <th>2</th>\n",
       "      <td>Brand</td>\n",
       "      <td>1.039727</td>\n",
       "    </tr>\n",
       "    <tr>\n",
       "      <th>3</th>\n",
       "      <td>Model</td>\n",
       "      <td>1.039615</td>\n",
       "    </tr>\n",
       "    <tr>\n",
       "      <th>6</th>\n",
       "      <td>Location</td>\n",
       "      <td>1.004418</td>\n",
       "    </tr>\n",
       "  </tbody>\n",
       "</table>\n",
       "</div>"
      ],
      "text/plain": [
       "          Column Name  VIF Factor\n",
       "1   Kilometers_Driven    1.969853\n",
       "0  Manufacturing_Year    1.895681\n",
       "4           Fuel_Type    1.181627\n",
       "5        No_of_owners    1.119215\n",
       "2               Brand    1.039727\n",
       "3               Model    1.039615\n",
       "6            Location    1.004418"
      ]
     },
     "execution_count": 46,
     "metadata": {},
     "output_type": "execute_result"
    }
   ],
   "source": [
    "calc_vif(x)"
   ]
  },
  {
   "cell_type": "markdown",
   "id": "b5db7f86",
   "metadata": {},
   "source": [
    "We can see that none of the columns are having variance inflation factor higher than 5. That means there is no or least multicolinearity existing between the variables in the dataset."
   ]
  },
  {
   "cell_type": "code",
   "execution_count": 47,
   "id": "0409c1f6",
   "metadata": {},
   "outputs": [
    {
     "data": {
      "text/html": [
       "<div>\n",
       "<style scoped>\n",
       "    .dataframe tbody tr th:only-of-type {\n",
       "        vertical-align: middle;\n",
       "    }\n",
       "\n",
       "    .dataframe tbody tr th {\n",
       "        vertical-align: top;\n",
       "    }\n",
       "\n",
       "    .dataframe thead th {\n",
       "        text-align: right;\n",
       "    }\n",
       "</style>\n",
       "<table border=\"1\" class=\"dataframe\">\n",
       "  <thead>\n",
       "    <tr style=\"text-align: right;\">\n",
       "      <th></th>\n",
       "      <th>Brand</th>\n",
       "      <th>Model</th>\n",
       "      <th>Manufacturing_Year</th>\n",
       "      <th>Kilometers_Driven</th>\n",
       "      <th>Fuel_Type</th>\n",
       "      <th>No_of_owners</th>\n",
       "      <th>Location</th>\n",
       "      <th>Car_Price</th>\n",
       "    </tr>\n",
       "  </thead>\n",
       "  <tbody>\n",
       "    <tr>\n",
       "      <th>0</th>\n",
       "      <td>28</td>\n",
       "      <td>550</td>\n",
       "      <td>2012.0</td>\n",
       "      <td>58000.0</td>\n",
       "      <td>2</td>\n",
       "      <td>0</td>\n",
       "      <td>363</td>\n",
       "      <td>425000</td>\n",
       "    </tr>\n",
       "    <tr>\n",
       "      <th>1</th>\n",
       "      <td>21</td>\n",
       "      <td>411</td>\n",
       "      <td>2016.0</td>\n",
       "      <td>41000.0</td>\n",
       "      <td>5</td>\n",
       "      <td>0</td>\n",
       "      <td>494</td>\n",
       "      <td>6990000</td>\n",
       "    </tr>\n",
       "    <tr>\n",
       "      <th>2</th>\n",
       "      <td>21</td>\n",
       "      <td>397</td>\n",
       "      <td>2021.0</td>\n",
       "      <td>9700.0</td>\n",
       "      <td>5</td>\n",
       "      <td>0</td>\n",
       "      <td>119</td>\n",
       "      <td>4990000</td>\n",
       "    </tr>\n",
       "    <tr>\n",
       "      <th>3</th>\n",
       "      <td>28</td>\n",
       "      <td>550</td>\n",
       "      <td>2010.0</td>\n",
       "      <td>120000.0</td>\n",
       "      <td>5</td>\n",
       "      <td>0</td>\n",
       "      <td>400</td>\n",
       "      <td>165000</td>\n",
       "    </tr>\n",
       "    <tr>\n",
       "      <th>4</th>\n",
       "      <td>19</td>\n",
       "      <td>574</td>\n",
       "      <td>2016.0</td>\n",
       "      <td>70000.0</td>\n",
       "      <td>0</td>\n",
       "      <td>1</td>\n",
       "      <td>400</td>\n",
       "      <td>395000</td>\n",
       "    </tr>\n",
       "    <tr>\n",
       "      <th>5</th>\n",
       "      <td>30</td>\n",
       "      <td>342</td>\n",
       "      <td>2018.0</td>\n",
       "      <td>11800.0</td>\n",
       "      <td>2</td>\n",
       "      <td>0</td>\n",
       "      <td>370</td>\n",
       "      <td>2129000</td>\n",
       "    </tr>\n",
       "    <tr>\n",
       "      <th>6</th>\n",
       "      <td>24</td>\n",
       "      <td>549</td>\n",
       "      <td>2012.0</td>\n",
       "      <td>72534.0</td>\n",
       "      <td>2</td>\n",
       "      <td>0</td>\n",
       "      <td>367</td>\n",
       "      <td>220000</td>\n",
       "    </tr>\n",
       "    <tr>\n",
       "      <th>7</th>\n",
       "      <td>11</td>\n",
       "      <td>535</td>\n",
       "      <td>2013.0</td>\n",
       "      <td>65000.0</td>\n",
       "      <td>5</td>\n",
       "      <td>0</td>\n",
       "      <td>503</td>\n",
       "      <td>180000</td>\n",
       "    </tr>\n",
       "    <tr>\n",
       "      <th>8</th>\n",
       "      <td>11</td>\n",
       "      <td>323</td>\n",
       "      <td>2011.0</td>\n",
       "      <td>62300.0</td>\n",
       "      <td>1</td>\n",
       "      <td>1</td>\n",
       "      <td>370</td>\n",
       "      <td>221000</td>\n",
       "    </tr>\n",
       "    <tr>\n",
       "      <th>9</th>\n",
       "      <td>30</td>\n",
       "      <td>156</td>\n",
       "      <td>2012.0</td>\n",
       "      <td>47000.0</td>\n",
       "      <td>5</td>\n",
       "      <td>0</td>\n",
       "      <td>370</td>\n",
       "      <td>445000</td>\n",
       "    </tr>\n",
       "  </tbody>\n",
       "</table>\n",
       "</div>"
      ],
      "text/plain": [
       "   Brand  Model  Manufacturing_Year  Kilometers_Driven  Fuel_Type  \\\n",
       "0     28    550              2012.0            58000.0          2   \n",
       "1     21    411              2016.0            41000.0          5   \n",
       "2     21    397              2021.0             9700.0          5   \n",
       "3     28    550              2010.0           120000.0          5   \n",
       "4     19    574              2016.0            70000.0          0   \n",
       "5     30    342              2018.0            11800.0          2   \n",
       "6     24    549              2012.0            72534.0          2   \n",
       "7     11    535              2013.0            65000.0          5   \n",
       "8     11    323              2011.0            62300.0          1   \n",
       "9     30    156              2012.0            47000.0          5   \n",
       "\n",
       "   No_of_owners  Location  Car_Price  \n",
       "0             0       363     425000  \n",
       "1             0       494    6990000  \n",
       "2             0       119    4990000  \n",
       "3             0       400     165000  \n",
       "4             1       400     395000  \n",
       "5             0       370    2129000  \n",
       "6             0       367     220000  \n",
       "7             0       503     180000  \n",
       "8             1       370     221000  \n",
       "9             0       370     445000  "
      ]
     },
     "execution_count": 47,
     "metadata": {},
     "output_type": "execute_result"
    }
   ],
   "source": [
    "#Final Dataset\n",
    "data.head(10)"
   ]
  },
  {
   "cell_type": "markdown",
   "id": "9a6a9609",
   "metadata": {},
   "source": [
    "### EDA Completed"
   ]
  },
  {
   "cell_type": "markdown",
   "id": "1ae7f585",
   "metadata": {},
   "source": [
    "### Building the Model"
   ]
  },
  {
   "cell_type": "markdown",
   "id": "7cc98765",
   "metadata": {},
   "source": [
    "#### Splitting the data into features and target"
   ]
  },
  {
   "cell_type": "code",
   "execution_count": 201,
   "id": "3af6a3d2",
   "metadata": {},
   "outputs": [
    {
     "name": "stdout",
     "output_type": "stream",
     "text": [
      "(5256, 7)\n",
      "(5256,)\n"
     ]
    }
   ],
   "source": [
    "features = x.copy()\n",
    "target = y.copy()\n",
    "print(features.shape)\n",
    "print(target.shape)"
   ]
  },
  {
   "cell_type": "code",
   "execution_count": 202,
   "id": "b7500bed",
   "metadata": {},
   "outputs": [],
   "source": [
    "from sklearn.linear_model import LinearRegression\n",
    "from sklearn.neighbors import KNeighborsRegressor\n",
    "from sklearn.svm import SVR\n",
    "from sklearn.tree import DecisionTreeRegressor\n",
    "from sklearn.ensemble import RandomForestRegressor\n",
    "from sklearn.ensemble import AdaBoostRegressor\n",
    "from sklearn.ensemble import GradientBoostingRegressor\n",
    "from sklearn.ensemble import VotingRegressor\n",
    "from sklearn.linear_model import SGDRegressor\n",
    "from sklearn.ensemble import ExtraTreesRegressor\n",
    "from xgboost import XGBRegressor\n",
    "from catboost import CatBoostRegressor\n",
    "from lightgbm import LGBMRegressor\n",
    "\n",
    "from sklearn.metrics import mean_squared_error,mean_absolute_error, r2_score\n",
    "\n",
    "from sklearn.linear_model import Lasso,Ridge,ElasticNet  #Reguralization technique\n",
    "\n",
    "from sklearn.model_selection import train_test_split"
   ]
  },
  {
   "cell_type": "code",
   "execution_count": 203,
   "id": "e39f6a9e",
   "metadata": {},
   "outputs": [],
   "source": [
    "lr = LinearRegression()\n",
    "knn = KNeighborsRegressor()\n",
    "svr = SVR()\n",
    "dtr = DecisionTreeRegressor()\n",
    "rfr = RandomForestRegressor(n_estimators=100)\n",
    "abr = AdaBoostRegressor()\n",
    "gbr = GradientBoostingRegressor()\n",
    "estimator = [('LR', LinearRegression()),\n",
    "             ('KNN',KNeighborsRegressor()),\n",
    "             ('SVR', SVR(gamma='auto')),\n",
    "             ('DTR',DecisionTreeRegressor()),\n",
    "             ('RFR',RandomForestRegressor(n_estimators=100))]\n",
    "vtr = VotingRegressor(estimators=estimator)\n",
    "sgd = SGDRegressor()\n",
    "etr = ExtraTreesRegressor()\n",
    "xgb = XGBRegressor()\n",
    "lgbmr = LGBMRegressor()\n",
    "cbr = CatBoostRegressor(verbose=0, n_estimators=100)"
   ]
  },
  {
   "cell_type": "markdown",
   "id": "c13ffb25",
   "metadata": {},
   "source": [
    "#### Finding the best random_state"
   ]
  },
  {
   "cell_type": "code",
   "execution_count": 204,
   "id": "5f8aec13",
   "metadata": {},
   "outputs": [],
   "source": [
    "#User defined function for finding the best random state\n",
    "def best_ran(model):\n",
    "    maxacc = 0\n",
    "    maxrs = 0\n",
    "    print(model)\n",
    "    for i in range(1,100):\n",
    "        features_train, features_test,target_train,target_test= train_test_split(features,target,test_size = 0.20, random_state = i)\n",
    "        model.fit(features_train,target_train)\n",
    "        pred_test = model.predict(features_test)\n",
    "        acc = r2_score(target_test,pred_test)\n",
    "        if acc>maxacc:\n",
    "            maxacc = acc\n",
    "            maxrs = i\n",
    "    print(\"At random state \", maxrs, 'the model is having r2 score of ', maxacc)"
   ]
  },
  {
   "cell_type": "code",
   "execution_count": 205,
   "id": "bcd9a6cb",
   "metadata": {},
   "outputs": [],
   "source": [
    "#User defined Function for training and testing the model with best random state\n",
    "\n",
    "def mod_test(model, ran):\n",
    "    model\n",
    "    print(model)\n",
    "    features_train, features_test, target_train, target_test = train_test_split(features,target,test_size = 0.20, random_state = ran)\n",
    "    model.fit(features_train,target_train)\n",
    "    pred_test = model.predict(features_test)\n",
    "    acc = r2_score(target_test,pred_test)\n",
    "    mse = mean_squared_error(target_test,pred_test)\n",
    "    mae = mean_absolute_error(target_test,pred_test)\n",
    "    print(\"R2 score is \", acc)\n",
    "    print(\"_\"*50)\n",
    "    print(\"Mean Sqaured Error is \",mse)\n",
    "    print(\"_\"*50)\n",
    "    print(\"Mean Absolute Error is \",mae)\n",
    "    print(\"_\"*50)"
   ]
  },
  {
   "cell_type": "markdown",
   "id": "3705371b",
   "metadata": {},
   "source": [
    "#### LinearRegression"
   ]
  },
  {
   "cell_type": "code",
   "execution_count": 206,
   "id": "db103a98",
   "metadata": {},
   "outputs": [
    {
     "name": "stdout",
     "output_type": "stream",
     "text": [
      "LinearRegression()\n",
      "At random state  66 the model is having r2 score of  0.21066168609496627\n"
     ]
    }
   ],
   "source": [
    "best_ran(lr)"
   ]
  },
  {
   "cell_type": "code",
   "execution_count": 207,
   "id": "2b80da93",
   "metadata": {},
   "outputs": [
    {
     "name": "stdout",
     "output_type": "stream",
     "text": [
      "LinearRegression()\n",
      "R2 score is  0.21066168609496627\n",
      "__________________________________________________\n",
      "Mean Sqaured Error is  326251664014.75555\n",
      "__________________________________________________\n",
      "Mean Absolute Error is  323945.9220677433\n",
      "__________________________________________________\n",
      "Coefficent is  [ 234187.48211548  -59570.3871517   -59721.46345499  -11100.88281393\n",
      " -196499.72134502   -1578.5804679   -29098.09988618]\n",
      "__________________________________________________\n",
      "Intercept is  756121.2168566744\n",
      "__________________________________________________\n"
     ]
    }
   ],
   "source": [
    "mod_test(lr,66)\n",
    "print(\"Coefficent is \",lr.coef_)\n",
    "print(\"_\"*50)\n",
    "print(\"Intercept is \",lr.intercept_)\n",
    "print(\"_\"*50)"
   ]
  },
  {
   "cell_type": "markdown",
   "id": "add0a6e8",
   "metadata": {},
   "source": [
    "#### KNeighborsRegressor"
   ]
  },
  {
   "cell_type": "code",
   "execution_count": 208,
   "id": "1ae0b34a",
   "metadata": {},
   "outputs": [
    {
     "name": "stdout",
     "output_type": "stream",
     "text": [
      "KNeighborsRegressor()\n",
      "At random state  26 the model is having r2 score of  0.4090443620841965\n"
     ]
    }
   ],
   "source": [
    "best_ran(knn)"
   ]
  },
  {
   "cell_type": "code",
   "execution_count": 221,
   "id": "76608972",
   "metadata": {},
   "outputs": [
    {
     "name": "stdout",
     "output_type": "stream",
     "text": [
      "KNeighborsRegressor()\n",
      "R2 score is  0.4090443620841965\n",
      "__________________________________________________\n",
      "Mean Sqaured Error is  374620221232.4312\n",
      "__________________________________________________\n",
      "Mean Absolute Error is  263980.9536121673\n",
      "__________________________________________________\n"
     ]
    }
   ],
   "source": [
    "mod_test(knn,26)"
   ]
  },
  {
   "cell_type": "markdown",
   "id": "17eac635",
   "metadata": {},
   "source": [
    "#### SVR"
   ]
  },
  {
   "cell_type": "code",
   "execution_count": 209,
   "id": "2fc034a7",
   "metadata": {},
   "outputs": [
    {
     "name": "stdout",
     "output_type": "stream",
     "text": [
      "SVR()\n",
      "At random state  0 the model is having r2 score of  0\n"
     ]
    }
   ],
   "source": [
    "best_ran(svr)"
   ]
  },
  {
   "cell_type": "code",
   "execution_count": 222,
   "id": "67f9a5cb",
   "metadata": {},
   "outputs": [
    {
     "name": "stdout",
     "output_type": "stream",
     "text": [
      "SVR()\n",
      "R2 score is  -0.06913890396706468\n",
      "__________________________________________________\n",
      "Mean Sqaured Error is  537242481280.7603\n",
      "__________________________________________________\n",
      "Mean Absolute Error is  359496.7729457244\n",
      "__________________________________________________\n"
     ]
    }
   ],
   "source": [
    "mod_test(svr,0)"
   ]
  },
  {
   "cell_type": "markdown",
   "id": "7dcb807f",
   "metadata": {},
   "source": [
    "#### DecisionTreeRegressor"
   ]
  },
  {
   "cell_type": "code",
   "execution_count": 210,
   "id": "7e7aa16d",
   "metadata": {},
   "outputs": [
    {
     "name": "stdout",
     "output_type": "stream",
     "text": [
      "DecisionTreeRegressor()\n",
      "At random state  37 the model is having r2 score of  0.7459443872436762\n"
     ]
    }
   ],
   "source": [
    "best_ran(dtr)"
   ]
  },
  {
   "cell_type": "code",
   "execution_count": 224,
   "id": "9668408d",
   "metadata": {},
   "outputs": [
    {
     "name": "stdout",
     "output_type": "stream",
     "text": [
      "DecisionTreeRegressor()\n",
      "R2 score is  0.7759687145668503\n",
      "__________________________________________________\n",
      "Mean Sqaured Error is  149824305000.84625\n",
      "__________________________________________________\n",
      "Mean Absolute Error is  139068.56511406845\n",
      "__________________________________________________\n"
     ]
    }
   ],
   "source": [
    "mod_test(dtr,37)"
   ]
  },
  {
   "cell_type": "markdown",
   "id": "18c318f3",
   "metadata": {},
   "source": [
    "#### RandomForestRegressor"
   ]
  },
  {
   "cell_type": "code",
   "execution_count": 211,
   "id": "84097d9a",
   "metadata": {},
   "outputs": [
    {
     "name": "stdout",
     "output_type": "stream",
     "text": [
      "RandomForestRegressor()\n",
      "At random state  37 the model is having r2 score of  0.7715769660146176\n"
     ]
    }
   ],
   "source": [
    "best_ran(rfr)"
   ]
  },
  {
   "cell_type": "code",
   "execution_count": 225,
   "id": "dd27c112",
   "metadata": {},
   "outputs": [
    {
     "name": "stdout",
     "output_type": "stream",
     "text": [
      "RandomForestRegressor()\n",
      "R2 score is  0.764982505928804\n",
      "__________________________________________________\n",
      "Mean Sqaured Error is  157171497919.04587\n",
      "__________________________________________________\n",
      "Mean Absolute Error is  145309.61674139957\n",
      "__________________________________________________\n"
     ]
    }
   ],
   "source": [
    "mod_test(rfr,37)"
   ]
  },
  {
   "cell_type": "markdown",
   "id": "a28eeed3",
   "metadata": {},
   "source": [
    "#### AdaBoostRegressor"
   ]
  },
  {
   "cell_type": "code",
   "execution_count": 212,
   "id": "87a60344",
   "metadata": {},
   "outputs": [
    {
     "name": "stdout",
     "output_type": "stream",
     "text": [
      "AdaBoostRegressor()\n",
      "At random state  87 the model is having r2 score of  0.258378499280712\n"
     ]
    }
   ],
   "source": [
    "best_ran(abr)"
   ]
  },
  {
   "cell_type": "code",
   "execution_count": 226,
   "id": "7d533e94",
   "metadata": {},
   "outputs": [
    {
     "name": "stdout",
     "output_type": "stream",
     "text": [
      "AdaBoostRegressor()\n",
      "R2 score is  -2.1021601579204146\n",
      "__________________________________________________\n",
      "Mean Sqaured Error is  2707485409214.28\n",
      "__________________________________________________\n",
      "Mean Absolute Error is  1442204.2423792903\n",
      "__________________________________________________\n"
     ]
    }
   ],
   "source": [
    "mod_test(abr,87)"
   ]
  },
  {
   "cell_type": "markdown",
   "id": "d32d4d2a",
   "metadata": {},
   "source": [
    "#### GradientBoostingRegressor"
   ]
  },
  {
   "cell_type": "code",
   "execution_count": 213,
   "id": "928b4b0e",
   "metadata": {},
   "outputs": [
    {
     "name": "stdout",
     "output_type": "stream",
     "text": [
      "GradientBoostingRegressor()\n",
      "At random state  43 the model is having r2 score of  0.7815085177129121\n"
     ]
    }
   ],
   "source": [
    "best_ran(gbr)"
   ]
  },
  {
   "cell_type": "code",
   "execution_count": 227,
   "id": "a1552fc8",
   "metadata": {},
   "outputs": [
    {
     "name": "stdout",
     "output_type": "stream",
     "text": [
      "GradientBoostingRegressor()\n",
      "R2 score is  0.776501770547781\n",
      "__________________________________________________\n",
      "Mean Sqaured Error is  116368983490.30432\n",
      "__________________________________________________\n",
      "Mean Absolute Error is  181955.74393948444\n",
      "__________________________________________________\n"
     ]
    }
   ],
   "source": [
    "mod_test(gbr,43)"
   ]
  },
  {
   "cell_type": "markdown",
   "id": "ed4220d9",
   "metadata": {},
   "source": [
    "#### VotingRegressor"
   ]
  },
  {
   "cell_type": "code",
   "execution_count": 214,
   "id": "ef0d88b8",
   "metadata": {},
   "outputs": [
    {
     "name": "stdout",
     "output_type": "stream",
     "text": [
      "VotingRegressor(estimators=[('LR', LinearRegression()),\n",
      "                            ('KNN', KNeighborsRegressor()),\n",
      "                            ('SVR', SVR(gamma='auto')),\n",
      "                            ('DTR', DecisionTreeRegressor()),\n",
      "                            ('RFR', RandomForestRegressor())])\n",
      "At random state  66 the model is having r2 score of  0.6361945881738365\n"
     ]
    }
   ],
   "source": [
    "best_ran(vtr)"
   ]
  },
  {
   "cell_type": "code",
   "execution_count": 228,
   "id": "c1cbdbaa",
   "metadata": {},
   "outputs": [
    {
     "name": "stdout",
     "output_type": "stream",
     "text": [
      "VotingRegressor(estimators=[('LR', LinearRegression()),\n",
      "                            ('KNN', KNeighborsRegressor()),\n",
      "                            ('SVR', SVR(gamma='auto')),\n",
      "                            ('DTR', DecisionTreeRegressor()),\n",
      "                            ('RFR', RandomForestRegressor())])\n",
      "R2 score is  0.6321637503733089\n",
      "__________________________________________________\n",
      "Mean Sqaured Error is  152035174793.36902\n",
      "__________________________________________________\n",
      "Mean Absolute Error is  190755.73064852043\n",
      "__________________________________________________\n"
     ]
    }
   ],
   "source": [
    "mod_test(vtr,66)"
   ]
  },
  {
   "cell_type": "markdown",
   "id": "ce3b8521",
   "metadata": {},
   "source": [
    "#### SGDRegressor"
   ]
  },
  {
   "cell_type": "code",
   "execution_count": 215,
   "id": "0cbbdfb8",
   "metadata": {},
   "outputs": [
    {
     "name": "stdout",
     "output_type": "stream",
     "text": [
      "SGDRegressor()\n",
      "At random state  66 the model is having r2 score of  0.20715106149005058\n"
     ]
    }
   ],
   "source": [
    "best_ran(sgd)"
   ]
  },
  {
   "cell_type": "code",
   "execution_count": 230,
   "id": "7d97c91e",
   "metadata": {},
   "outputs": [
    {
     "name": "stdout",
     "output_type": "stream",
     "text": [
      "SGDRegressor()\n",
      "R2 score is  0.20569494185224724\n",
      "__________________________________________________\n",
      "Mean Sqaured Error is  328304533545.32\n",
      "__________________________________________________\n",
      "Mean Absolute Error is  325932.2412418101\n",
      "__________________________________________________\n"
     ]
    }
   ],
   "source": [
    "mod_test(sgd,66)"
   ]
  },
  {
   "cell_type": "markdown",
   "id": "8f3f5350",
   "metadata": {},
   "source": [
    "#### ExtraTreesRegressor"
   ]
  },
  {
   "cell_type": "code",
   "execution_count": 216,
   "id": "347fccaf",
   "metadata": {},
   "outputs": [
    {
     "name": "stdout",
     "output_type": "stream",
     "text": [
      "ExtraTreesRegressor()\n",
      "At random state  8 the model is having r2 score of  0.7075709206049032\n"
     ]
    }
   ],
   "source": [
    "best_ran(etr)"
   ]
  },
  {
   "cell_type": "code",
   "execution_count": 231,
   "id": "680dbb6d",
   "metadata": {},
   "outputs": [
    {
     "name": "stdout",
     "output_type": "stream",
     "text": [
      "ExtraTreesRegressor()\n",
      "R2 score is  0.7101048210956727\n",
      "__________________________________________________\n",
      "Mean Sqaured Error is  138832115516.93463\n",
      "__________________________________________________\n",
      "Mean Absolute Error is  149806.30393536124\n",
      "__________________________________________________\n"
     ]
    }
   ],
   "source": [
    "mod_test(etr,8)"
   ]
  },
  {
   "cell_type": "markdown",
   "id": "3d8eeb1d",
   "metadata": {},
   "source": [
    "#### XGBRegressor"
   ]
  },
  {
   "cell_type": "code",
   "execution_count": 217,
   "id": "ce34f336",
   "metadata": {},
   "outputs": [
    {
     "name": "stdout",
     "output_type": "stream",
     "text": [
      "XGBRegressor(base_score=None, booster=None, callbacks=None,\n",
      "             colsample_bylevel=None, colsample_bynode=None,\n",
      "             colsample_bytree=None, early_stopping_rounds=None,\n",
      "             enable_categorical=False, eval_metric=None, gamma=None,\n",
      "             gpu_id=None, grow_policy=None, importance_type=None,\n",
      "             interaction_constraints=None, learning_rate=None, max_bin=None,\n",
      "             max_cat_to_onehot=None, max_delta_step=None, max_depth=None,\n",
      "             max_leaves=None, min_child_weight=None, missing=nan,\n",
      "             monotone_constraints=None, n_estimators=100, n_jobs=None,\n",
      "             num_parallel_tree=None, predictor=None, random_state=None,\n",
      "             reg_alpha=None, reg_lambda=None, ...)\n",
      "At random state  37 the model is having r2 score of  0.8497629094009553\n"
     ]
    }
   ],
   "source": [
    "best_ran(xgb)"
   ]
  },
  {
   "cell_type": "code",
   "execution_count": 232,
   "id": "66b84256",
   "metadata": {},
   "outputs": [
    {
     "name": "stdout",
     "output_type": "stream",
     "text": [
      "XGBRegressor(base_score=0.5, booster='gbtree', callbacks=None,\n",
      "             colsample_bylevel=1, colsample_bynode=1, colsample_bytree=1,\n",
      "             early_stopping_rounds=None, enable_categorical=False,\n",
      "             eval_metric=None, gamma=0, gpu_id=-1, grow_policy='depthwise',\n",
      "             importance_type=None, interaction_constraints='',\n",
      "             learning_rate=0.300000012, max_bin=256, max_cat_to_onehot=4,\n",
      "             max_delta_step=0, max_depth=6, max_leaves=0, min_child_weight=1,\n",
      "             missing=nan, monotone_constraints='()', n_estimators=100, n_jobs=0,\n",
      "             num_parallel_tree=1, predictor='auto', random_state=0, reg_alpha=0,\n",
      "             reg_lambda=1, ...)\n",
      "R2 score is  0.8497629094009553\n",
      "__________________________________________________\n",
      "Mean Sqaured Error is  100473322914.83778\n",
      "__________________________________________________\n",
      "Mean Absolute Error is  131714.07818812382\n",
      "__________________________________________________\n"
     ]
    }
   ],
   "source": [
    "mod_test(xgb,37)"
   ]
  },
  {
   "cell_type": "markdown",
   "id": "ed8afafb",
   "metadata": {},
   "source": [
    "#### LGBMRegressor"
   ]
  },
  {
   "cell_type": "code",
   "execution_count": 218,
   "id": "817af59d",
   "metadata": {},
   "outputs": [
    {
     "name": "stdout",
     "output_type": "stream",
     "text": [
      "LGBMRegressor()\n",
      "At random state  16 the model is having r2 score of  0.7442745416456197\n"
     ]
    }
   ],
   "source": [
    "best_ran(lgbmr)"
   ]
  },
  {
   "cell_type": "code",
   "execution_count": 233,
   "id": "71d601c2",
   "metadata": {},
   "outputs": [
    {
     "name": "stdout",
     "output_type": "stream",
     "text": [
      "LGBMRegressor()\n",
      "R2 score is  0.7442745416456197\n",
      "__________________________________________________\n",
      "Mean Sqaured Error is  147486655203.0439\n",
      "__________________________________________________\n",
      "Mean Absolute Error is  169259.84922841046\n",
      "__________________________________________________\n"
     ]
    }
   ],
   "source": [
    "mod_test(lgbmr,16)"
   ]
  },
  {
   "cell_type": "markdown",
   "id": "7e885ddd",
   "metadata": {},
   "source": [
    "#### CatBoostRegressor"
   ]
  },
  {
   "cell_type": "code",
   "execution_count": 219,
   "id": "47d802a2",
   "metadata": {},
   "outputs": [
    {
     "name": "stdout",
     "output_type": "stream",
     "text": [
      "<catboost.core.CatBoostRegressor object at 0x0000017B27884220>\n",
      "At random state  70 the model is having r2 score of  0.8336599047513329\n"
     ]
    }
   ],
   "source": [
    "best_ran(cbr)"
   ]
  },
  {
   "cell_type": "code",
   "execution_count": 234,
   "id": "28506977",
   "metadata": {},
   "outputs": [
    {
     "name": "stdout",
     "output_type": "stream",
     "text": [
      "<catboost.core.CatBoostRegressor object at 0x0000017B27884220>\n",
      "R2 score is  0.8336599047513329\n",
      "__________________________________________________\n",
      "Mean Sqaured Error is  113907699752.28934\n",
      "__________________________________________________\n",
      "Mean Absolute Error is  159444.29946298062\n",
      "__________________________________________________\n"
     ]
    }
   ],
   "source": [
    "mod_test(cbr,70)"
   ]
  },
  {
   "cell_type": "markdown",
   "id": "b2e7e3d2",
   "metadata": {},
   "source": [
    "After testing the data with the regression algorithms, the ensemble methods are performing well and providing the best R2 Score. Out of that the XGBoost model(xgb) is providing the best R2 Score of 84.98%"
   ]
  },
  {
   "cell_type": "markdown",
   "id": "5e5676dd",
   "metadata": {},
   "source": [
    "Now let's check the cross validation for each model to find tbe best performing model."
   ]
  },
  {
   "cell_type": "markdown",
   "id": "c6c5f936",
   "metadata": {},
   "source": [
    "### Cross Validation"
   ]
  },
  {
   "cell_type": "code",
   "execution_count": 235,
   "id": "2750ee6a",
   "metadata": {},
   "outputs": [],
   "source": [
    "#User defined function for checking cross validation for each model\n",
    "from sklearn.model_selection import cross_val_score\n",
    "\n",
    "def cross_val(model,ran):    #ran = random_state\n",
    "    cv_mean = 0\n",
    "    cv_fold = 0\n",
    "    features_train, features_test, target_train, target_test = train_test_split(features,target,test_size = 0.20, random_state = ran)\n",
    "    model.fit(features_train,target_train)\n",
    "    pred_test = model.predict(features_test)\n",
    "    for j in range(2,10):\n",
    "        cv_score = cross_val_score(model,features, target, cv = j)\n",
    "        a =cv_score.mean()\n",
    "        if a>cv_mean:\n",
    "            cv_mean = a\n",
    "            cv_fold = j\n",
    "    print(model)\n",
    "    print(\"At cv fold\",cv_fold,\" the cv score is \", cv_mean, \"and the R2 score  is \",r2_score(target_test,pred_test))"
   ]
  },
  {
   "cell_type": "markdown",
   "id": "75a587ea",
   "metadata": {},
   "source": [
    "#### LinearRegression"
   ]
  },
  {
   "cell_type": "code",
   "execution_count": 236,
   "id": "0b566a55",
   "metadata": {},
   "outputs": [
    {
     "name": "stdout",
     "output_type": "stream",
     "text": [
      "LinearRegression()\n",
      "At cv fold 7  the cv score is  0.1602592086826202 and the R2 score  is  0.21066168609496627\n"
     ]
    }
   ],
   "source": [
    "cross_val(lr,66)"
   ]
  },
  {
   "cell_type": "markdown",
   "id": "fc14eaa6",
   "metadata": {},
   "source": [
    "#### KNeighborsRegressor"
   ]
  },
  {
   "cell_type": "code",
   "execution_count": 237,
   "id": "c50f0f73",
   "metadata": {},
   "outputs": [
    {
     "name": "stdout",
     "output_type": "stream",
     "text": [
      "KNeighborsRegressor()\n",
      "At cv fold 6  the cv score is  0.06286766980008612 and the R2 score  is  0.4090443620841965\n"
     ]
    }
   ],
   "source": [
    "cross_val(knn,26)"
   ]
  },
  {
   "cell_type": "markdown",
   "id": "079e64fd",
   "metadata": {},
   "source": [
    "#### SVR"
   ]
  },
  {
   "cell_type": "code",
   "execution_count": 238,
   "id": "aa82cfea",
   "metadata": {},
   "outputs": [
    {
     "name": "stdout",
     "output_type": "stream",
     "text": [
      "SVR()\n",
      "At cv fold 0  the cv score is  0 and the R2 score  is  -0.06913890396706468\n"
     ]
    }
   ],
   "source": [
    "cross_val(svr,0)"
   ]
  },
  {
   "cell_type": "markdown",
   "id": "9d8ac47e",
   "metadata": {},
   "source": [
    "#### DecisionTreeRegressor"
   ]
  },
  {
   "cell_type": "code",
   "execution_count": 239,
   "id": "01133d6f",
   "metadata": {},
   "outputs": [
    {
     "name": "stdout",
     "output_type": "stream",
     "text": [
      "DecisionTreeRegressor()\n",
      "At cv fold 0  the cv score is  0 and the R2 score  is  0.7638812386427065\n"
     ]
    }
   ],
   "source": [
    "cross_val(dtr,37)"
   ]
  },
  {
   "cell_type": "markdown",
   "id": "d75ecbe1",
   "metadata": {},
   "source": [
    "#### RandomForestRegressor"
   ]
  },
  {
   "cell_type": "code",
   "execution_count": 240,
   "id": "b1d97c02",
   "metadata": {},
   "outputs": [
    {
     "name": "stdout",
     "output_type": "stream",
     "text": [
      "RandomForestRegressor()\n",
      "At cv fold 8  the cv score is  0.23267864095587695 and the R2 score  is  0.7813948565775681\n"
     ]
    }
   ],
   "source": [
    "cross_val(rfr,37)"
   ]
  },
  {
   "cell_type": "markdown",
   "id": "6b5820ca",
   "metadata": {},
   "source": [
    "#### AdaBoostRegressor"
   ]
  },
  {
   "cell_type": "code",
   "execution_count": 241,
   "id": "10ae3699",
   "metadata": {},
   "outputs": [
    {
     "name": "stdout",
     "output_type": "stream",
     "text": [
      "AdaBoostRegressor()\n",
      "At cv fold 0  the cv score is  0 and the R2 score  is  -1.5142886069794743\n"
     ]
    }
   ],
   "source": [
    "cross_val(abr,87)"
   ]
  },
  {
   "cell_type": "markdown",
   "id": "7b9ccd57",
   "metadata": {},
   "source": [
    "#### GradientBoostingRegressor"
   ]
  },
  {
   "cell_type": "code",
   "execution_count": 242,
   "id": "b58994ba",
   "metadata": {},
   "outputs": [
    {
     "name": "stdout",
     "output_type": "stream",
     "text": [
      "GradientBoostingRegressor()\n",
      "At cv fold 9  the cv score is  0.38589722085427625 and the R2 score  is  0.7843173363863506\n"
     ]
    }
   ],
   "source": [
    "cross_val(gbr,43)"
   ]
  },
  {
   "cell_type": "markdown",
   "id": "16b41d4b",
   "metadata": {},
   "source": [
    "#### VotingRegressor"
   ]
  },
  {
   "cell_type": "code",
   "execution_count": 243,
   "id": "e4c47aa5",
   "metadata": {},
   "outputs": [
    {
     "name": "stdout",
     "output_type": "stream",
     "text": [
      "VotingRegressor(estimators=[('LR', LinearRegression()),\n",
      "                            ('KNN', KNeighborsRegressor()),\n",
      "                            ('SVR', SVR(gamma='auto')),\n",
      "                            ('DTR', DecisionTreeRegressor()),\n",
      "                            ('RFR', RandomForestRegressor())])\n",
      "At cv fold 6  the cv score is  0.4911523166557685 and the R2 score  is  0.6396968402159033\n"
     ]
    }
   ],
   "source": [
    "cross_val(vtr,66)"
   ]
  },
  {
   "cell_type": "markdown",
   "id": "031477a7",
   "metadata": {},
   "source": [
    "#### SGDRegressor"
   ]
  },
  {
   "cell_type": "code",
   "execution_count": 244,
   "id": "5a31cc75",
   "metadata": {},
   "outputs": [
    {
     "name": "stdout",
     "output_type": "stream",
     "text": [
      "SGDRegressor()\n",
      "At cv fold 7  the cv score is  0.17142521509148537 and the R2 score  is  0.21093491106151396\n"
     ]
    }
   ],
   "source": [
    "cross_val(sgd,66)"
   ]
  },
  {
   "cell_type": "markdown",
   "id": "f38b6ea9",
   "metadata": {},
   "source": [
    "#### ExtraTreesRegressor"
   ]
  },
  {
   "cell_type": "code",
   "execution_count": 245,
   "id": "728d8777",
   "metadata": {},
   "outputs": [
    {
     "name": "stdout",
     "output_type": "stream",
     "text": [
      "ExtraTreesRegressor()\n",
      "At cv fold 8  the cv score is  0.223767983819791 and the R2 score  is  0.7168263341404635\n"
     ]
    }
   ],
   "source": [
    "cross_val(etr,8)"
   ]
  },
  {
   "cell_type": "markdown",
   "id": "d9b65eb1",
   "metadata": {},
   "source": [
    "#### XGBRegressor"
   ]
  },
  {
   "cell_type": "code",
   "execution_count": 246,
   "id": "838b2716",
   "metadata": {},
   "outputs": [
    {
     "name": "stdout",
     "output_type": "stream",
     "text": [
      "XGBRegressor(base_score=0.5, booster='gbtree', callbacks=None,\n",
      "             colsample_bylevel=1, colsample_bynode=1, colsample_bytree=1,\n",
      "             early_stopping_rounds=None, enable_categorical=False,\n",
      "             eval_metric=None, gamma=0, gpu_id=-1, grow_policy='depthwise',\n",
      "             importance_type=None, interaction_constraints='',\n",
      "             learning_rate=0.300000012, max_bin=256, max_cat_to_onehot=4,\n",
      "             max_delta_step=0, max_depth=6, max_leaves=0, min_child_weight=1,\n",
      "             missing=nan, monotone_constraints='()', n_estimators=100, n_jobs=0,\n",
      "             num_parallel_tree=1, predictor='auto', random_state=0, reg_alpha=0,\n",
      "             reg_lambda=1, ...)\n",
      "At cv fold 8  the cv score is  0.4693459414674942 and the R2 score  is  0.8497629094009553\n"
     ]
    }
   ],
   "source": [
    "cross_val(xgb,37)"
   ]
  },
  {
   "cell_type": "markdown",
   "id": "672f05a5",
   "metadata": {},
   "source": [
    "#### LGBMRegressor"
   ]
  },
  {
   "cell_type": "code",
   "execution_count": 247,
   "id": "ad17a9a7",
   "metadata": {},
   "outputs": [
    {
     "name": "stdout",
     "output_type": "stream",
     "text": [
      "LGBMRegressor()\n",
      "At cv fold 9  the cv score is  0.4218253298532209 and the R2 score  is  0.7442745416456197\n"
     ]
    }
   ],
   "source": [
    "cross_val(lgbmr,16)"
   ]
  },
  {
   "cell_type": "markdown",
   "id": "8f8cdedb",
   "metadata": {},
   "source": [
    "#### CatBoostRegressor"
   ]
  },
  {
   "cell_type": "code",
   "execution_count": 248,
   "id": "1e8a2162",
   "metadata": {},
   "outputs": [
    {
     "name": "stdout",
     "output_type": "stream",
     "text": [
      "<catboost.core.CatBoostRegressor object at 0x0000017B27884220>\n",
      "At cv fold 6  the cv score is  0.5064668304560532 and the R2 score  is  0.8336599047513329\n"
     ]
    }
   ],
   "source": [
    "cross_val(cbr,70)"
   ]
  },
  {
   "cell_type": "markdown",
   "id": "7872918a",
   "metadata": {},
   "source": [
    "After tsting the several algorithms and cross validations. the ensemble method,  XGBoost Regressor model(xgb) and CatBoostRegressor model(cbr) are performing well by providing the best score."
   ]
  },
  {
   "cell_type": "markdown",
   "id": "51705d1a",
   "metadata": {},
   "source": [
    "### The XGBoost Regressor model(xgb) is providing an R2 Score of 84.98% with 46.93% cross validation mean score for 8 cross validations. While the CatBoost Regressor(cbr) is providing an R2 Score of 83.37% with 50.65% cross validation mean score for 6 cross validations.  So we can consider the xgb and cbr models as the best performing models."
   ]
  },
  {
   "cell_type": "markdown",
   "id": "a32da6e8",
   "metadata": {},
   "source": [
    "#### XGBoost Regressor"
   ]
  },
  {
   "cell_type": "code",
   "execution_count": 249,
   "id": "d164a15f",
   "metadata": {},
   "outputs": [
    {
     "name": "stdout",
     "output_type": "stream",
     "text": [
      "At cv fold 8  the cv score is  0.4693459414674942 and the R2 score  is  0.8497629094009553\n"
     ]
    }
   ],
   "source": [
    "xgb = XGBRegressor()\n",
    "features_train, features_test,target_train,target_test = train_test_split(features, target, test_size = 0.20, random_state=37)\n",
    "xgb.fit(features_train, target_train)\n",
    "pred_test_xgb = xgb.predict(features_test)\n",
    "\n",
    "cv_score = cross_val_score(xgb,features, target, cv = 8)\n",
    "cv_mean =cv_score.mean()\n",
    "print(\"At cv fold\",8,\" the cv score is \", cv_mean, \"and the R2 score  is \",r2_score(target_test,pred_test_xgb))"
   ]
  },
  {
   "cell_type": "markdown",
   "id": "0f15287f",
   "metadata": {},
   "source": [
    "#### CatBoost Regressor"
   ]
  },
  {
   "cell_type": "code",
   "execution_count": 250,
   "id": "e8a3ada6",
   "metadata": {},
   "outputs": [
    {
     "name": "stdout",
     "output_type": "stream",
     "text": [
      "At cv fold 6  the cv score is  0.5064668304560532 and the R2 score  is  0.8336599047513329\n"
     ]
    }
   ],
   "source": [
    "cbr = CatBoostRegressor(verbose = 0, n_estimators=100)\n",
    "features_train, features_test,target_train,target_test = train_test_split(features, target, test_size = 0.20, random_state=70)\n",
    "cbr.fit(features_train, target_train)\n",
    "pred_test_cbr = cbr.predict(features_test)\n",
    "\n",
    "cv_score = cross_val_score(cbr,features, target, cv = 6)\n",
    "cv_mean =cv_score.mean()\n",
    "print(\"At cv fold\",6,\" the cv score is \", cv_mean, \"and the R2 score  is \",r2_score(target_test,pred_test_cbr))"
   ]
  },
  {
   "cell_type": "markdown",
   "id": "0f17e1be",
   "metadata": {},
   "source": [
    "### Regularization"
   ]
  },
  {
   "cell_type": "code",
   "execution_count": 251,
   "id": "143487e3",
   "metadata": {},
   "outputs": [],
   "source": [
    "from sklearn.model_selection import GridSearchCV\n",
    "parameters = {'alpha':[0.0001,0.001,0.01,0.1,1],'random_state':list(range(0,10))}"
   ]
  },
  {
   "cell_type": "markdown",
   "id": "403bd82a",
   "metadata": {},
   "source": [
    "#### Lasso(L1)"
   ]
  },
  {
   "cell_type": "code",
   "execution_count": 252,
   "id": "e3291687",
   "metadata": {},
   "outputs": [
    {
     "name": "stdout",
     "output_type": "stream",
     "text": [
      "{'alpha': 1, 'random_state': 0}\n"
     ]
    }
   ],
   "source": [
    "ls = Lasso()\n",
    "clf = GridSearchCV(ls,parameters)\n",
    "clf.fit(features_train,target_train)\n",
    "\n",
    "print(clf.best_params_)"
   ]
  },
  {
   "cell_type": "code",
   "execution_count": 253,
   "id": "409afc15",
   "metadata": {},
   "outputs": [
    {
     "data": {
      "text/plain": [
       "0.15348879286145223"
      ]
     },
     "execution_count": 253,
     "metadata": {},
     "output_type": "execute_result"
    }
   ],
   "source": [
    "ls = Lasso(alpha = 1, random_state = 0)\n",
    "ls.fit(features_train,target_train)\n",
    "pred_ls = ls.predict(features_test)\n",
    "\n",
    "lss = r2_score(target_test,pred_ls)\n",
    "lss"
   ]
  },
  {
   "cell_type": "code",
   "execution_count": 254,
   "id": "57cddfee",
   "metadata": {},
   "outputs": [
    {
     "name": "stdout",
     "output_type": "stream",
     "text": [
      "Lasso(alpha=1, random_state=0)\n",
      "At cv fold 7  the cv score is  0.16026060346850152 and the R2 score  is  0.18999685363065832\n"
     ]
    }
   ],
   "source": [
    "cross_val(ls,0)"
   ]
  },
  {
   "cell_type": "markdown",
   "id": "25b72fd7",
   "metadata": {},
   "source": [
    "### Ridge(L2)"
   ]
  },
  {
   "cell_type": "code",
   "execution_count": 255,
   "id": "4383a8c4",
   "metadata": {},
   "outputs": [
    {
     "name": "stdout",
     "output_type": "stream",
     "text": [
      "{'alpha': 1, 'random_state': 0}\n"
     ]
    }
   ],
   "source": [
    "rd = Ridge()\n",
    "clf = GridSearchCV(rd,parameters)\n",
    "clf.fit(features_train,target_train)\n",
    "\n",
    "print(clf.best_params_)"
   ]
  },
  {
   "cell_type": "code",
   "execution_count": 256,
   "id": "b96d238b",
   "metadata": {},
   "outputs": [
    {
     "data": {
      "text/plain": [
       "0.1534845664088258"
      ]
     },
     "execution_count": 256,
     "metadata": {},
     "output_type": "execute_result"
    }
   ],
   "source": [
    "rd = Ridge(alpha = 1,random_state=0)\n",
    "rd.fit(features_train,target_train)\n",
    "pred_rd = rd.predict(features_test)\n",
    "\n",
    "rds = r2_score(target_test,pred_rd)\n",
    "rds"
   ]
  },
  {
   "cell_type": "code",
   "execution_count": 257,
   "id": "cc8fd1a8",
   "metadata": {},
   "outputs": [
    {
     "name": "stdout",
     "output_type": "stream",
     "text": [
      "Ridge(alpha=1, random_state=0)\n",
      "At cv fold 7  the cv score is  0.16029718414566416 and the R2 score  is  0.18999077256912567\n"
     ]
    }
   ],
   "source": [
    "cross_val(rd,0)"
   ]
  },
  {
   "cell_type": "markdown",
   "id": "9e983586",
   "metadata": {},
   "source": [
    "### ElasticNet"
   ]
  },
  {
   "cell_type": "code",
   "execution_count": 258,
   "id": "572cf6a0",
   "metadata": {},
   "outputs": [
    {
     "name": "stdout",
     "output_type": "stream",
     "text": [
      "{'alpha': 0.1, 'random_state': 0}\n"
     ]
    }
   ],
   "source": [
    "en = ElasticNet()\n",
    "clf = GridSearchCV(en,parameters)\n",
    "clf.fit(features_train, target_train)\n",
    "\n",
    "print(clf.best_params_)"
   ]
  },
  {
   "cell_type": "code",
   "execution_count": 259,
   "id": "66ea22cc",
   "metadata": {},
   "outputs": [
    {
     "data": {
      "text/plain": [
       "0.1522808194415346"
      ]
     },
     "execution_count": 259,
     "metadata": {},
     "output_type": "execute_result"
    }
   ],
   "source": [
    "en = ElasticNet(alpha = 0.1, random_state = 0)\n",
    "en.fit(features_train,target_train)\n",
    "pred_en = en.predict(features_test)\n",
    "\n",
    "ens = r2_score(target_test,pred_en)\n",
    "ens"
   ]
  },
  {
   "cell_type": "code",
   "execution_count": 260,
   "id": "d6eae944",
   "metadata": {
    "scrolled": true
   },
   "outputs": [
    {
     "name": "stdout",
     "output_type": "stream",
     "text": [
      "ElasticNet(alpha=0.1, random_state=0)\n",
      "At cv fold 7  the cv score is  0.16727058784440452 and the R2 score  is  0.1882345027621456\n"
     ]
    }
   ],
   "source": [
    "cross_val(en,0)"
   ]
  },
  {
   "cell_type": "markdown",
   "id": "c19df24e",
   "metadata": {},
   "source": [
    "The regularization techniques didn't provide any better results. So we can consider the CatBoost and XGBoost Regressor models as the best performing models."
   ]
  },
  {
   "cell_type": "markdown",
   "id": "41bd07d6",
   "metadata": {},
   "source": [
    "### Hyperparameter Tuning"
   ]
  },
  {
   "cell_type": "markdown",
   "id": "715137d2",
   "metadata": {},
   "source": [
    "#### CatBoost Regressor"
   ]
  },
  {
   "cell_type": "code",
   "execution_count": 261,
   "id": "f09a79f4",
   "metadata": {},
   "outputs": [
    {
     "data": {
      "text/plain": [
       "{'nan_mode': 'Min',\n",
       " 'eval_metric': 'RMSE',\n",
       " 'iterations': 100,\n",
       " 'sampling_frequency': 'PerTree',\n",
       " 'leaf_estimation_method': 'Newton',\n",
       " 'grow_policy': 'SymmetricTree',\n",
       " 'penalties_coefficient': 1,\n",
       " 'boosting_type': 'Plain',\n",
       " 'model_shrink_mode': 'Constant',\n",
       " 'feature_border_type': 'GreedyLogSum',\n",
       " 'bayesian_matrix_reg': 0.10000000149011612,\n",
       " 'force_unit_auto_pair_weights': False,\n",
       " 'l2_leaf_reg': 3,\n",
       " 'random_strength': 1,\n",
       " 'rsm': 1,\n",
       " 'boost_from_average': True,\n",
       " 'model_size_reg': 0.5,\n",
       " 'pool_metainfo_options': {'tags': {}},\n",
       " 'subsample': 0.800000011920929,\n",
       " 'use_best_model': False,\n",
       " 'random_seed': 0,\n",
       " 'depth': 6,\n",
       " 'posterior_sampling': False,\n",
       " 'border_count': 254,\n",
       " 'classes_count': 0,\n",
       " 'auto_class_weights': 'None',\n",
       " 'sparse_features_conflict_fraction': 0,\n",
       " 'leaf_estimation_backtracking': 'AnyImprovement',\n",
       " 'best_model_min_trees': 1,\n",
       " 'model_shrink_rate': 0,\n",
       " 'min_data_in_leaf': 1,\n",
       " 'loss_function': 'RMSE',\n",
       " 'learning_rate': 0.33397799730300903,\n",
       " 'score_function': 'Cosine',\n",
       " 'task_type': 'CPU',\n",
       " 'leaf_estimation_iterations': 1,\n",
       " 'bootstrap_type': 'MVS',\n",
       " 'max_leaves': 64}"
      ]
     },
     "execution_count": 261,
     "metadata": {},
     "output_type": "execute_result"
    }
   ],
   "source": [
    "cbr.get_all_params()"
   ]
  },
  {
   "cell_type": "code",
   "execution_count": 262,
   "id": "b134be34",
   "metadata": {},
   "outputs": [],
   "source": [
    "from sklearn.model_selection import GridSearchCV\n",
    "parameters = {'n_estimators' : [100,150,200,400],\n",
    "              'eval_metric' : ['RMSE','Logloss', 'CrossEntropy', 'MAE'],\n",
    "              'sampling_frequency' : ['PerTree ','PerTreeLevel'],\n",
    "              'sampling_unit' : ['Object','Group']}\n",
    "\n",
    "grid = GridSearchCV(estimator = CatBoostRegressor(verbose = 0),param_grid=parameters, cv = 6)"
   ]
  },
  {
   "cell_type": "code",
   "execution_count": 263,
   "id": "8f9e7bee",
   "metadata": {},
   "outputs": [
    {
     "data": {
      "text/html": [
       "<style>#sk-container-id-1 {color: black;background-color: white;}#sk-container-id-1 pre{padding: 0;}#sk-container-id-1 div.sk-toggleable {background-color: white;}#sk-container-id-1 label.sk-toggleable__label {cursor: pointer;display: block;width: 100%;margin-bottom: 0;padding: 0.3em;box-sizing: border-box;text-align: center;}#sk-container-id-1 label.sk-toggleable__label-arrow:before {content: \"▸\";float: left;margin-right: 0.25em;color: #696969;}#sk-container-id-1 label.sk-toggleable__label-arrow:hover:before {color: black;}#sk-container-id-1 div.sk-estimator:hover label.sk-toggleable__label-arrow:before {color: black;}#sk-container-id-1 div.sk-toggleable__content {max-height: 0;max-width: 0;overflow: hidden;text-align: left;background-color: #f0f8ff;}#sk-container-id-1 div.sk-toggleable__content pre {margin: 0.2em;color: black;border-radius: 0.25em;background-color: #f0f8ff;}#sk-container-id-1 input.sk-toggleable__control:checked~div.sk-toggleable__content {max-height: 200px;max-width: 100%;overflow: auto;}#sk-container-id-1 input.sk-toggleable__control:checked~label.sk-toggleable__label-arrow:before {content: \"▾\";}#sk-container-id-1 div.sk-estimator input.sk-toggleable__control:checked~label.sk-toggleable__label {background-color: #d4ebff;}#sk-container-id-1 div.sk-label input.sk-toggleable__control:checked~label.sk-toggleable__label {background-color: #d4ebff;}#sk-container-id-1 input.sk-hidden--visually {border: 0;clip: rect(1px 1px 1px 1px);clip: rect(1px, 1px, 1px, 1px);height: 1px;margin: -1px;overflow: hidden;padding: 0;position: absolute;width: 1px;}#sk-container-id-1 div.sk-estimator {font-family: monospace;background-color: #f0f8ff;border: 1px dotted black;border-radius: 0.25em;box-sizing: border-box;margin-bottom: 0.5em;}#sk-container-id-1 div.sk-estimator:hover {background-color: #d4ebff;}#sk-container-id-1 div.sk-parallel-item::after {content: \"\";width: 100%;border-bottom: 1px solid gray;flex-grow: 1;}#sk-container-id-1 div.sk-label:hover label.sk-toggleable__label {background-color: #d4ebff;}#sk-container-id-1 div.sk-serial::before {content: \"\";position: absolute;border-left: 1px solid gray;box-sizing: border-box;top: 0;bottom: 0;left: 50%;z-index: 0;}#sk-container-id-1 div.sk-serial {display: flex;flex-direction: column;align-items: center;background-color: white;padding-right: 0.2em;padding-left: 0.2em;position: relative;}#sk-container-id-1 div.sk-item {position: relative;z-index: 1;}#sk-container-id-1 div.sk-parallel {display: flex;align-items: stretch;justify-content: center;background-color: white;position: relative;}#sk-container-id-1 div.sk-item::before, #sk-container-id-1 div.sk-parallel-item::before {content: \"\";position: absolute;border-left: 1px solid gray;box-sizing: border-box;top: 0;bottom: 0;left: 50%;z-index: -1;}#sk-container-id-1 div.sk-parallel-item {display: flex;flex-direction: column;z-index: 1;position: relative;background-color: white;}#sk-container-id-1 div.sk-parallel-item:first-child::after {align-self: flex-end;width: 50%;}#sk-container-id-1 div.sk-parallel-item:last-child::after {align-self: flex-start;width: 50%;}#sk-container-id-1 div.sk-parallel-item:only-child::after {width: 0;}#sk-container-id-1 div.sk-dashed-wrapped {border: 1px dashed gray;margin: 0 0.4em 0.5em 0.4em;box-sizing: border-box;padding-bottom: 0.4em;background-color: white;}#sk-container-id-1 div.sk-label label {font-family: monospace;font-weight: bold;display: inline-block;line-height: 1.2em;}#sk-container-id-1 div.sk-label-container {text-align: center;}#sk-container-id-1 div.sk-container {/* jupyter's `normalize.less` sets `[hidden] { display: none; }` but bootstrap.min.css set `[hidden] { display: none !important; }` so we also need the `!important` here to be able to override the default hidden behavior on the sphinx rendered scikit-learn.org. See: https://github.com/scikit-learn/scikit-learn/issues/21755 */display: inline-block !important;position: relative;}#sk-container-id-1 div.sk-text-repr-fallback {display: none;}</style><div id=\"sk-container-id-1\" class=\"sk-top-container\"><div class=\"sk-text-repr-fallback\"><pre>GridSearchCV(cv=6,\n",
       "             estimator=&lt;catboost.core.CatBoostRegressor object at 0x0000017B279BA130&gt;,\n",
       "             param_grid={&#x27;eval_metric&#x27;: [&#x27;RMSE&#x27;, &#x27;Logloss&#x27;, &#x27;CrossEntropy&#x27;,\n",
       "                                         &#x27;MAE&#x27;],\n",
       "                         &#x27;n_estimators&#x27;: [100, 150, 200, 400],\n",
       "                         &#x27;sampling_frequency&#x27;: [&#x27;PerTree &#x27;, &#x27;PerTreeLevel&#x27;],\n",
       "                         &#x27;sampling_unit&#x27;: [&#x27;Object&#x27;, &#x27;Group&#x27;]})</pre><b>In a Jupyter environment, please rerun this cell to show the HTML representation or trust the notebook. <br />On GitHub, the HTML representation is unable to render, please try loading this page with nbviewer.org.</b></div><div class=\"sk-container\" hidden><div class=\"sk-item sk-dashed-wrapped\"><div class=\"sk-label-container\"><div class=\"sk-label sk-toggleable\"><input class=\"sk-toggleable__control sk-hidden--visually\" id=\"sk-estimator-id-1\" type=\"checkbox\" ><label for=\"sk-estimator-id-1\" class=\"sk-toggleable__label sk-toggleable__label-arrow\">GridSearchCV</label><div class=\"sk-toggleable__content\"><pre>GridSearchCV(cv=6,\n",
       "             estimator=&lt;catboost.core.CatBoostRegressor object at 0x0000017B279BA130&gt;,\n",
       "             param_grid={&#x27;eval_metric&#x27;: [&#x27;RMSE&#x27;, &#x27;Logloss&#x27;, &#x27;CrossEntropy&#x27;,\n",
       "                                         &#x27;MAE&#x27;],\n",
       "                         &#x27;n_estimators&#x27;: [100, 150, 200, 400],\n",
       "                         &#x27;sampling_frequency&#x27;: [&#x27;PerTree &#x27;, &#x27;PerTreeLevel&#x27;],\n",
       "                         &#x27;sampling_unit&#x27;: [&#x27;Object&#x27;, &#x27;Group&#x27;]})</pre></div></div></div><div class=\"sk-parallel\"><div class=\"sk-parallel-item\"><div class=\"sk-item\"><div class=\"sk-label-container\"><div class=\"sk-label sk-toggleable\"><input class=\"sk-toggleable__control sk-hidden--visually\" id=\"sk-estimator-id-2\" type=\"checkbox\" ><label for=\"sk-estimator-id-2\" class=\"sk-toggleable__label sk-toggleable__label-arrow\">estimator: CatBoostRegressor</label><div class=\"sk-toggleable__content\"><pre>&lt;catboost.core.CatBoostRegressor object at 0x0000017B279BA130&gt;</pre></div></div></div><div class=\"sk-serial\"><div class=\"sk-item\"><div class=\"sk-estimator sk-toggleable\"><input class=\"sk-toggleable__control sk-hidden--visually\" id=\"sk-estimator-id-3\" type=\"checkbox\" ><label for=\"sk-estimator-id-3\" class=\"sk-toggleable__label sk-toggleable__label-arrow\">CatBoostRegressor</label><div class=\"sk-toggleable__content\"><pre>&lt;catboost.core.CatBoostRegressor object at 0x0000017B279BA130&gt;</pre></div></div></div></div></div></div></div></div></div></div>"
      ],
      "text/plain": [
       "GridSearchCV(cv=6,\n",
       "             estimator=<catboost.core.CatBoostRegressor object at 0x0000017B279BA130>,\n",
       "             param_grid={'eval_metric': ['RMSE', 'Logloss', 'CrossEntropy',\n",
       "                                         'MAE'],\n",
       "                         'n_estimators': [100, 150, 200, 400],\n",
       "                         'sampling_frequency': ['PerTree ', 'PerTreeLevel'],\n",
       "                         'sampling_unit': ['Object', 'Group']})"
      ]
     },
     "execution_count": 263,
     "metadata": {},
     "output_type": "execute_result"
    }
   ],
   "source": [
    "grid.fit(features,target)"
   ]
  },
  {
   "cell_type": "code",
   "execution_count": 264,
   "id": "87cbd128",
   "metadata": {},
   "outputs": [
    {
     "data": {
      "text/plain": [
       "0.4120844519892437"
      ]
     },
     "execution_count": 264,
     "metadata": {},
     "output_type": "execute_result"
    }
   ],
   "source": [
    "grid.best_score_"
   ]
  },
  {
   "cell_type": "code",
   "execution_count": 265,
   "id": "100ccd5c",
   "metadata": {},
   "outputs": [
    {
     "data": {
      "text/plain": [
       "{'eval_metric': 'RMSE',\n",
       " 'n_estimators': 100,\n",
       " 'sampling_frequency': 'PerTreeLevel',\n",
       " 'sampling_unit': 'Object'}"
      ]
     },
     "execution_count": 265,
     "metadata": {},
     "output_type": "execute_result"
    }
   ],
   "source": [
    "grid.best_params_"
   ]
  },
  {
   "cell_type": "code",
   "execution_count": 266,
   "id": "b99d8e4b",
   "metadata": {},
   "outputs": [
    {
     "name": "stdout",
     "output_type": "stream",
     "text": [
      "R2 Score 0.8166500553677947\n",
      "Mean Squared Error 125555840349.51102\n",
      "Mean Absolute Error 169850.9566767898\n"
     ]
    }
   ],
   "source": [
    "cbr = CatBoostRegressor(verbose = 0,n_estimators=100, eval_metric = 'RMSE',sampling_frequency = 'PerTreeLevel', sampling_unit = 'Object')\n",
    "features_train, features_test,target_train,target_test = train_test_split(features, target, test_size = 0.20, random_state=70)\n",
    "cbr.fit(features_train, target_train)\n",
    "pred_test_cbr = cbr.predict(features_test)\n",
    "\n",
    "print('R2 Score',r2_score(target_test,pred_test_cbr))\n",
    "print('Mean Squared Error',mean_squared_error(target_test,pred_test_cbr))\n",
    "print('Mean Absolute Error',mean_absolute_error(target_test,pred_test_cbr))"
   ]
  },
  {
   "cell_type": "markdown",
   "id": "95571a25",
   "metadata": {},
   "source": [
    "#### XGBoost Regressor"
   ]
  },
  {
   "cell_type": "code",
   "execution_count": 267,
   "id": "8578a731",
   "metadata": {},
   "outputs": [],
   "source": [
    "parameters = {'objective':['reg:squarederror','reg:squaredlogerror'],\n",
    "             'base_score':[0.5,1,2],\n",
    "             'eval_metric':['rmse','rmsle','mae'],\n",
    "             'seed':[0,1,2],\n",
    "             'seed_per_iteration':[True, False]}\n",
    "\n",
    "grid = GridSearchCV(estimator = XGBRegressor(),param_grid=parameters, cv = 8)"
   ]
  },
  {
   "cell_type": "code",
   "execution_count": 268,
   "id": "8f309171",
   "metadata": {},
   "outputs": [
    {
     "data": {
      "text/html": [
       "<style>#sk-container-id-2 {color: black;background-color: white;}#sk-container-id-2 pre{padding: 0;}#sk-container-id-2 div.sk-toggleable {background-color: white;}#sk-container-id-2 label.sk-toggleable__label {cursor: pointer;display: block;width: 100%;margin-bottom: 0;padding: 0.3em;box-sizing: border-box;text-align: center;}#sk-container-id-2 label.sk-toggleable__label-arrow:before {content: \"▸\";float: left;margin-right: 0.25em;color: #696969;}#sk-container-id-2 label.sk-toggleable__label-arrow:hover:before {color: black;}#sk-container-id-2 div.sk-estimator:hover label.sk-toggleable__label-arrow:before {color: black;}#sk-container-id-2 div.sk-toggleable__content {max-height: 0;max-width: 0;overflow: hidden;text-align: left;background-color: #f0f8ff;}#sk-container-id-2 div.sk-toggleable__content pre {margin: 0.2em;color: black;border-radius: 0.25em;background-color: #f0f8ff;}#sk-container-id-2 input.sk-toggleable__control:checked~div.sk-toggleable__content {max-height: 200px;max-width: 100%;overflow: auto;}#sk-container-id-2 input.sk-toggleable__control:checked~label.sk-toggleable__label-arrow:before {content: \"▾\";}#sk-container-id-2 div.sk-estimator input.sk-toggleable__control:checked~label.sk-toggleable__label {background-color: #d4ebff;}#sk-container-id-2 div.sk-label input.sk-toggleable__control:checked~label.sk-toggleable__label {background-color: #d4ebff;}#sk-container-id-2 input.sk-hidden--visually {border: 0;clip: rect(1px 1px 1px 1px);clip: rect(1px, 1px, 1px, 1px);height: 1px;margin: -1px;overflow: hidden;padding: 0;position: absolute;width: 1px;}#sk-container-id-2 div.sk-estimator {font-family: monospace;background-color: #f0f8ff;border: 1px dotted black;border-radius: 0.25em;box-sizing: border-box;margin-bottom: 0.5em;}#sk-container-id-2 div.sk-estimator:hover {background-color: #d4ebff;}#sk-container-id-2 div.sk-parallel-item::after {content: \"\";width: 100%;border-bottom: 1px solid gray;flex-grow: 1;}#sk-container-id-2 div.sk-label:hover label.sk-toggleable__label {background-color: #d4ebff;}#sk-container-id-2 div.sk-serial::before {content: \"\";position: absolute;border-left: 1px solid gray;box-sizing: border-box;top: 0;bottom: 0;left: 50%;z-index: 0;}#sk-container-id-2 div.sk-serial {display: flex;flex-direction: column;align-items: center;background-color: white;padding-right: 0.2em;padding-left: 0.2em;position: relative;}#sk-container-id-2 div.sk-item {position: relative;z-index: 1;}#sk-container-id-2 div.sk-parallel {display: flex;align-items: stretch;justify-content: center;background-color: white;position: relative;}#sk-container-id-2 div.sk-item::before, #sk-container-id-2 div.sk-parallel-item::before {content: \"\";position: absolute;border-left: 1px solid gray;box-sizing: border-box;top: 0;bottom: 0;left: 50%;z-index: -1;}#sk-container-id-2 div.sk-parallel-item {display: flex;flex-direction: column;z-index: 1;position: relative;background-color: white;}#sk-container-id-2 div.sk-parallel-item:first-child::after {align-self: flex-end;width: 50%;}#sk-container-id-2 div.sk-parallel-item:last-child::after {align-self: flex-start;width: 50%;}#sk-container-id-2 div.sk-parallel-item:only-child::after {width: 0;}#sk-container-id-2 div.sk-dashed-wrapped {border: 1px dashed gray;margin: 0 0.4em 0.5em 0.4em;box-sizing: border-box;padding-bottom: 0.4em;background-color: white;}#sk-container-id-2 div.sk-label label {font-family: monospace;font-weight: bold;display: inline-block;line-height: 1.2em;}#sk-container-id-2 div.sk-label-container {text-align: center;}#sk-container-id-2 div.sk-container {/* jupyter's `normalize.less` sets `[hidden] { display: none; }` but bootstrap.min.css set `[hidden] { display: none !important; }` so we also need the `!important` here to be able to override the default hidden behavior on the sphinx rendered scikit-learn.org. See: https://github.com/scikit-learn/scikit-learn/issues/21755 */display: inline-block !important;position: relative;}#sk-container-id-2 div.sk-text-repr-fallback {display: none;}</style><div id=\"sk-container-id-2\" class=\"sk-top-container\"><div class=\"sk-text-repr-fallback\"><pre>GridSearchCV(cv=8,\n",
       "             estimator=XGBRegressor(base_score=None, booster=None,\n",
       "                                    callbacks=None, colsample_bylevel=None,\n",
       "                                    colsample_bynode=None,\n",
       "                                    colsample_bytree=None,\n",
       "                                    early_stopping_rounds=None,\n",
       "                                    enable_categorical=False, eval_metric=None,\n",
       "                                    gamma=None, gpu_id=None, grow_policy=None,\n",
       "                                    importance_type=None,\n",
       "                                    interaction_constraints=None,\n",
       "                                    learning_rate=None, max_bin=None,\n",
       "                                    max_cat...\n",
       "                                    min_child_weight=None, missing=nan,\n",
       "                                    monotone_constraints=None, n_estimators=100,\n",
       "                                    n_jobs=None, num_parallel_tree=None,\n",
       "                                    predictor=None, random_state=None,\n",
       "                                    reg_alpha=None, reg_lambda=None, ...),\n",
       "             param_grid={&#x27;base_score&#x27;: [0.5, 1, 2],\n",
       "                         &#x27;eval_metric&#x27;: [&#x27;rmse&#x27;, &#x27;rmsle&#x27;, &#x27;mae&#x27;],\n",
       "                         &#x27;objective&#x27;: [&#x27;reg:squarederror&#x27;,\n",
       "                                       &#x27;reg:squaredlogerror&#x27;],\n",
       "                         &#x27;seed&#x27;: [0, 1, 2],\n",
       "                         &#x27;seed_per_iteration&#x27;: [True, False]})</pre><b>In a Jupyter environment, please rerun this cell to show the HTML representation or trust the notebook. <br />On GitHub, the HTML representation is unable to render, please try loading this page with nbviewer.org.</b></div><div class=\"sk-container\" hidden><div class=\"sk-item sk-dashed-wrapped\"><div class=\"sk-label-container\"><div class=\"sk-label sk-toggleable\"><input class=\"sk-toggleable__control sk-hidden--visually\" id=\"sk-estimator-id-4\" type=\"checkbox\" ><label for=\"sk-estimator-id-4\" class=\"sk-toggleable__label sk-toggleable__label-arrow\">GridSearchCV</label><div class=\"sk-toggleable__content\"><pre>GridSearchCV(cv=8,\n",
       "             estimator=XGBRegressor(base_score=None, booster=None,\n",
       "                                    callbacks=None, colsample_bylevel=None,\n",
       "                                    colsample_bynode=None,\n",
       "                                    colsample_bytree=None,\n",
       "                                    early_stopping_rounds=None,\n",
       "                                    enable_categorical=False, eval_metric=None,\n",
       "                                    gamma=None, gpu_id=None, grow_policy=None,\n",
       "                                    importance_type=None,\n",
       "                                    interaction_constraints=None,\n",
       "                                    learning_rate=None, max_bin=None,\n",
       "                                    max_cat...\n",
       "                                    min_child_weight=None, missing=nan,\n",
       "                                    monotone_constraints=None, n_estimators=100,\n",
       "                                    n_jobs=None, num_parallel_tree=None,\n",
       "                                    predictor=None, random_state=None,\n",
       "                                    reg_alpha=None, reg_lambda=None, ...),\n",
       "             param_grid={&#x27;base_score&#x27;: [0.5, 1, 2],\n",
       "                         &#x27;eval_metric&#x27;: [&#x27;rmse&#x27;, &#x27;rmsle&#x27;, &#x27;mae&#x27;],\n",
       "                         &#x27;objective&#x27;: [&#x27;reg:squarederror&#x27;,\n",
       "                                       &#x27;reg:squaredlogerror&#x27;],\n",
       "                         &#x27;seed&#x27;: [0, 1, 2],\n",
       "                         &#x27;seed_per_iteration&#x27;: [True, False]})</pre></div></div></div><div class=\"sk-parallel\"><div class=\"sk-parallel-item\"><div class=\"sk-item\"><div class=\"sk-label-container\"><div class=\"sk-label sk-toggleable\"><input class=\"sk-toggleable__control sk-hidden--visually\" id=\"sk-estimator-id-5\" type=\"checkbox\" ><label for=\"sk-estimator-id-5\" class=\"sk-toggleable__label sk-toggleable__label-arrow\">estimator: XGBRegressor</label><div class=\"sk-toggleable__content\"><pre>XGBRegressor(base_score=None, booster=None, callbacks=None,\n",
       "             colsample_bylevel=None, colsample_bynode=None,\n",
       "             colsample_bytree=None, early_stopping_rounds=None,\n",
       "             enable_categorical=False, eval_metric=None, gamma=None,\n",
       "             gpu_id=None, grow_policy=None, importance_type=None,\n",
       "             interaction_constraints=None, learning_rate=None, max_bin=None,\n",
       "             max_cat_to_onehot=None, max_delta_step=None, max_depth=None,\n",
       "             max_leaves=None, min_child_weight=None, missing=nan,\n",
       "             monotone_constraints=None, n_estimators=100, n_jobs=None,\n",
       "             num_parallel_tree=None, predictor=None, random_state=None,\n",
       "             reg_alpha=None, reg_lambda=None, ...)</pre></div></div></div><div class=\"sk-serial\"><div class=\"sk-item\"><div class=\"sk-estimator sk-toggleable\"><input class=\"sk-toggleable__control sk-hidden--visually\" id=\"sk-estimator-id-6\" type=\"checkbox\" ><label for=\"sk-estimator-id-6\" class=\"sk-toggleable__label sk-toggleable__label-arrow\">XGBRegressor</label><div class=\"sk-toggleable__content\"><pre>XGBRegressor(base_score=None, booster=None, callbacks=None,\n",
       "             colsample_bylevel=None, colsample_bynode=None,\n",
       "             colsample_bytree=None, early_stopping_rounds=None,\n",
       "             enable_categorical=False, eval_metric=None, gamma=None,\n",
       "             gpu_id=None, grow_policy=None, importance_type=None,\n",
       "             interaction_constraints=None, learning_rate=None, max_bin=None,\n",
       "             max_cat_to_onehot=None, max_delta_step=None, max_depth=None,\n",
       "             max_leaves=None, min_child_weight=None, missing=nan,\n",
       "             monotone_constraints=None, n_estimators=100, n_jobs=None,\n",
       "             num_parallel_tree=None, predictor=None, random_state=None,\n",
       "             reg_alpha=None, reg_lambda=None, ...)</pre></div></div></div></div></div></div></div></div></div></div>"
      ],
      "text/plain": [
       "GridSearchCV(cv=8,\n",
       "             estimator=XGBRegressor(base_score=None, booster=None,\n",
       "                                    callbacks=None, colsample_bylevel=None,\n",
       "                                    colsample_bynode=None,\n",
       "                                    colsample_bytree=None,\n",
       "                                    early_stopping_rounds=None,\n",
       "                                    enable_categorical=False, eval_metric=None,\n",
       "                                    gamma=None, gpu_id=None, grow_policy=None,\n",
       "                                    importance_type=None,\n",
       "                                    interaction_constraints=None,\n",
       "                                    learning_rate=None, max_bin=None,\n",
       "                                    max_cat...\n",
       "                                    min_child_weight=None, missing=nan,\n",
       "                                    monotone_constraints=None, n_estimators=100,\n",
       "                                    n_jobs=None, num_parallel_tree=None,\n",
       "                                    predictor=None, random_state=None,\n",
       "                                    reg_alpha=None, reg_lambda=None, ...),\n",
       "             param_grid={'base_score': [0.5, 1, 2],\n",
       "                         'eval_metric': ['rmse', 'rmsle', 'mae'],\n",
       "                         'objective': ['reg:squarederror',\n",
       "                                       'reg:squaredlogerror'],\n",
       "                         'seed': [0, 1, 2],\n",
       "                         'seed_per_iteration': [True, False]})"
      ]
     },
     "execution_count": 268,
     "metadata": {},
     "output_type": "execute_result"
    }
   ],
   "source": [
    "grid.fit(features,target)"
   ]
  },
  {
   "cell_type": "code",
   "execution_count": 269,
   "id": "2e27e4c3",
   "metadata": {},
   "outputs": [
    {
     "data": {
      "text/plain": [
       "0.46934597154114394"
      ]
     },
     "execution_count": 269,
     "metadata": {},
     "output_type": "execute_result"
    }
   ],
   "source": [
    "grid.best_score_"
   ]
  },
  {
   "cell_type": "code",
   "execution_count": 270,
   "id": "2c159b1a",
   "metadata": {},
   "outputs": [
    {
     "data": {
      "text/plain": [
       "{'base_score': 2,\n",
       " 'eval_metric': 'rmse',\n",
       " 'objective': 'reg:squarederror',\n",
       " 'seed': 0,\n",
       " 'seed_per_iteration': True}"
      ]
     },
     "execution_count": 270,
     "metadata": {},
     "output_type": "execute_result"
    }
   ],
   "source": [
    "grid.best_params_"
   ]
  },
  {
   "cell_type": "code",
   "execution_count": 271,
   "id": "7bb6083c",
   "metadata": {},
   "outputs": [
    {
     "name": "stdout",
     "output_type": "stream",
     "text": [
      "R2 Score 0.8497629078430087\n",
      "Mean Squared Error 100473323956.73813\n",
      "Mean Absolute Error 131714.07632040163\n"
     ]
    }
   ],
   "source": [
    "xgb = XGBRegressor(base_score = 2,eval_metric = 'rmse',objective = 'reg:squarederror',seed = 0,seed_per_iteration = True)\n",
    "features_train, features_test,target_train,target_test= train_test_split(features,target,test_size = 0.20, random_state = 37)\n",
    "xgb.fit(features_train, target_train)\n",
    "pred_test_xgb = xgb.predict(features_test)\n",
    "\n",
    "\n",
    "print('R2 Score',r2_score(target_test,pred_test_xgb))\n",
    "print('Mean Squared Error',mean_squared_error(target_test,pred_test_xgb))\n",
    "print('Mean Absolute Error',mean_absolute_error(target_test,pred_test_xgb))"
   ]
  },
  {
   "cell_type": "markdown",
   "id": "73280058",
   "metadata": {},
   "source": [
    "After all the tests, cross validations, regularizationa and hyperparameter tuning the XGBoost model is performing well. So we can consider this model as the best performing model."
   ]
  },
  {
   "cell_type": "markdown",
   "id": "f981570d",
   "metadata": {},
   "source": [
    "### The XGBoost Regressor model(xgb) is providing a final R2 Score of 84.98%."
   ]
  },
  {
   "cell_type": "markdown",
   "id": "bd818fd2",
   "metadata": {},
   "source": [
    "### Saving the best model"
   ]
  },
  {
   "cell_type": "code",
   "execution_count": 272,
   "id": "c0513085",
   "metadata": {},
   "outputs": [],
   "source": [
    "import pickle\n",
    "\n",
    "filename = 'Used_car_price_prediction_model.pkl'\n",
    "pickle.dump(xgb,open(filename,'wb'))"
   ]
  },
  {
   "cell_type": "markdown",
   "id": "aff333d5",
   "metadata": {},
   "source": [
    "### Conclusion"
   ]
  },
  {
   "cell_type": "code",
   "execution_count": 279,
   "id": "09cafc87",
   "metadata": {},
   "outputs": [
    {
     "data": {
      "text/html": [
       "<div>\n",
       "<style scoped>\n",
       "    .dataframe tbody tr th:only-of-type {\n",
       "        vertical-align: middle;\n",
       "    }\n",
       "\n",
       "    .dataframe tbody tr th {\n",
       "        vertical-align: top;\n",
       "    }\n",
       "\n",
       "    .dataframe thead th {\n",
       "        text-align: right;\n",
       "    }\n",
       "</style>\n",
       "<table border=\"1\" class=\"dataframe\">\n",
       "  <thead>\n",
       "    <tr style=\"text-align: right;\">\n",
       "      <th></th>\n",
       "      <th>Original Car Price</th>\n",
       "      <th>Predicted Car Price</th>\n",
       "    </tr>\n",
       "  </thead>\n",
       "  <tbody>\n",
       "    <tr>\n",
       "      <th>696</th>\n",
       "      <td>652000</td>\n",
       "      <td>637556.0</td>\n",
       "    </tr>\n",
       "    <tr>\n",
       "      <th>404</th>\n",
       "      <td>250000</td>\n",
       "      <td>457017.0</td>\n",
       "    </tr>\n",
       "    <tr>\n",
       "      <th>540</th>\n",
       "      <td>625299</td>\n",
       "      <td>586307.0</td>\n",
       "    </tr>\n",
       "    <tr>\n",
       "      <th>17</th>\n",
       "      <td>560000</td>\n",
       "      <td>386586.0</td>\n",
       "    </tr>\n",
       "    <tr>\n",
       "      <th>809</th>\n",
       "      <td>549000</td>\n",
       "      <td>692200.0</td>\n",
       "    </tr>\n",
       "    <tr>\n",
       "      <th>911</th>\n",
       "      <td>275000</td>\n",
       "      <td>506822.0</td>\n",
       "    </tr>\n",
       "    <tr>\n",
       "      <th>520</th>\n",
       "      <td>850000</td>\n",
       "      <td>1109665.0</td>\n",
       "    </tr>\n",
       "    <tr>\n",
       "      <th>830</th>\n",
       "      <td>375000</td>\n",
       "      <td>382855.0</td>\n",
       "    </tr>\n",
       "    <tr>\n",
       "      <th>961</th>\n",
       "      <td>250000</td>\n",
       "      <td>389303.0</td>\n",
       "    </tr>\n",
       "    <tr>\n",
       "      <th>310</th>\n",
       "      <td>245000</td>\n",
       "      <td>206626.0</td>\n",
       "    </tr>\n",
       "    <tr>\n",
       "      <th>999</th>\n",
       "      <td>702299</td>\n",
       "      <td>710475.0</td>\n",
       "    </tr>\n",
       "    <tr>\n",
       "      <th>174</th>\n",
       "      <td>105000</td>\n",
       "      <td>209455.0</td>\n",
       "    </tr>\n",
       "    <tr>\n",
       "      <th>642</th>\n",
       "      <td>420000</td>\n",
       "      <td>390716.0</td>\n",
       "    </tr>\n",
       "    <tr>\n",
       "      <th>14</th>\n",
       "      <td>535000</td>\n",
       "      <td>544248.0</td>\n",
       "    </tr>\n",
       "    <tr>\n",
       "      <th>282</th>\n",
       "      <td>533699</td>\n",
       "      <td>570897.0</td>\n",
       "    </tr>\n",
       "    <tr>\n",
       "      <th>705</th>\n",
       "      <td>340000</td>\n",
       "      <td>587488.0</td>\n",
       "    </tr>\n",
       "    <tr>\n",
       "      <th>237</th>\n",
       "      <td>647000</td>\n",
       "      <td>639453.0</td>\n",
       "    </tr>\n",
       "    <tr>\n",
       "      <th>757</th>\n",
       "      <td>1399991</td>\n",
       "      <td>1304220.0</td>\n",
       "    </tr>\n",
       "    <tr>\n",
       "      <th>718</th>\n",
       "      <td>712199</td>\n",
       "      <td>641815.0</td>\n",
       "    </tr>\n",
       "    <tr>\n",
       "      <th>1038</th>\n",
       "      <td>850000</td>\n",
       "      <td>497138.0</td>\n",
       "    </tr>\n",
       "  </tbody>\n",
       "</table>\n",
       "</div>"
      ],
      "text/plain": [
       "      Original Car Price  Predicted Car Price\n",
       "696               652000             637556.0\n",
       "404               250000             457017.0\n",
       "540               625299             586307.0\n",
       "17                560000             386586.0\n",
       "809               549000             692200.0\n",
       "911               275000             506822.0\n",
       "520               850000            1109665.0\n",
       "830               375000             382855.0\n",
       "961               250000             389303.0\n",
       "310               245000             206626.0\n",
       "999               702299             710475.0\n",
       "174               105000             209455.0\n",
       "642               420000             390716.0\n",
       "14                535000             544248.0\n",
       "282               533699             570897.0\n",
       "705               340000             587488.0\n",
       "237               647000             639453.0\n",
       "757              1399991            1304220.0\n",
       "718               712199             641815.0\n",
       "1038              850000             497138.0"
      ]
     },
     "execution_count": 279,
     "metadata": {},
     "output_type": "execute_result"
    }
   ],
   "source": [
    "original = np.array(target_test)\n",
    "predicted = np.round(np.array(xgb.predict(features_test)))\n",
    "\n",
    "prediction_test = pd.DataFrame({'Original Car Price':original,'Predicted Car Price':predicted})\n",
    "prediction_test.sample(20)"
   ]
  },
  {
   "cell_type": "code",
   "execution_count": 280,
   "id": "7d09c5ec",
   "metadata": {},
   "outputs": [
    {
     "data": {
      "image/png": "[encoded data removed]",
      "text/plain": [
       "<Figure size 432x288 with 1 Axes>"
      ]
     },
     "metadata": {
      "needs_background": "light"
     },
     "output_type": "display_data"
    }
   ],
   "source": [
    "sns.regplot('Original Car Price','Predicted Car Price', data = prediction_test)\n",
    "plt.xticks(rotation = 90)\n",
    "plt.show()"
   ]
  },
  {
   "cell_type": "markdown",
   "id": "c9272dbb",
   "metadata": {},
   "source": [
    "Our model is performing well with predictions and provided almost accurate results."
   ]
  },
  {
   "cell_type": "markdown",
   "id": "766aed02",
   "metadata": {},
   "source": [
    "Now this model can be used to predict the price of used cars in India with the following variable information about the house.(Important Variables)\n",
    "\n",
    "`Brand`\t`Model`\t`Manufacturing_Year`\t`Kilometers_Driven`\t`Fuel_Type`\t`No_of_owners`\t`Location`\t`Car_Price`"
   ]
  },
  {
   "cell_type": "markdown",
   "id": "5714ff1f",
   "metadata": {},
   "source": [
    "#### Impact of Variables on Target Variable(Correlation)\n",
    "\n",
    "* The column \"Manufacturing_Year' is having the highest positive correlation to the target variable 'Car_Price'. The column 'Fuel_Type' is having highest negative correlation to the target variable 'Car_Price'.\n",
    "* The column 'Model' is having least negative correlation to the target variable 'Car_Price'."
   ]
  },
  {
   "cell_type": "markdown",
   "id": "7a13fce4",
   "metadata": {},
   "source": [
    "### Used car price prediction model created successfully."
   ]
  }
 ],
 "metadata": {
  "kernelspec": {
   "display_name": "Python 3 (ipykernel)",
   "language": "python",
   "name": "python3"
  },
  "language_info": {
   "codemirror_mode": {
    "name": "ipython",
    "version": 3
   },
   "file_extension": ".py",
   "mimetype": "text/x-python",
   "name": "python",
   "nbconvert_exporter": "python",
   "pygments_lexer": "ipython3",
   "version": "3.8.8"
  }
 },
 "nbformat": 4,
 "nbformat_minor": 5
}
