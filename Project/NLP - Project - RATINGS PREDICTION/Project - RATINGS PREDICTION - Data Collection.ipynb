{
 "cells": [
  {
   "cell_type": "markdown",
   "id": "49fbace2",
   "metadata": {},
   "source": [
    "## REVIEW RATINGS PREDICTION"
   ]
  },
  {
   "cell_type": "markdown",
   "id": "030b0e46",
   "metadata": {},
   "source": [
    "#### Problem Statement\n",
    "\n",
    "We have a client who has a website where people write different reviews for technical products. Now they are adding a new feature to their website i.e. The reviewer will have to add stars(rating) as well with the review. The rating is out 5 stars and it only has 5 options available 1 star, 2 stars, 3 stars, 4 stars, 5 stars. Now they want to predict ratings for the reviews which were written in the past and they don’t have a rating. So, we have to build an application which can predict the rating by seeing the review.\n",
    "\n",
    "**You have to scrape at least 20000 rows of data. You can scrape more data as well, it’s up to you. More the data better the model\n",
    "\n",
    "In this section you need to scrape the reviews of different laptops, Phones, Headphones, smart watches, Professional Cameras, Printers, Monitors, Home theater, Router, power bank from different ecommerce websites. Basically, we need these columns**\n",
    "\n",
    "**1. Reviews of the product.**\n",
    "\n",
    "**2. Rating of the product.**\n",
    "\n",
    "You can fetch other data as well, if you think data can be useful or can help in the project. It completely depends on your imagination or assumption"
   ]
  },
  {
   "cell_type": "markdown",
   "id": "6ff33472",
   "metadata": {},
   "source": [
    "Hints:\n",
    "    \n",
    "* Try to fetch data from different websites. If data is from different websites, it will help our model to remove the effect of over fitting.\n",
    "* Try to fetch an equal number of reviews for each rating, for example if you are fetching 10000 reviews then all ratings 1,2,3,4,5 should be 2000. It will balance our data set.\n",
    "* Convert all the ratings to their round number, as there are only 5 options for rating i.e., 1,2,3,4,5. If a rating is 4.5 convert it 5."
   ]
  },
  {
   "cell_type": "code",
   "execution_count": 370,
   "id": "fe36b5b4",
   "metadata": {},
   "outputs": [],
   "source": [
    "#importing the libraries\n",
    "\n",
    "import selenium\n",
    "from selenium import webdriver\n",
    "from selenium.webdriver.support.ui import WebDriverWait\n",
    "from selenium.webdriver.support import expected_conditions as EC\n",
    "from selenium.webdriver.common.by import By\n",
    "\n",
    "#Exceptions\n",
    "from selenium.common.exceptions import NoSuchElementException, TimeoutException, WebDriverException, StaleElementReferenceException, ElementClickInterceptedException\n",
    "\n",
    "\n",
    "import pandas as pd\n",
    "import re\n",
    "import time\n",
    "\n",
    "import warnings\n",
    "warnings.filterwarnings('ignore')"
   ]
  },
  {
   "cell_type": "markdown",
   "id": "955cf81d",
   "metadata": {},
   "source": [
    "* We are scraping product reviews from Amazon.in and Flipkart.in. \n",
    "* We are scraping reviews for the following products:\n",
    "\n",
    "`Laptops`    `Phones`    `Headphones`     `Smart watches`     `Professional Cameras`     `Printers`     `Monitors`     \n",
    "`Home theater`     `Router`     `Power bank`"
   ]
  },
  {
   "cell_type": "markdown",
   "id": "f10bad00",
   "metadata": {},
   "source": [
    "Details to be scraped:\n",
    "    \n",
    "1. `Product`\n",
    "2. `Review`\n",
    "3.`Rating`"
   ]
  },
  {
   "cell_type": "markdown",
   "id": "0049464b",
   "metadata": {},
   "source": [
    "Scraping the data from Amazon.in"
   ]
  },
  {
   "cell_type": "code",
   "execution_count": 265,
   "id": "f167ea25",
   "metadata": {},
   "outputs": [],
   "source": [
    "products = ['Laptop', 'smart phone', 'headphone', 'smart watch', 'professional camera', 'printer', 'monitors', 'home theater', 'router', 'power bank']\n",
    "\n",
    "\n",
    "delay = 10\n",
    "\n"
   ]
  },
  {
   "cell_type": "code",
   "execution_count": 189,
   "id": "e12839be",
   "metadata": {},
   "outputs": [],
   "source": [
    "chrome_options = webdriver.ChromeOptions()\n",
    "chrome_options.add_argument(\"--incognito\")\n",
    "\n",
    "driver = webdriver.Chrome('chromedriver.exe', chrome_options = chrome_options)\n",
    "driver.maximize_window()\n",
    "time.sleep(1)"
   ]
  },
  {
   "cell_type": "code",
   "execution_count": 30,
   "id": "dd1fbd75",
   "metadata": {},
   "outputs": [
    {
     "name": "stdout",
     "output_type": "stream",
     "text": [
      "250\n"
     ]
    }
   ],
   "source": [
    "url = []\n",
    "\n",
    "for pr in products:\n",
    "    \n",
    "    driver.get('https://www.amazon.in')\n",
    "    time.sleep(2)\n",
    "\n",
    "    search_box = driver.find_element_by_id(\"twotabsearchtextbox\")\n",
    "    search_box.send_keys(pr)\n",
    "\n",
    "    search_button = driver.find_element_by_id(\"nav-search-submit-button\")\n",
    "    search_button.click()\n",
    "    url_temp = []\n",
    "    while len(url_temp)<25:\n",
    "        WebDriverWait(driver, delay).until(EC.presence_of_element_located((By.CSS_SELECTOR,'a.s-pagination-item.s-pagination-next.s-pagination-button.s-pagination-separator')))\n",
    "        url_tags = driver.find_elements_by_xpath(\"//h2[@class = 'a-size-mini a-spacing-none a-color-base s-line-clamp-2']/a\")\n",
    "        for ur in url_tags:\n",
    "            url_temp.append(ur.get_attribute(\"href\"))\n",
    "        \n",
    "        #Clicking the next page button\n",
    "        next_page = driver.find_element_by_xpath(\"//a[@class = 's-pagination-item s-pagination-next s-pagination-button s-pagination-separator']\")\n",
    "        next_page.click()\n",
    "    url.extend(url_temp[:25])\n",
    "    time.sleep(1)\n",
    "print(len(url))"
   ]
  },
  {
   "cell_type": "code",
   "execution_count": 195,
   "id": "c7f5bca1",
   "metadata": {},
   "outputs": [],
   "source": [
    "driver.close()"
   ]
  },
  {
   "cell_type": "code",
   "execution_count": 212,
   "id": "c45d06c4",
   "metadata": {},
   "outputs": [],
   "source": [
    "rating_url = []\n",
    "rating_url_temp = []\n",
    "\n",
    "#User defined function for scraping the rating url from each product page\n",
    "def rating_page(a,b):\n",
    "    global rating_url_temp\n",
    "    rating_url_temp = []\n",
    "    try:\n",
    "        driver.close()\n",
    "    except:\n",
    "        pass\n",
    "    \n",
    "    chrome_options = webdriver.ChromeOptions()\n",
    "    chrome_options.add_argument(\"--incognito\")\n",
    "\n",
    "    driver = webdriver.Chrome('chromedriver.exe', chrome_options = chrome_options)\n",
    "    driver.maximize_window()\n",
    "    time.sleep(1)\n",
    "    \n",
    "    for i in url[a:b]:\n",
    "        try:\n",
    "            driver.get(i)\n",
    "            time.sleep(1)\n",
    "        except:\n",
    "            time.sleep(1)\n",
    "            driver.get(i)\n",
    "            time.sleep(1)\n",
    "\n",
    "        try:\n",
    "            height = driver.execute_script(\"return document.body.scrollHeight\")\n",
    "            driver.execute_script(\"window.scrollTo(0, {})\".format(height-2000))\n",
    "\n",
    "            WebDriverWait(driver,delay).until(EC.presence_of_element_located((By.CLASS_NAME,\"cr-widget-Histogram\")))\n",
    "            url_tag5 = driver.find_element_by_xpath('//a[@class=\"a-link-normal 5star\"]')\n",
    "            url_tag4 = driver.find_element_by_xpath('//a[@class=\"a-link-normal 4star\"]')\n",
    "            url_tag3 = driver.find_element_by_xpath('//a[@class=\"a-link-normal 3star\"]')\n",
    "            url_tag2 = driver.find_element_by_xpath('//a[@class=\"a-link-normal 2star\"]')\n",
    "            url_tag1 = driver.find_element_by_xpath('//a[@class=\"a-link-normal 1star\"]')\n",
    "\n",
    "            rating_url_temp.append(url_tag5.get_attribute(\"href\"))\n",
    "            rating_url_temp.append(url_tag4.get_attribute(\"href\"))\n",
    "            rating_url_temp.append(url_tag3.get_attribute(\"href\"))\n",
    "            rating_url_temp.append(url_tag2.get_attribute(\"href\"))\n",
    "            rating_url_temp.append(url_tag1.get_attribute(\"href\"))\n",
    "        except NoSuchElementException as e:\n",
    "            pass\n",
    "\n",
    "    print(len(rating_url_temp))"
   ]
  },
  {
   "cell_type": "code",
   "execution_count": 203,
   "id": "8befbd83",
   "metadata": {},
   "outputs": [
    {
     "name": "stdout",
     "output_type": "stream",
     "text": [
      "505\n"
     ]
    }
   ],
   "source": [
    "rating_page(0,125)"
   ]
  },
  {
   "cell_type": "code",
   "execution_count": 219,
   "id": "aadb52c3",
   "metadata": {},
   "outputs": [
    {
     "name": "stdout",
     "output_type": "stream",
     "text": [
      "505\n"
     ]
    }
   ],
   "source": [
    "rating_url.extend(rating_url_temp)\n",
    "print(len(rating_url))"
   ]
  },
  {
   "cell_type": "code",
   "execution_count": 222,
   "id": "998ee78e",
   "metadata": {},
   "outputs": [
    {
     "name": "stdout",
     "output_type": "stream",
     "text": [
      "535\n"
     ]
    }
   ],
   "source": [
    "rating_page(125,250)"
   ]
  },
  {
   "cell_type": "code",
   "execution_count": 223,
   "id": "3f186e9f",
   "metadata": {},
   "outputs": [
    {
     "name": "stdout",
     "output_type": "stream",
     "text": [
      "1040\n"
     ]
    }
   ],
   "source": [
    "rating_url.extend(rating_url_temp)\n",
    "print(len(rating_url))"
   ]
  },
  {
   "cell_type": "code",
   "execution_count": 231,
   "id": "3e0858b9",
   "metadata": {},
   "outputs": [
    {
     "name": "stdout",
     "output_type": "stream",
     "text": [
      "9319\n",
      "9248\n",
      "9248\n"
     ]
    }
   ],
   "source": [
    "reviews = []\n",
    "review_title = []\n",
    "ratings = []\n",
    "\n",
    "try:\n",
    "    driver.close()\n",
    "except:\n",
    "    pass\n",
    "\n",
    "chrome_options = webdriver.ChromeOptions()\n",
    "chrome_options.add_argument(\"--incognito\")\n",
    "\n",
    "driver = webdriver.Chrome('chromedriver.exe', chrome_options = chrome_options)\n",
    "driver.maximize_window()\n",
    "time.sleep(1)\n",
    "\n",
    "for ur in rating_url:\n",
    "    try:\n",
    "        driver.get(ur)\n",
    "        time.sleep(2)\n",
    "    except:\n",
    "        time.sleep(1)\n",
    "        driver.get(ur)\n",
    "        time.sleep(2)\n",
    "\n",
    "    reviews_temp = []\n",
    "    ratings_temp = []\n",
    "    title_temp = []\n",
    "\n",
    "    while len(reviews_temp)<15:\n",
    "\n",
    "        try:\n",
    "            height = driver.execute_script(\"return document.body.scrollHeight\")\n",
    "            driver.execute_script(\"window.scrollTo(0, {})\".format(height-2000))\n",
    "\n",
    "            #Collecting the required data for each product\n",
    "\n",
    "            #Scraping the reviews\n",
    "            WebDriverWait(driver,delay).until(EC.presence_of_element_located((By.CSS_SELECTOR,'div.a-text-left.a-fixed-left-grid-col.reviewNumericalSummary.celwidget.a-col-left > div.a-row.a-spacing-mini.customerReviewsTitle > h2')))\n",
    "            try:    \n",
    "                try:\n",
    "                    review_tags = driver.find_elements_by_xpath(\"//span[@class = 'a-size-base review-text review-text-content']\")\n",
    "                    for i in review_tags:\n",
    "                        reviews_temp.append(i.text)\n",
    "                except NoSuchElementException as e:\n",
    "                    reviews_temp.append(\"-\")\n",
    "            except StaleElementReferenceException as e:      \n",
    "                try:\n",
    "                    review_tags = driver.find_elements_by_css_selector(\"customer_review-RZLY8VF7RJZ0D > div.a-row.a-spacing-small.review-data > span > span\")\n",
    "                    for i in review_tags:\n",
    "                        reviews_temp.append(i.text)\n",
    "                except NoSuchElementException as e:\n",
    "                    reviews_temp.append(\"-\")\n",
    "\n",
    "\n",
    "\n",
    "            #Scraping ratings\n",
    "            WebDriverWait(driver,delay).until(EC.presence_of_element_located((By.CSS_SELECTOR,'div.navFooterVerticalColumn.navAccessibility > div > div:nth-child(3) > div')))\n",
    "\n",
    "            try:\n",
    "                try:\n",
    "                    rating_tags = driver.find_elements_by_xpath(\"//i[@data-hook = 'review-star-rating']/span\")\n",
    "                    for rat in rating_tags:\n",
    "                        ratings_temp.append(rat.get_attribute(\"innerHTML\"))\n",
    "                except NoSuchElementException as e:\n",
    "                    ratings_temp.append(\"-\")\n",
    "            except StaleElementReferenceException as e:\n",
    "                try:\n",
    "                    rating_tags = driver.find_elements_by_css_selector(\"customer_review-R12439CVGE5HDA >  > a:nth-child(1) > i > span\")\n",
    "                    for rat in rating_tags:\n",
    "                        ratings_temp.append(rat.get_attribute(\"innerHTML\"))\n",
    "                except NoSuchElementException as e:\n",
    "                    ratings_temp.append(\"-\")\n",
    "\n",
    "            #Scraping review title\n",
    "            WebDriverWait(driver,delay).until(EC.presence_of_element_located((By.CSS_SELECTOR,'td.aok-nowrap > span.a-size-base > a')))\n",
    "            try:\n",
    "                try:\n",
    "                    title_tags = driver.find_elements_by_xpath(\"//a[@class = 'a-size-base a-link-normal review-title a-color-base review-title-content a-text-bold']\")\n",
    "                    for title in title_tags:\n",
    "                        title_temp.append(title.text)\n",
    "                except NoSuchElementException as e:\n",
    "                    title_temp.append(\"-\")\n",
    "            except StaleElementReferenceException as e:\n",
    "\n",
    "                try:\n",
    "                    title_tags = driver.find_elements_by_css_selector(\"div.a-expander-content.a-expander-partial-collapse-content > > span.a-size-base.review-title.a-text-bold\")\n",
    "                    for title in title_tags:\n",
    "                        title_temp.append(title.text)\n",
    "                except NoSuchElementException as e:\n",
    "                    title_temp.append(\"-\")\n",
    "\n",
    "            try:\n",
    "                next_page_button = driver.find_element_by_class(\"//li[@class = 'a-last']\")\n",
    "                next_page_button.click()\n",
    "            except AttributeError as e:\n",
    "                break\n",
    "\n",
    "        except NoSuchElementException as e:\n",
    "            break\n",
    "\n",
    "    reviews.extend(reviews_temp[:15])\n",
    "    ratings.extend(ratings_temp[:15])\n",
    "    review_title.extend(title_temp[:15])\n",
    "\n",
    "    time.sleep(1)\n",
    "            \n",
    "\n",
    "            \n",
    "print(len(reviews))\n",
    "print(len(ratings))\n",
    "print(len(review_title))"
   ]
  },
  {
   "cell_type": "code",
   "execution_count": 234,
   "id": "da42f56e",
   "metadata": {},
   "outputs": [
    {
     "name": "stdout",
     "output_type": "stream",
     "text": [
      "9248\n",
      "9248\n",
      "9248\n"
     ]
    }
   ],
   "source": [
    "reviews = reviews[:9248]\n",
    "print(len(reviews))\n",
    "print(len(ratings))\n",
    "print(len(review_title))"
   ]
  },
  {
   "cell_type": "markdown",
   "id": "7c2c8cc9",
   "metadata": {},
   "source": [
    "We have scraped 9248 records from Amazon.in"
   ]
  },
  {
   "cell_type": "markdown",
   "id": "f5f6cdc4",
   "metadata": {},
   "source": [
    "Scraping data from flipkart.com"
   ]
  },
  {
   "cell_type": "code",
   "execution_count": 329,
   "id": "56b5f535",
   "metadata": {},
   "outputs": [],
   "source": [
    "driver = webdriver.Chrome('chromedriver.exe', chrome_options = chrome_options)\n",
    "driver.maximize_window()\n",
    "time.sleep(1)"
   ]
  },
  {
   "cell_type": "code",
   "execution_count": 319,
   "id": "976d24e9",
   "metadata": {},
   "outputs": [
    {
     "name": "stdout",
     "output_type": "stream",
     "text": [
      "640\n"
     ]
    }
   ],
   "source": [
    "flip_urls = []\n",
    "for pr in products:\n",
    "    driver.get('https://www.flipkart.com')\n",
    "    time.sleep(1)\n",
    "    try:\n",
    "        login_popup = driver.find_element_by_xpath(\"//button[@class = '_2KpZ6l _2doB4z']\")\n",
    "        login_popup.click()\n",
    "    except NoSuchElementException as e:\n",
    "        pass\n",
    "    \n",
    "    search_field = driver.find_element_by_xpath(\"//input[@class = '_3704LK']\")\n",
    "    search_field.send_keys(pr)\n",
    "    time.sleep(1)\n",
    "    search_button = driver.find_element_by_css_selector(\"form > ul > li:nth-child(1) > div > a > div.lrtEPN._17d0yO\")\n",
    "    search_button.click()\n",
    "    time.sleep(1)\n",
    "    \n",
    "    \n",
    "    #scraping the urls for the products\n",
    "    try:\n",
    "        WebDriverWait(driver, delay).until(EC.presence_of_element_located((By.CLASS_NAME,\"_1fQZEK\")))\n",
    "        flip_url_tags = driver.find_elements_by_xpath(\"//a[@class = '_1fQZEK']\")\n",
    "        for ur in flip_url_tags:\n",
    "            flip_urls.append(ur.get_attribute(\"href\"))\n",
    "    except (NoSuchElementException, TimeoutException) as e: \n",
    "        WebDriverWait(driver, delay).until(EC.presence_of_element_located((By.CLASS_NAME,\"_2rpwqI\")))\n",
    "        flip_url_tags = driver.find_elements_by_xpath(\"//a[@class = '_2rpwqI']\")\n",
    "        for ur in flip_url_tags:\n",
    "            flip_urls.append(ur.get_attribute(\"href\"))\n",
    "        \n",
    "    \n",
    "    #clicking the next button\n",
    "    height = driver.execute_script(\"return document.body.scrollHeight\")\n",
    "    driver.execute_script(\"window.scrollTo(0, {})\".format(height-2500))\n",
    "\n",
    "    try:\n",
    "        next_flip_page = driver.find_element_by_css_selector(\"div._36fx1h._6t1WkM._3HqJxg > div._1YokD2._2GoDe3 > div:nth-child(2) > div:nth-child(26) > div > div > nav > a._1LKTO3\")\n",
    "        next_flip_page.click()\n",
    "        time.sleep(1)\n",
    "    except (NoSuchElementException, TimeoutException) as e:\n",
    "        next_flip_page = driver.find_element_by_css_selector(\"div._36fx1h._6t1WkM._3HqJxg > div._1YokD2._2GoDe3 > div:nth-child(2) > div:nth-child(12) > div > div > nav > a._1LKTO3 > span\")\n",
    "        next_flip_page.click()\n",
    "        time.sleep(1)\n",
    "    \n",
    "    try:\n",
    "        WebDriverWait(driver, delay).until(EC.presence_of_element_located((By.CLASS_NAME,\"_1fQZEK\")))\n",
    "        flip_url_tags = driver.find_elements_by_xpath(\"//a[@class = '_1fQZEK']\")\n",
    "        for ur in flip_url_tags:\n",
    "            flip_urls.append(ur.get_attribute(\"href\"))\n",
    "    except (NoSuchElementException, TimeoutException) as e: \n",
    "        WebDriverWait(driver, delay).until(EC.presence_of_element_located((By.CLASS_NAME,\"_2rpwqI\")))\n",
    "        flip_url_tags = driver.find_elements_by_xpath(\"//a[@class = '_2rpwqI']\")\n",
    "        for ur in flip_url_tags:\n",
    "            flip_urls.append(ur.get_attribute(\"href\"))\n",
    "\n",
    "print(len(flip_urls))"
   ]
  },
  {
   "cell_type": "code",
   "execution_count": 395,
   "id": "5132a098",
   "metadata": {},
   "outputs": [],
   "source": [
    "\n",
    "\n",
    "\n"
   ]
  },
  {
   "cell_type": "code",
   "execution_count": 410,
   "id": "446afc0c",
   "metadata": {},
   "outputs": [],
   "source": [
    "#Scraping the required data from the urls\n",
    "flip_ratings = []\n",
    "flip_reviews = []\n",
    "flip_titles = []\n",
    "\n",
    "flip_ratings_temp = []\n",
    "flip_reviews_temp = []\n",
    "flip_titles_temp = []\n",
    "\n",
    "#User defined function for scraping the records from flipkart.com\n",
    "\n",
    "def flip_scrape(a,b):\n",
    "    \n",
    "    driver = webdriver.Chrome('chromedriver.exe', chrome_options = chrome_options)\n",
    "    driver.maximize_window()\n",
    "    time.sleep(1)\n",
    "    \n",
    "    global flip_ratings_temp, flip_reviews_temp, flip_titles_temp\n",
    "    flip_ratings_temp = []\n",
    "    flip_reviews_temp = []\n",
    "    flip_titles_temp = []\n",
    "\n",
    "    for page in flip_urls[a:b]:\n",
    "        \n",
    "\n",
    "        try:\n",
    "            driver.get(page)\n",
    "            time.sleep(1)\n",
    "        except WebDriverException as e:\n",
    "            time.sleep(1)\n",
    "            driver.get(page)\n",
    "            time.sleep(1)\n",
    "\n",
    "        try:\n",
    "            flip_all_review = driver.find_element_by_xpath(\"//div[@class = '_3UAT2v _16PBlm']\")\n",
    "            flip_all_review.click()\n",
    "\n",
    "                #Selecting the filter -'Most Recent'\n",
    "            try:\n",
    "                WebDriverWait(driver, delay).until(EC.presence_of_element_located((By.CSS_SELECTOR,\"div._1YokD2._3Mn1Gg.col-12-12 > div > div:nth-child(2) > div > div > div > div > select\")))\n",
    "                flip_filter = driver.find_element_by_xpath(\"//select[@class = '_1EDlbo tVKh2S']\")\n",
    "                flip_filter.click()\n",
    "                time.sleep(1)\n",
    "            except (NoSuchElementException, TimeoutException) as e:\n",
    "                flip_filter = driver.find_element_by_xpath(\"//div[@id='container']/div/div[3]/div/div/div[2]/div[1]/div/div[2]/div/div/div/div/select\")\n",
    "                flip_filter.click()\n",
    "                time.sleep(1)\n",
    "            try:\n",
    "                WebDriverWait(driver, delay).until(EC.presence_of_element_located((By.CSS_SELECTOR,\"div._1YokD2._2GoDe3.col-12-12 > div:nth-child(2) > div > div > div > div > select > option:nth-child(2)\")))\n",
    "                most_recent_button = driver.find_element_by_xpath(\"//div[@id='container']/div/div[3]/div/div/div[2]/div[1]/div/div[2]/div/div/div/div/select/option[2]\")\n",
    "                most_recent_button.click()\n",
    "            except (NoSuchElementException,StaleElementReferenceException, TimeoutException) as e:\n",
    "                most_recent_button = driver.find_element_by_xpath(\"//option[@value = 'MOST_RECENT]\")\n",
    "                most_recent_button.click()\n",
    "\n",
    "            #Data collection\n",
    "            #Scraping the ratings\n",
    "            try:\n",
    "                try:\n",
    "                    WebDriverWait(driver, delay).until(EC.presence_of_element_located((By.CLASS_NAME,\"_3-dnWo\")))\n",
    "                    flip_ratings_tags = driver.find_elements_by_xpath(\"//div[@class = 'col _2wzgFH K0kLPL']/div[1]/div[1]\")\n",
    "                    for rat in flip_ratings_tags:\n",
    "                        flip_ratings_temp.append(rat.text)\n",
    "                except (StaleElementReferenceException, TimeoutException) as e:\n",
    "                    most_recent_button.click()\n",
    "                    flip_ratings_tags = driver.find_elements_by_xpath(\"//div[@class = 'col _2wzgFH K0kLPL']/div[1]/div[1]\")\n",
    "                    for rat in flip_ratings_tags:\n",
    "                        flip_ratings_temp.append(rat.text)\n",
    "            except NoSuchElementException as e:\n",
    "                flip_ratings_temp.append(\"-\")\n",
    "\n",
    "\n",
    "\n",
    "            #Scraping the reviews\n",
    "            try:\n",
    "                try:\n",
    "                    WebDriverWait(driver, delay).until(EC.presence_of_element_located((By.CLASS_NAME,\"_3-dnWo\")))\n",
    "                    flip_reviews_tags = driver.find_elements_by_xpath(\"//div[@class = 'col _2wzgFH K0kLPL']/div[2]/div[1]\")\n",
    "                    for rev in flip_reviews_tags:\n",
    "                        flip_reviews_temp.append(rev.text)\n",
    "                except (StaleElementReferenceException, TimeoutException) as e:\n",
    "                    most_recent_button.click()\n",
    "                    flip_reviews_tags = driver.find_elements_by_xpath(\"//div[@class = 'col _2wzgFH K0kLPL']/div[2]/div[1]\")\n",
    "                    for rev in flip_reviews_tags:\n",
    "                        flip_reviews_temp.append(rev.text)\n",
    "            except NoSuchElementException as e:\n",
    "                flip_reviews_temp.append(\"-\")\n",
    "\n",
    "            #Scraping the review titles\n",
    "            try:\n",
    "                try:\n",
    "                    WebDriverWait(driver, delay).until(EC.presence_of_element_located((By.CLASS_NAME,\"c_3-dnWo\")))\n",
    "                    flip_title_tags = driver.find_elements_by_xpath(\"//p[@class = '_2-N8zT']\")\n",
    "                    for title in flip_title_tags:\n",
    "                        flip_titles_temp.append(title.text)\n",
    "                except (StaleElementReferenceException, TimeoutException) as e:\n",
    "                    most_recent_button.click()\n",
    "                    flip_title_tags = driver.find_elements_by_xpath(\"//p[@class = '_2-N8zT']\")\n",
    "                    for title in flip_title_tags:\n",
    "                        flip_titles_temp.append(title.text)\n",
    "            except NoSuchElementException as e:\n",
    "                flip_titles_temp.append(\"-\")\n",
    "\n",
    "\n",
    "            #clicking the next page\n",
    "\n",
    "            try:\n",
    "                try:\n",
    "                    next_review_page = driver.find_element_by_xpath(\"//a[@class = '_1LKTO3']\")\n",
    "                    next_review_page.click()\n",
    "                except ElementClickInterceptedException as e:\n",
    "                    height = driver.execute_script(\"return document.body.scrollHeight\")\n",
    "                    driver.execute_script(\"window.scrollTo({}, 0)\".format(height-2000))\n",
    "                    next_review_page = driver.find_element_by_css_selector(\"div._1YokD2._3Mn1Gg.col-9-12 > div:nth-child(13) > div > div > nav > a._1LKTO3 > span\")\n",
    "                    next_review_page.click()\n",
    "\n",
    "            except NoSuchElementException as e:\n",
    "                pass\n",
    "            \n",
    "        except NoSuchElementException as e:\n",
    "            pass\n",
    "\n",
    "\n",
    "\n",
    "\n",
    "    print(len(flip_ratings_temp))\n",
    "    print(len(flip_reviews_temp))\n",
    "    print(len(flip_titles_temp))\n",
    "    driver.close()"
   ]
  },
  {
   "cell_type": "code",
   "execution_count": 411,
   "id": "6bcb4bd5",
   "metadata": {},
   "outputs": [],
   "source": [
    "#User defined function\n",
    "\n",
    "def flip_copy():\n",
    "    for rating,review,title in zip(flip_ratings_temp, flip_reviews_temp, flip_titles_temp):\n",
    "        flip_ratings.append(rating)\n",
    "        flip_reviews.append(review)\n",
    "        flip_titles.append(title)\n",
    "\n",
    "    print(len(flip_ratings))\n",
    "    print(len(flip_reviews))\n",
    "    print(len(flip_titles))"
   ]
  },
  {
   "cell_type": "code",
   "execution_count": 412,
   "id": "95a32553",
   "metadata": {},
   "outputs": [
    {
     "name": "stdout",
     "output_type": "stream",
     "text": [
      "2274\n",
      "2018\n",
      "1801\n"
     ]
    }
   ],
   "source": [
    "flip_scrape(0,200)"
   ]
  },
  {
   "cell_type": "code",
   "execution_count": 413,
   "id": "469012ba",
   "metadata": {},
   "outputs": [
    {
     "name": "stdout",
     "output_type": "stream",
     "text": [
      "1801\n",
      "1801\n",
      "1801\n"
     ]
    }
   ],
   "source": [
    "flip_copy()"
   ]
  },
  {
   "cell_type": "code",
   "execution_count": 415,
   "id": "b89e8d16",
   "metadata": {},
   "outputs": [
    {
     "name": "stdout",
     "output_type": "stream",
     "text": [
      "1726\n",
      "1352\n",
      "1261\n"
     ]
    }
   ],
   "source": [
    "flip_scrape(200,400)"
   ]
  },
  {
   "cell_type": "code",
   "execution_count": 416,
   "id": "900ea3ae",
   "metadata": {},
   "outputs": [
    {
     "name": "stdout",
     "output_type": "stream",
     "text": [
      "3062\n",
      "3062\n",
      "3062\n"
     ]
    }
   ],
   "source": [
    "flip_copy()"
   ]
  },
  {
   "cell_type": "code",
   "execution_count": 419,
   "id": "67d00558",
   "metadata": {
    "scrolled": true
   },
   "outputs": [
    {
     "name": "stdout",
     "output_type": "stream",
     "text": [
      "2064\n",
      "2317\n",
      "1861\n"
     ]
    }
   ],
   "source": [
    "flip_scrape(400,640)"
   ]
  },
  {
   "cell_type": "code",
   "execution_count": 428,
   "id": "50047982",
   "metadata": {},
   "outputs": [
    {
     "name": "stdout",
     "output_type": "stream",
     "text": [
      "12367\n",
      "12367\n",
      "12367\n"
     ]
    }
   ],
   "source": [
    "flip_copy()"
   ]
  },
  {
   "cell_type": "code",
   "execution_count": 429,
   "id": "9849f76f",
   "metadata": {},
   "outputs": [
    {
     "data": {
      "text/html": [
       "<div>\n",
       "<style scoped>\n",
       "    .dataframe tbody tr th:only-of-type {\n",
       "        vertical-align: middle;\n",
       "    }\n",
       "\n",
       "    .dataframe tbody tr th {\n",
       "        vertical-align: top;\n",
       "    }\n",
       "\n",
       "    .dataframe thead th {\n",
       "        text-align: right;\n",
       "    }\n",
       "</style>\n",
       "<table border=\"1\" class=\"dataframe\">\n",
       "  <thead>\n",
       "    <tr style=\"text-align: right;\">\n",
       "      <th></th>\n",
       "      <th>Review Title</th>\n",
       "      <th>Reviews</th>\n",
       "      <th>Ratings</th>\n",
       "    </tr>\n",
       "  </thead>\n",
       "  <tbody>\n",
       "    <tr>\n",
       "      <th>0</th>\n",
       "      <td>Satisfied with the product</td>\n",
       "      <td></td>\n",
       "      <td>5.0 out of 5 stars</td>\n",
       "    </tr>\n",
       "    <tr>\n",
       "      <th>1</th>\n",
       "      <td>Nice..</td>\n",
       "      <td>Most of them reviewed negatively about the sel...</td>\n",
       "      <td>5.0 out of 5 stars</td>\n",
       "    </tr>\n",
       "    <tr>\n",
       "      <th>2</th>\n",
       "      <td>Nice Product Quality</td>\n",
       "      <td>Awsome Product always recommended</td>\n",
       "      <td>5.0 out of 5 stars</td>\n",
       "    </tr>\n",
       "    <tr>\n",
       "      <th>3</th>\n",
       "      <td>Very good laptop in its segment. Works well wi...</td>\n",
       "      <td>Battery is good.. With 75% brightness and cont...</td>\n",
       "      <td>5.0 out of 5 stars</td>\n",
       "    </tr>\n",
       "    <tr>\n",
       "      <th>4</th>\n",
       "      <td>Good product</td>\n",
       "      <td>Like</td>\n",
       "      <td>5.0 out of 5 stars</td>\n",
       "    </tr>\n",
       "    <tr>\n",
       "      <th>...</th>\n",
       "      <td>...</td>\n",
       "      <td>...</td>\n",
       "      <td>...</td>\n",
       "    </tr>\n",
       "    <tr>\n",
       "      <th>12362</th>\n",
       "      <td>Delightful</td>\n",
       "      <td>Nice power bank</td>\n",
       "      <td>3</td>\n",
       "    </tr>\n",
       "    <tr>\n",
       "      <th>12363</th>\n",
       "      <td>Moderate</td>\n",
       "      <td>Go for it</td>\n",
       "      <td>5</td>\n",
       "    </tr>\n",
       "    <tr>\n",
       "      <th>12364</th>\n",
       "      <td>Terrible product</td>\n",
       "      <td>Please don’t buy it . It doesn’t work after so...</td>\n",
       "      <td>4</td>\n",
       "    </tr>\n",
       "    <tr>\n",
       "      <th>12365</th>\n",
       "      <td>Could be way better</td>\n",
       "      <td>Very heating</td>\n",
       "      <td>5</td>\n",
       "    </tr>\n",
       "    <tr>\n",
       "      <th>12366</th>\n",
       "      <td>Awesome</td>\n",
       "      <td>Best power bank\\nWorth to buy</td>\n",
       "      <td>5</td>\n",
       "    </tr>\n",
       "  </tbody>\n",
       "</table>\n",
       "<p>21615 rows × 3 columns</p>\n",
       "</div>"
      ],
      "text/plain": [
       "                                            Review Title  \\\n",
       "0                             Satisfied with the product   \n",
       "1                                                 Nice..   \n",
       "2                                   Nice Product Quality   \n",
       "3      Very good laptop in its segment. Works well wi...   \n",
       "4                                           Good product   \n",
       "...                                                  ...   \n",
       "12362                                         Delightful   \n",
       "12363                                           Moderate   \n",
       "12364                                   Terrible product   \n",
       "12365                                Could be way better   \n",
       "12366                                            Awesome   \n",
       "\n",
       "                                                 Reviews             Ratings  \n",
       "0                                                         5.0 out of 5 stars  \n",
       "1      Most of them reviewed negatively about the sel...  5.0 out of 5 stars  \n",
       "2                      Awsome Product always recommended  5.0 out of 5 stars  \n",
       "3      Battery is good.. With 75% brightness and cont...  5.0 out of 5 stars  \n",
       "4                                                   Like  5.0 out of 5 stars  \n",
       "...                                                  ...                 ...  \n",
       "12362                                    Nice power bank                   3  \n",
       "12363                                          Go for it                   5  \n",
       "12364  Please don’t buy it . It doesn’t work after so...                   4  \n",
       "12365                                       Very heating                   5  \n",
       "12366                      Best power bank\\nWorth to buy                   5  \n",
       "\n",
       "[21615 rows x 3 columns]"
      ]
     },
     "execution_count": 429,
     "metadata": {},
     "output_type": "execute_result"
    }
   ],
   "source": [
    "amazon = pd.DataFrame({})\n",
    "amazon['Review Title'] = review_title\n",
    "amazon['Reviews'] = reviews\n",
    "amazon['Ratings'] = ratings\n",
    "\n",
    "flipkart = pd.DataFrame({})\n",
    "flipkart['Review Title'] = flip_titles\n",
    "flipkart['Reviews'] = flip_reviews\n",
    "flipkart['Ratings'] = flip_ratings\n",
    "\n",
    "ratings_data = pd.concat([amazon,flipkart])\n",
    "ratings_data"
   ]
  },
  {
   "cell_type": "code",
   "execution_count": 430,
   "id": "7cd67dfe",
   "metadata": {},
   "outputs": [],
   "source": [
    "ratings_data.to_csv('ratings.csv', index = False)"
   ]
  },
  {
   "cell_type": "markdown",
   "id": "f5ce1638",
   "metadata": {},
   "source": [
    "We have saved the dataset with 21615 records"
   ]
  }
 ],
 "metadata": {
  "kernelspec": {
   "display_name": "Python 3 (ipykernel)",
   "language": "python",
   "name": "python3"
  },
  "language_info": {
   "codemirror_mode": {
    "name": "ipython",
    "version": 3
   },
   "file_extension": ".py",
   "mimetype": "text/x-python",
   "name": "python",
   "nbconvert_exporter": "python",
   "pygments_lexer": "ipython3",
   "version": "3.8.8"
  }
 },
 "nbformat": 4,
 "nbformat_minor": 5
}
